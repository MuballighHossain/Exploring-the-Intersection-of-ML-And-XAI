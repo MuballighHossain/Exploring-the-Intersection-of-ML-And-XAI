{
  "cells": [
    {
      "cell_type": "code",
      "source": [
        "#Importing important librarys\n",
        "import pandas as pd\n",
        "import time\n",
        "import numpy as np\n",
        "import seaborn as sns\n",
        "import matplotlib.pyplot as plt\n",
        "%matplotlib inline \n",
        "from sklearn.preprocessing import LabelEncoder\n",
        "from sklearn.tree import DecisionTreeClassifier\n",
        "from sklearn.linear_model import LogisticRegression\n",
        "from sklearn.metrics import classification_report\n",
        "from sklearn.metrics import accuracy_score\n",
        "from sklearn.model_selection import train_test_split\n",
        "from sklearn import preprocessing\n",
        "le = preprocessing.LabelEncoder()\n",
        "import warnings\n",
        "warnings.filterwarnings('ignore')"
      ],
      "metadata": {
        "id": "CdZGdzt1ynoF"
      },
      "execution_count": null,
      "outputs": []
    },
    {
      "cell_type": "code",
      "source": [
        "from google.colab import drive\n",
        "drive.mount('/content/drive')"
      ],
      "metadata": {
        "id": "uRJSTaMvymTF"
      },
      "execution_count": null,
      "outputs": []
    },
    {
      "cell_type": "code",
      "execution_count": null,
      "metadata": {
        "id": "FhujlXnwyXfJ",
        "outputId": "6582bacf-b334-4dcf-fbf5-e760265839fe"
      },
      "outputs": [
        {
          "name": "stderr",
          "output_type": "stream",
          "text": [
            "C:\\Users\\mashr\\AppData\\Local\\Temp\\ipykernel_1724\\3913957181.py:5: DtypeWarning: Columns (2,3,4,6,7,8) have mixed types. Specify dtype option on import or set low_memory=False.\n",
            "  linux_mem2 = pd.read_csv(path2)\n"
          ]
        },
        {
          "name": "stdout",
          "output_type": "stream",
          "text": [
            "(1000000, 13)\n",
            "(1000000, 13)\n",
            "(2000000, 13)\n"
          ]
        },
        {
          "data": {
            "text/html": [
              "<div>\n",
              "<style scoped>\n",
              "    .dataframe tbody tr th:only-of-type {\n",
              "        vertical-align: middle;\n",
              "    }\n",
              "\n",
              "    .dataframe tbody tr th {\n",
              "        vertical-align: top;\n",
              "    }\n",
              "\n",
              "    .dataframe thead th {\n",
              "        text-align: right;\n",
              "    }\n",
              "</style>\n",
              "<table border=\"1\" class=\"dataframe\">\n",
              "  <thead>\n",
              "    <tr style=\"text-align: right;\">\n",
              "      <th></th>\n",
              "      <th>ts</th>\n",
              "      <th>PID</th>\n",
              "      <th>MINFLT</th>\n",
              "      <th>MAJFLT</th>\n",
              "      <th>VSTEXT</th>\n",
              "      <th>VSIZE</th>\n",
              "      <th>RSIZE</th>\n",
              "      <th>VGROW</th>\n",
              "      <th>RGROW</th>\n",
              "      <th>MEM</th>\n",
              "      <th>CMD</th>\n",
              "      <th>label</th>\n",
              "      <th>type</th>\n",
              "    </tr>\n",
              "  </thead>\n",
              "  <tbody>\n",
              "    <tr>\n",
              "      <th>0</th>\n",
              "      <td>1554218915</td>\n",
              "      <td>3257</td>\n",
              "      <td>859502</td>\n",
              "      <td>54</td>\n",
              "      <td>193</td>\n",
              "      <td>2.0</td>\n",
              "      <td>519.1</td>\n",
              "      <td>2.0</td>\n",
              "      <td>519.1</td>\n",
              "      <td>0.14</td>\n",
              "      <td>Web-Content</td>\n",
              "      <td>0</td>\n",
              "      <td>normal</td>\n",
              "    </tr>\n",
              "    <tr>\n",
              "      <th>1</th>\n",
              "      <td>1554218920</td>\n",
              "      <td>3197</td>\n",
              "      <td>247354</td>\n",
              "      <td>95</td>\n",
              "      <td>193</td>\n",
              "      <td>2.6</td>\n",
              "      <td>402.0</td>\n",
              "      <td>2.6</td>\n",
              "      <td>402.0</td>\n",
              "      <td>0.11</td>\n",
              "      <td>firefox</td>\n",
              "      <td>0</td>\n",
              "      <td>normal</td>\n",
              "    </tr>\n",
              "    <tr>\n",
              "      <th>2</th>\n",
              "      <td>1554218925</td>\n",
              "      <td>1442</td>\n",
              "      <td>57311</td>\n",
              "      <td>33</td>\n",
              "      <td>2219</td>\n",
              "      <td>764.2</td>\n",
              "      <td>290.7</td>\n",
              "      <td>764.2</td>\n",
              "      <td>290.7</td>\n",
              "      <td>0.08</td>\n",
              "      <td>Xorg</td>\n",
              "      <td>0</td>\n",
              "      <td>normal</td>\n",
              "    </tr>\n",
              "    <tr>\n",
              "      <th>3</th>\n",
              "      <td>1554218930</td>\n",
              "      <td>3119</td>\n",
              "      <td>68006</td>\n",
              "      <td>17</td>\n",
              "      <td>3063</td>\n",
              "      <td>725.9</td>\n",
              "      <td>116.8</td>\n",
              "      <td>725.9</td>\n",
              "      <td>116.8</td>\n",
              "      <td>0.03</td>\n",
              "      <td>update-manager</td>\n",
              "      <td>0</td>\n",
              "      <td>normal</td>\n",
              "    </tr>\n",
              "    <tr>\n",
              "      <th>4</th>\n",
              "      <td>1554218935</td>\n",
              "      <td>2797</td>\n",
              "      <td>72300</td>\n",
              "      <td>69</td>\n",
              "      <td>1350</td>\n",
              "      <td>1.4</td>\n",
              "      <td>109.6</td>\n",
              "      <td>1.4</td>\n",
              "      <td>109.6</td>\n",
              "      <td>0.03</td>\n",
              "      <td>nautilus</td>\n",
              "      <td>0</td>\n",
              "      <td>normal</td>\n",
              "    </tr>\n",
              "  </tbody>\n",
              "</table>\n",
              "</div>"
            ],
            "text/plain": [
              "           ts   PID  MINFLT MAJFLT VSTEXT  VSIZE  RSIZE  VGROW  RGROW   MEM  \\\n",
              "0  1554218915  3257  859502     54    193    2.0  519.1    2.0  519.1  0.14   \n",
              "1  1554218920  3197  247354     95    193    2.6  402.0    2.6  402.0  0.11   \n",
              "2  1554218925  1442   57311     33   2219  764.2  290.7  764.2  290.7  0.08   \n",
              "3  1554218930  3119   68006     17   3063  725.9  116.8  725.9  116.8  0.03   \n",
              "4  1554218935  2797   72300     69   1350    1.4  109.6    1.4  109.6  0.03   \n",
              "\n",
              "              CMD  label    type  \n",
              "0     Web-Content      0  normal  \n",
              "1         firefox      0  normal  \n",
              "2            Xorg      0  normal  \n",
              "3  update-manager      0  normal  \n",
              "4        nautilus      0  normal  "
            ]
          },
          "execution_count": 1,
          "metadata": {},
          "output_type": "execute_result"
        }
      ],
      "source": [
        "import pandas as pd\n",
        "\n",
        "linux_mem1 = pd.read_csv('/content/drive/MyDrive/datasets/Linux_processed/linux_memory1.csv')\n",
        "linux_mem2 = pd.read_csv('/content/drive/MyDrive/datasets/Linux_processed/linux_memory2.csv')\n",
        "linux_mem = pd.concat([linux_mem1, linux_mem2])\n",
        "\n",
        "print(linux_mem.shape)\n",
        "linux_mem.head()"
      ]
    },
    {
      "cell_type": "code",
      "execution_count": null,
      "metadata": {
        "id": "0KbD4vfDyXfN",
        "outputId": "4ead9fe4-70c0-4b2c-d225-01549138fdb4"
      },
      "outputs": [
        {
          "data": {
            "text/html": [
              "<div>\n",
              "<style scoped>\n",
              "    .dataframe tbody tr th:only-of-type {\n",
              "        vertical-align: middle;\n",
              "    }\n",
              "\n",
              "    .dataframe tbody tr th {\n",
              "        vertical-align: top;\n",
              "    }\n",
              "\n",
              "    .dataframe thead th {\n",
              "        text-align: right;\n",
              "    }\n",
              "</style>\n",
              "<table border=\"1\" class=\"dataframe\">\n",
              "  <thead>\n",
              "    <tr style=\"text-align: right;\">\n",
              "      <th></th>\n",
              "      <th>PID</th>\n",
              "      <th>MINFLT</th>\n",
              "      <th>MAJFLT</th>\n",
              "      <th>VSTEXT</th>\n",
              "      <th>VSIZE</th>\n",
              "      <th>RSIZE</th>\n",
              "      <th>VGROW</th>\n",
              "      <th>RGROW</th>\n",
              "      <th>MEM</th>\n",
              "      <th>CMD</th>\n",
              "      <th>label</th>\n",
              "    </tr>\n",
              "  </thead>\n",
              "  <tbody>\n",
              "    <tr>\n",
              "      <th>0</th>\n",
              "      <td>3257</td>\n",
              "      <td>859502</td>\n",
              "      <td>54</td>\n",
              "      <td>193</td>\n",
              "      <td>2.0</td>\n",
              "      <td>519.1</td>\n",
              "      <td>2.0</td>\n",
              "      <td>519.1</td>\n",
              "      <td>0.14</td>\n",
              "      <td>Web-Content</td>\n",
              "      <td>0</td>\n",
              "    </tr>\n",
              "    <tr>\n",
              "      <th>1</th>\n",
              "      <td>3197</td>\n",
              "      <td>247354</td>\n",
              "      <td>95</td>\n",
              "      <td>193</td>\n",
              "      <td>2.6</td>\n",
              "      <td>402.0</td>\n",
              "      <td>2.6</td>\n",
              "      <td>402.0</td>\n",
              "      <td>0.11</td>\n",
              "      <td>firefox</td>\n",
              "      <td>0</td>\n",
              "    </tr>\n",
              "    <tr>\n",
              "      <th>2</th>\n",
              "      <td>1442</td>\n",
              "      <td>57311</td>\n",
              "      <td>33</td>\n",
              "      <td>2219</td>\n",
              "      <td>764.2</td>\n",
              "      <td>290.7</td>\n",
              "      <td>764.2</td>\n",
              "      <td>290.7</td>\n",
              "      <td>0.08</td>\n",
              "      <td>Xorg</td>\n",
              "      <td>0</td>\n",
              "    </tr>\n",
              "    <tr>\n",
              "      <th>3</th>\n",
              "      <td>3119</td>\n",
              "      <td>68006</td>\n",
              "      <td>17</td>\n",
              "      <td>3063</td>\n",
              "      <td>725.9</td>\n",
              "      <td>116.8</td>\n",
              "      <td>725.9</td>\n",
              "      <td>116.8</td>\n",
              "      <td>0.03</td>\n",
              "      <td>update-manager</td>\n",
              "      <td>0</td>\n",
              "    </tr>\n",
              "    <tr>\n",
              "      <th>4</th>\n",
              "      <td>2797</td>\n",
              "      <td>72300</td>\n",
              "      <td>69</td>\n",
              "      <td>1350</td>\n",
              "      <td>1.4</td>\n",
              "      <td>109.6</td>\n",
              "      <td>1.4</td>\n",
              "      <td>109.6</td>\n",
              "      <td>0.03</td>\n",
              "      <td>nautilus</td>\n",
              "      <td>0</td>\n",
              "    </tr>\n",
              "  </tbody>\n",
              "</table>\n",
              "</div>"
            ],
            "text/plain": [
              "    PID  MINFLT MAJFLT VSTEXT  VSIZE  RSIZE  VGROW  RGROW   MEM  \\\n",
              "0  3257  859502     54    193    2.0  519.1    2.0  519.1  0.14   \n",
              "1  3197  247354     95    193    2.6  402.0    2.6  402.0  0.11   \n",
              "2  1442   57311     33   2219  764.2  290.7  764.2  290.7  0.08   \n",
              "3  3119   68006     17   3063  725.9  116.8  725.9  116.8  0.03   \n",
              "4  2797   72300     69   1350    1.4  109.6    1.4  109.6  0.03   \n",
              "\n",
              "              CMD  label  \n",
              "0     Web-Content      0  \n",
              "1         firefox      0  \n",
              "2            Xorg      0  \n",
              "3  update-manager      0  \n",
              "4        nautilus      0  "
            ]
          },
          "execution_count": 2,
          "metadata": {},
          "output_type": "execute_result"
        }
      ],
      "source": [
        "linux_mem.drop('ts', axis = 1, inplace=True)\n",
        "linux_mem.drop('type', axis = 1, inplace= True)\n",
        "\n",
        "linux_mem.head()"
      ]
    },
    {
      "cell_type": "code",
      "execution_count": null,
      "metadata": {
        "id": "OCUd69wDyXfO",
        "outputId": "6d841d94-94c4-4a75-e637-518964e35b17"
      },
      "outputs": [
        {
          "name": "stdout",
          "output_type": "stream",
          "text": [
            "<class 'pandas.core.frame.DataFrame'>\n",
            "Int64Index: 2000000 entries, 0 to 999999\n",
            "Data columns (total 11 columns):\n",
            " #   Column  Dtype  \n",
            "---  ------  -----  \n",
            " 0   PID     int64  \n",
            " 1   MINFLT  object \n",
            " 2   MAJFLT  object \n",
            " 3   VSTEXT  object \n",
            " 4   VSIZE   float64\n",
            " 5   RSIZE   object \n",
            " 6   VGROW   object \n",
            " 7   RGROW   object \n",
            " 8   MEM     float64\n",
            " 9   CMD     object \n",
            " 10  label   int64  \n",
            "dtypes: float64(2), int64(2), object(7)\n",
            "memory usage: 183.1+ MB\n"
          ]
        }
      ],
      "source": [
        "linux_mem.info()"
      ]
    },
    {
      "cell_type": "code",
      "execution_count": null,
      "metadata": {
        "id": "MsMqQOs6yXfO",
        "outputId": "4ebd96be-7619-4839-927e-60133fc6caf4"
      },
      "outputs": [
        {
          "data": {
            "text/plain": [
              "0"
            ]
          },
          "execution_count": 4,
          "metadata": {},
          "output_type": "execute_result"
        }
      ],
      "source": [
        "linux_mem.isnull().sum().sum()"
      ]
    },
    {
      "cell_type": "code",
      "execution_count": null,
      "metadata": {
        "id": "oRqSOSOtyXfP"
      },
      "outputs": [],
      "source": [
        "linux_mem['VGROW'] = (linux_mem['VGROW'].replace([r'[KMB]+$', ' '], ['', '' ], regex=True).astype(float) * linux_mem['VGROW'].str.extract(r'[\\d\\.]+([KMB]+)', expand=False).fillna(1).replace(['K','M', 'B', ' '], [10**3, 10**6, 10**9, '']).astype(int))\n",
        "\n",
        "linux_mem['MINFLT'] = (linux_mem['MINFLT'].replace(r'[KMB]+$', '', regex=True).astype(float) * linux_mem['MINFLT'].str.extract(r'[\\d\\.]+([KMB]+)', expand=False).fillna(1).replace(['K','M', 'B'], [10**3, 10**6, 10**9]).astype(int))\n",
        "\n",
        "linux_mem['MAJFLT'] = (linux_mem['MAJFLT'].replace(r'[KMB]+$', '', regex=True).astype(float) * linux_mem['MAJFLT'].str.extract(r'[\\d\\.]+([KMB]+)', expand=False).fillna(1).replace(['K','M', 'B'], [10**3, 10**6, 10**9]).astype(int))\n",
        "\n",
        "linux_mem['VSTEXT'] = (linux_mem['VSTEXT'].replace(r'[KMB]+$', '', regex=True).astype(float) * linux_mem['VSTEXT'].str.extract(r'[\\d\\.]+([KMB]+)', expand=False).fillna(1).replace(['K','M', 'B'], [10**3, 10**6, 10**9]).astype(int))\n",
        "\n",
        "linux_mem['RGROW'] = (linux_mem['RGROW'].replace([r'[KMB]+$', ' '], ['', '' ], regex=True).astype(float) * linux_mem['RGROW'].str.extract(r'[\\d\\.]+([KMB]+)', expand=False).fillna(1).replace(['K','M', 'B'], [10**3, 10**6, 10**9]).astype(int))\n",
        "\n",
        "linux_mem['RSIZE'] = (linux_mem['RSIZE'].replace([r'[KMB]+$', ' '], ['', '' ], regex=True).astype(float) * linux_mem['RSIZE'].str.extract(r'[\\d\\.]+([KMB]+)', expand=False).fillna(1).replace(['K','M', 'B'], [10**3, 10**6, 10**9]).astype(int))\n"
      ]
    },
    {
      "cell_type": "code",
      "execution_count": null,
      "metadata": {
        "id": "uPBCXh0myXfP"
      },
      "outputs": [],
      "source": [
        "from sklearn import preprocessing\n",
        "le = preprocessing.LabelEncoder()\n",
        "linux_mem['CMD'] = le.fit_transform(linux_mem['CMD'])"
      ]
    },
    {
      "cell_type": "code",
      "execution_count": null,
      "metadata": {
        "id": "39QCBzFHyXfQ"
      },
      "outputs": [],
      "source": [
        "import matplotlib.pyplot as plt\n",
        "columns = linux_mem.columns\n",
        "for col in columns:\n",
        "    print(\"col: \", col)\n",
        "    linux_mem[col].hist(bins = 50)\n",
        "    plt.show()"
      ]
    },
    {
      "cell_type": "code",
      "execution_count": null,
      "metadata": {
        "id": "1imIpDLWyXfQ"
      },
      "outputs": [],
      "source": [
        "from sklearn.model_selection import StratifiedKFold\n",
        "skf = StratifiedKFold(n_splits=8, shuffle = True, random_state=3)"
      ]
    },
    {
      "cell_type": "code",
      "execution_count": null,
      "metadata": {
        "id": "8v5QTbW8yXfR"
      },
      "outputs": [],
      "source": [
        "from sklearn.metrics import f1_score, accuracy_score\n",
        "\n",
        "def get_accuracy_score(model, x_train, x_test, y_train, y_test):\n",
        "    model.fit(x_train, y_train)\n",
        "    y_pred= model.predict(x_test)\n",
        "    modelAccuracyTest = accuracy_score(y_pred,y_test)\n",
        "    return modelAccuracyTest\n",
        "\n",
        "def get_f1_score(model, x_train, x_test, y_train, y_test):\n",
        "    model.fit(x_train, y_train)\n",
        "    y_pred= model.predict(x_test)\n",
        "    modelF1Test = f1_score(y_pred,y_test)\n",
        "    return modelF1Test"
      ]
    },
    {
      "cell_type": "code",
      "execution_count": null,
      "metadata": {
        "id": "FXej9xLgyXfR"
      },
      "outputs": [],
      "source": [
        "x = linux_mem.drop('label', axis = 1)\n",
        "y = linux_mem['label']"
      ]
    },
    {
      "cell_type": "markdown",
      "metadata": {
        "id": "snFrzvHCyXfS"
      },
      "source": [
        "# Without Oversampling"
      ]
    },
    {
      "cell_type": "code",
      "execution_count": null,
      "metadata": {
        "id": "7FM7j1mKyXfT",
        "outputId": "8e46e493-bdad-43dd-9602-1f9f01cd865f"
      },
      "outputs": [
        {
          "name": "stdout",
          "output_type": "stream",
          "text": [
            "Accuracy Score RF:  0.928242\n",
            "F1 Score RF: 0.5986618314123534\n"
          ]
        }
      ],
      "source": [
        "from sklearn.ensemble import RandomForestClassifier\n",
        "from statistics import mean\n",
        "RF_accuracy_scores = []\n",
        "RF_f1_scores = []\n",
        "\n",
        "for train_index, test_index in skf.split(x, y):\n",
        "    x_train, x_test, y_train, y_test = x.iloc[train_index], x.iloc[test_index], y.iloc[train_index], y.iloc[test_index]\n",
        "\n",
        "    RF_accuracy_scores.append(get_accuracy_score(RandomForestClassifier(n_estimators=10, random_state = 10), x_train, x_test, y_train, y_test))\n",
        "    RF_f1_scores.append(get_f1_score(RandomForestClassifier(n_estimators=10, random_state = 10), x_train, x_test, y_train, y_test))\n",
        "\n",
        "print('Accuracy Score RF: ',mean(RF_accuracy_scores))\n",
        "print('F1 Score RF:', mean(RF_f1_scores))"
      ]
    },
    {
      "cell_type": "markdown",
      "metadata": {
        "id": "gLC3unX8yXfU"
      },
      "source": [
        "# Oversampling"
      ]
    },
    {
      "cell_type": "code",
      "execution_count": null,
      "metadata": {
        "id": "G8v12Xr1yXfU",
        "outputId": "c912a957-ddf1-462c-eea8-927120d3d0ea"
      },
      "outputs": [
        {
          "name": "stdout",
          "output_type": "stream",
          "text": [
            "Before oversampling {0: 1570080, 1: 179920}\n",
            "After oversampling {0: 1570080, 1: 1570080}\n"
          ]
        }
      ],
      "source": [
        "from imblearn.over_sampling import SMOTE\n",
        "import numpy as np\n",
        "#Seeing the value count before oversampling\n",
        "unique, count = np.unique(y_train, return_counts = True)\n",
        "y_train_dict_value_count = {k:v for (k,v) in zip(unique, count)}\n",
        "print(\"Before oversampling\",y_train_dict_value_count)\n",
        "\n",
        "sm = SMOTE(random_state=12)\n",
        "x_train_sm, y_train_sm = sm.fit_sample(x_train, y_train)\n",
        "\n",
        "# Seeing the value count after oversampling\n",
        "unique, count = np.unique(y_train_sm, return_counts = True)\n",
        "y_train_smote_value_count = {k:v for (k,v) in zip(unique, count)}\n",
        "print(\"After oversampling\",y_train_smote_value_count)"
      ]
    },
    {
      "cell_type": "code",
      "execution_count": null,
      "metadata": {
        "id": "PXWzKh4-yXfV",
        "outputId": "ca1ace47-1b66-489a-dd8d-359e6b39dd16"
      },
      "outputs": [
        {
          "name": "stdout",
          "output_type": "stream",
          "text": [
            "Accuracy Score RF:  0.8779183226332417\n",
            "F1 Score RF: 0.8788116925581073\n"
          ]
        }
      ],
      "source": [
        "from sklearn.ensemble import RandomForestClassifier\n",
        "from statistics import mean\n",
        "RF_accuracy_scores = []\n",
        "RF_f1_scores = []\n",
        "\n",
        "for train_index, test_index in skf.split(x_train_sm, y_train_sm):\n",
        "    x_train, x_test, y_train, y_test = x_train_sm.iloc[train_index], x_train_sm.iloc[test_index], y_train_sm.iloc[train_index], y_train_sm.iloc[test_index]\n",
        "    RF_accuracy_scores.append(get_accuracy_score(RandomForestClassifier(n_estimators=10, random_state = 10), x_train, x_test, y_train, y_test))\n",
        "    RF_f1_scores.append(get_f1_score(RandomForestClassifier(n_estimators=10, random_state = 10), x_train, x_test, y_train, y_test))\n",
        "\n",
        "\n",
        "print('Accuracy Score RF: ',mean(RF_accuracy_scores))\n",
        "print('F1 Score RF:', mean(RF_f1_scores))"
      ]
    }
  ],
  "metadata": {
    "kernelspec": {
      "display_name": "Python 3",
      "language": "python",
      "name": "python3"
    },
    "language_info": {
      "codemirror_mode": {
        "name": "ipython",
        "version": 3
      },
      "file_extension": ".py",
      "mimetype": "text/x-python",
      "name": "python",
      "nbconvert_exporter": "python",
      "pygments_lexer": "ipython3",
      "version": "3.10.7"
    },
    "orig_nbformat": 4,
    "vscode": {
      "interpreter": {
        "hash": "c6028a8a5a12648e78fa32d0f161bce4cccc9ded56ee541b56c5f14e4c0285c4"
      }
    },
    "colab": {
      "provenance": []
    }
  },
  "nbformat": 4,
  "nbformat_minor": 0
}