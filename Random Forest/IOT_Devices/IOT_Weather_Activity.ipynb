{
 "cells": [
  {
   "cell_type": "code",
   "execution_count": 1,
   "metadata": {},
   "outputs": [
    {
     "name": "stdout",
     "output_type": "stream",
     "text": [
      "(650242, 7)\n"
     ]
    },
    {
     "data": {
      "text/html": [
       "<div>\n",
       "<style scoped>\n",
       "    .dataframe tbody tr th:only-of-type {\n",
       "        vertical-align: middle;\n",
       "    }\n",
       "\n",
       "    .dataframe tbody tr th {\n",
       "        vertical-align: top;\n",
       "    }\n",
       "\n",
       "    .dataframe thead th {\n",
       "        text-align: right;\n",
       "    }\n",
       "</style>\n",
       "<table border=\"1\" class=\"dataframe\">\n",
       "  <thead>\n",
       "    <tr style=\"text-align: right;\">\n",
       "      <th></th>\n",
       "      <th>date</th>\n",
       "      <th>time</th>\n",
       "      <th>temperature</th>\n",
       "      <th>pressure</th>\n",
       "      <th>humidity</th>\n",
       "      <th>label</th>\n",
       "      <th>type</th>\n",
       "    </tr>\n",
       "  </thead>\n",
       "  <tbody>\n",
       "    <tr>\n",
       "      <th>0</th>\n",
       "      <td>31-Mar-19</td>\n",
       "      <td>12:36:52</td>\n",
       "      <td>31.788508</td>\n",
       "      <td>1.035</td>\n",
       "      <td>32.036579</td>\n",
       "      <td>0</td>\n",
       "      <td>normal</td>\n",
       "    </tr>\n",
       "    <tr>\n",
       "      <th>1</th>\n",
       "      <td>31-Mar-19</td>\n",
       "      <td>12:36:53</td>\n",
       "      <td>41.630997</td>\n",
       "      <td>1.035</td>\n",
       "      <td>30.886165</td>\n",
       "      <td>0</td>\n",
       "      <td>normal</td>\n",
       "    </tr>\n",
       "    <tr>\n",
       "      <th>2</th>\n",
       "      <td>31-Mar-19</td>\n",
       "      <td>12:36:54</td>\n",
       "      <td>42.256959</td>\n",
       "      <td>1.035</td>\n",
       "      <td>19.755908</td>\n",
       "      <td>0</td>\n",
       "      <td>normal</td>\n",
       "    </tr>\n",
       "    <tr>\n",
       "      <th>3</th>\n",
       "      <td>31-Mar-19</td>\n",
       "      <td>12:36:55</td>\n",
       "      <td>49.116581</td>\n",
       "      <td>1.035</td>\n",
       "      <td>78.949621</td>\n",
       "      <td>0</td>\n",
       "      <td>normal</td>\n",
       "    </tr>\n",
       "    <tr>\n",
       "      <th>4</th>\n",
       "      <td>31-Mar-19</td>\n",
       "      <td>12:36:56</td>\n",
       "      <td>24.017085</td>\n",
       "      <td>1.035</td>\n",
       "      <td>40.001059</td>\n",
       "      <td>0</td>\n",
       "      <td>normal</td>\n",
       "    </tr>\n",
       "  </tbody>\n",
       "</table>\n",
       "</div>"
      ],
      "text/plain": [
       "        date      time  temperature  pressure   humidity  label    type\n",
       "0  31-Mar-19  12:36:52    31.788508     1.035  32.036579      0  normal\n",
       "1  31-Mar-19  12:36:53    41.630997     1.035  30.886165      0  normal\n",
       "2  31-Mar-19  12:36:54    42.256959     1.035  19.755908      0  normal\n",
       "3  31-Mar-19  12:36:55    49.116581     1.035  78.949621      0  normal\n",
       "4  31-Mar-19  12:36:56    24.017085     1.035  40.001059      0  normal"
      ]
     },
     "execution_count": 1,
     "metadata": {},
     "output_type": "execute_result"
    }
   ],
   "source": [
    "import pandas as pd\n",
    "path = \"D:/TON IOT/Processed_datasets/Processed_datasets/Processed_IoT_dataset/IoT_Weather.csv\"\n",
    "weatherData = pd.read_csv(path)\n",
    "print(weatherData.shape)\n",
    "weatherData.head()"
   ]
  },
  {
   "cell_type": "code",
   "execution_count": 2,
   "metadata": {},
   "outputs": [
    {
     "data": {
      "text/html": [
       "<div>\n",
       "<style scoped>\n",
       "    .dataframe tbody tr th:only-of-type {\n",
       "        vertical-align: middle;\n",
       "    }\n",
       "\n",
       "    .dataframe tbody tr th {\n",
       "        vertical-align: top;\n",
       "    }\n",
       "\n",
       "    .dataframe thead th {\n",
       "        text-align: right;\n",
       "    }\n",
       "</style>\n",
       "<table border=\"1\" class=\"dataframe\">\n",
       "  <thead>\n",
       "    <tr style=\"text-align: right;\">\n",
       "      <th></th>\n",
       "      <th>temperature</th>\n",
       "      <th>pressure</th>\n",
       "      <th>humidity</th>\n",
       "      <th>label</th>\n",
       "    </tr>\n",
       "  </thead>\n",
       "  <tbody>\n",
       "    <tr>\n",
       "      <th>0</th>\n",
       "      <td>31.788508</td>\n",
       "      <td>1.035</td>\n",
       "      <td>32.036579</td>\n",
       "      <td>0</td>\n",
       "    </tr>\n",
       "    <tr>\n",
       "      <th>1</th>\n",
       "      <td>41.630997</td>\n",
       "      <td>1.035</td>\n",
       "      <td>30.886165</td>\n",
       "      <td>0</td>\n",
       "    </tr>\n",
       "    <tr>\n",
       "      <th>2</th>\n",
       "      <td>42.256959</td>\n",
       "      <td>1.035</td>\n",
       "      <td>19.755908</td>\n",
       "      <td>0</td>\n",
       "    </tr>\n",
       "    <tr>\n",
       "      <th>3</th>\n",
       "      <td>49.116581</td>\n",
       "      <td>1.035</td>\n",
       "      <td>78.949621</td>\n",
       "      <td>0</td>\n",
       "    </tr>\n",
       "    <tr>\n",
       "      <th>4</th>\n",
       "      <td>24.017085</td>\n",
       "      <td>1.035</td>\n",
       "      <td>40.001059</td>\n",
       "      <td>0</td>\n",
       "    </tr>\n",
       "  </tbody>\n",
       "</table>\n",
       "</div>"
      ],
      "text/plain": [
       "   temperature  pressure   humidity  label\n",
       "0    31.788508     1.035  32.036579      0\n",
       "1    41.630997     1.035  30.886165      0\n",
       "2    42.256959     1.035  19.755908      0\n",
       "3    49.116581     1.035  78.949621      0\n",
       "4    24.017085     1.035  40.001059      0"
      ]
     },
     "execution_count": 2,
     "metadata": {},
     "output_type": "execute_result"
    }
   ],
   "source": [
    "weatherData.drop('type', axis = 1, inplace=True)\n",
    "weatherData.drop(weatherData.iloc[:, 0:2], axis = 1, inplace=True)\n",
    "weatherData.head()"
   ]
  },
  {
   "cell_type": "code",
   "execution_count": 3,
   "metadata": {},
   "outputs": [
    {
     "name": "stdout",
     "output_type": "stream",
     "text": [
      "col:  temperature\n"
     ]
    },
    {
     "data": {
      "image/png": "[encoded data removed]",
      "text/plain": [
       "<Figure size 640x480 with 1 Axes>"
      ]
     },
     "metadata": {},
     "output_type": "display_data"
    },
    {
     "name": "stdout",
     "output_type": "stream",
     "text": [
      "col:  pressure\n"
     ]
    },
    {
     "data": {
      "image/png": "[encoded data removed]",
      "text/plain": [
       "<Figure size 640x480 with 1 Axes>"
      ]
     },
     "metadata": {},
     "output_type": "display_data"
    },
    {
     "name": "stdout",
     "output_type": "stream",
     "text": [
      "col:  humidity\n"
     ]
    },
    {
     "data": {
      "image/png": "[encoded data removed]",
      "text/plain": [
       "<Figure size 640x480 with 1 Axes>"
      ]
     },
     "metadata": {},
     "output_type": "display_data"
    },
    {
     "name": "stdout",
     "output_type": "stream",
     "text": [
      "col:  label\n"
     ]
    },
    {
     "data": {
      "image/png": "[encoded data removed]",
      "text/plain": [
       "<Figure size 640x480 with 1 Axes>"
      ]
     },
     "metadata": {},
     "output_type": "display_data"
    }
   ],
   "source": [
    "import matplotlib.pyplot as plt\n",
    "columns = weatherData.columns\n",
    "for col in columns:\n",
    "    print(\"col: \", col)\n",
    "    weatherData[col].hist()\n",
    "    plt.show()"
   ]
  },
  {
   "cell_type": "code",
   "execution_count": 4,
   "metadata": {},
   "outputs": [
    {
     "name": "stdout",
     "output_type": "stream",
     "text": [
      "0    559718\n",
      "1     90524\n",
      "Name: label, dtype: int64\n"
     ]
    }
   ],
   "source": [
    "x = weatherData.drop('label', axis = 1)\n",
    "y = weatherData['label']\n",
    "print(y.value_counts())"
   ]
  },
  {
   "cell_type": "code",
   "execution_count": 5,
   "metadata": {},
   "outputs": [
    {
     "data": {
      "text/plain": [
       "dtype('int64')"
      ]
     },
     "execution_count": 5,
     "metadata": {},
     "output_type": "execute_result"
    }
   ],
   "source": [
    "y.dtypes"
   ]
  },
  {
   "cell_type": "code",
   "execution_count": 6,
   "metadata": {},
   "outputs": [],
   "source": [
    "from sklearn.model_selection import StratifiedKFold\n",
    "skf = StratifiedKFold(n_splits=8, shuffle = True, random_state=3)"
   ]
  },
  {
   "cell_type": "code",
   "execution_count": 7,
   "metadata": {},
   "outputs": [],
   "source": [
    "from sklearn.metrics import f1_score, accuracy_score\n",
    "\n",
    "def get_accuracy_score(model, x_train, x_test, y_train, y_test):\n",
    "    model.fit(x_train, y_train)\n",
    "    y_pred= model.predict(x_test)\n",
    "    modelAccuracyTest = accuracy_score(y_pred,y_test)\n",
    "    return modelAccuracyTest\n",
    "\n",
    "def get_f1_score(model, x_train, x_test, y_train, y_test):\n",
    "    model.fit(x_train, y_train)\n",
    "    y_pred= model.predict(x_test)\n",
    "    modelF1Test = f1_score(y_pred,y_test)\n",
    "    return modelF1Test"
   ]
  },
  {
   "attachments": {},
   "cell_type": "markdown",
   "metadata": {},
   "source": [
    "# Without Oversampling"
   ]
  },
  {
   "cell_type": "code",
   "execution_count": 8,
   "metadata": {},
   "outputs": [
    {
     "name": "stdout",
     "output_type": "stream",
     "text": [
      "Accuracy Score RF:  0.9647208271276958\n",
      "F1 Score RF: 0.8605311321475826\n"
     ]
    }
   ],
   "source": [
    "from sklearn.ensemble import RandomForestClassifier\n",
    "from statistics import mean\n",
    "RF_accuracy_scores = []\n",
    "RF_f1_scores = []\n",
    "\n",
    "for train_index, test_index in skf.split(x, y):\n",
    "    x_train, x_test, y_train, y_test = x.iloc[train_index], x.iloc[test_index], y.iloc[train_index], y.iloc[test_index]\n",
    "\n",
    "    RF_accuracy_scores.append(get_accuracy_score(RandomForestClassifier(n_estimators=10, random_state = 10), x_train, x_test, y_train, y_test))\n",
    "    RF_f1_scores.append(get_f1_score(RandomForestClassifier(n_estimators=10, random_state = 10), x_train, x_test, y_train, y_test))\n",
    "\n",
    "print('Accuracy Score RF: ',mean(RF_accuracy_scores))\n",
    "print('F1 Score RF:', mean(RF_f1_scores))"
   ]
  },
  {
   "cell_type": "code",
   "execution_count": 9,
   "metadata": {},
   "outputs": [
    {
     "name": "stdout",
     "output_type": "stream",
     "text": [
      "Before oversampling {0: 489754, 1: 79208}\n",
      "After oversampling {0: 489754, 1: 489754}\n"
     ]
    }
   ],
   "source": [
    "from imblearn.over_sampling import SMOTE\n",
    "import numpy as np\n",
    "#Seeing the value count before oversampling\n",
    "unique, count = np.unique(y_train, return_counts = True)\n",
    "y_train_dict_value_count = {k:v for (k,v) in zip(unique, count)}\n",
    "print(\"Before oversampling\",y_train_dict_value_count)\n",
    "\n",
    "sm = SMOTE(random_state=12)\n",
    "x_train_sm, y_train_sm = sm.fit_sample(x_train, y_train)\n",
    "\n",
    "# Seeing the value count after oversampling\n",
    "unique, count = np.unique(y_train_sm, return_counts = True)\n",
    "y_train_smote_value_count = {k:v for (k,v) in zip(unique, count)}\n",
    "print(\"After oversampling\",y_train_smote_value_count)"
   ]
  },
  {
   "cell_type": "code",
   "execution_count": 12,
   "metadata": {},
   "outputs": [
    {
     "name": "stdout",
     "output_type": "stream",
     "text": [
      "Accuracy Score RF:  0.9703963615919532\n",
      "F1 Score RF: 0.9701732852742898\n"
     ]
    }
   ],
   "source": [
    "from sklearn.ensemble import RandomForestClassifier\n",
    "from statistics import mean\n",
    "RF_accuracy_scores = []\n",
    "RF_f1_scores = []\n",
    "\n",
    "for train_index, test_index in skf.split(x_train_sm, y_train_sm):\n",
    "    x_train, x_test, y_train, y_test = x_train_sm.iloc[train_index], x_train_sm.iloc[test_index], y_train_sm.iloc[train_index], y_train_sm.iloc[test_index]\n",
    "    RF_accuracy_scores.append(get_accuracy_score(RandomForestClassifier(n_estimators=10, random_state = 10), x_train, x_test, y_train, y_test))\n",
    "    RF_f1_scores.append(get_f1_score(RandomForestClassifier(n_estimators=10, random_state = 10), x_train, x_test, y_train, y_test))\n",
    "\n",
    "\n",
    "print('Accuracy Score RF: ',mean(RF_accuracy_scores))\n",
    "print('F1 Score RF:', mean(RF_f1_scores))"
   ]
  },
  {
   "cell_type": "code",
   "execution_count": null,
   "metadata": {},
   "outputs": [],
   "source": [
    "# Dummy code to test different amount of folds\n",
    "\n",
    "# Dtree_accuracy_scores = []\n",
    "# Dtree_f1_scores = []\n",
    "\n",
    "# for train_index, test_index in skf.split(x, y):\n",
    "#     x_train, x_test, y_train, y_test = x.iloc[train_index], x.iloc[test_index], y.iloc[train_index], y.iloc[test_index]\n",
    "\n",
    "#     Dtree_accuracy_scores.append(get_accuracy_score(DecisionTreeClassifier(), x_train, x_test, y_train, y_test))\n",
    "#     Dtree_f1_scores.append(get_f1_score(DecisionTreeClassifier(), x_train, x_test, y_train, y_test))\n",
    "\n",
    "# print('Accuracy Score: ',mean(Dtree_accuracy_scores))\n",
    "# print('F1 Score:', mean(Dtree_f1_scores))"
   ]
  },
  {
   "cell_type": "code",
   "execution_count": 14,
   "metadata": {},
   "outputs": [
    {
     "data": {
      "text/plain": [
       "<AxesSubplot: xlabel='label', ylabel='count'>"
      ]
     },
     "execution_count": 14,
     "metadata": {},
     "output_type": "execute_result"
    },
    {
     "data": {
      "image/png": "[encoded data removed]",
      "text/plain": [
       "<Figure size 640x480 with 1 Axes>"
      ]
     },
     "metadata": {},
     "output_type": "display_data"
    }
   ],
   "source": [
    "# saving the name of the target variable\n",
    "target = 'label'\n",
    "\n",
    "import numpy as np\n",
    "minority_class_len = len(weatherData[weatherData[target] == 1])\n",
    "majority_class_indices = weatherData[weatherData[target] == 0].index\n",
    "\n",
    "random_majority_indices = np.random.choice(majority_class_indices, minority_class_len, replace=False)\n",
    "\n",
    "minority_class_indices = weatherData[weatherData[target] == 1].index\n",
    "\n",
    "under_sample_indices = np.concatenate([minority_class_indices, random_majority_indices])\n",
    "\n",
    "under_sample = weatherData.loc[under_sample_indices]\n",
    "\n",
    "import seaborn as sns\n",
    "sns.countplot(x = target, data = under_sample)\n"
   ]
  },
  {
   "cell_type": "code",
   "execution_count": 15,
   "metadata": {},
   "outputs": [
    {
     "name": "stderr",
     "output_type": "stream",
     "text": [
      "C:\\Users\\mashr\\AppData\\Local\\Temp\\ipykernel_12532\\783866468.py:4: DataConversionWarning: A column-vector y was passed when a 1d array was expected. Please change the shape of y to (n_samples,), for example using ravel().\n",
      "  model.fit(x_train, y_train)\n",
      "C:\\Users\\mashr\\AppData\\Local\\Temp\\ipykernel_12532\\783866468.py:10: DataConversionWarning: A column-vector y was passed when a 1d array was expected. Please change the shape of y to (n_samples,), for example using ravel().\n",
      "  model.fit(x_train, y_train)\n",
      "C:\\Users\\mashr\\AppData\\Local\\Temp\\ipykernel_12532\\783866468.py:4: DataConversionWarning: A column-vector y was passed when a 1d array was expected. Please change the shape of y to (n_samples,), for example using ravel().\n",
      "  model.fit(x_train, y_train)\n",
      "C:\\Users\\mashr\\AppData\\Local\\Temp\\ipykernel_12532\\783866468.py:10: DataConversionWarning: A column-vector y was passed when a 1d array was expected. Please change the shape of y to (n_samples,), for example using ravel().\n",
      "  model.fit(x_train, y_train)\n",
      "C:\\Users\\mashr\\AppData\\Local\\Temp\\ipykernel_12532\\783866468.py:4: DataConversionWarning: A column-vector y was passed when a 1d array was expected. Please change the shape of y to (n_samples,), for example using ravel().\n",
      "  model.fit(x_train, y_train)\n",
      "C:\\Users\\mashr\\AppData\\Local\\Temp\\ipykernel_12532\\783866468.py:10: DataConversionWarning: A column-vector y was passed when a 1d array was expected. Please change the shape of y to (n_samples,), for example using ravel().\n",
      "  model.fit(x_train, y_train)\n",
      "C:\\Users\\mashr\\AppData\\Local\\Temp\\ipykernel_12532\\783866468.py:4: DataConversionWarning: A column-vector y was passed when a 1d array was expected. Please change the shape of y to (n_samples,), for example using ravel().\n",
      "  model.fit(x_train, y_train)\n",
      "C:\\Users\\mashr\\AppData\\Local\\Temp\\ipykernel_12532\\783866468.py:10: DataConversionWarning: A column-vector y was passed when a 1d array was expected. Please change the shape of y to (n_samples,), for example using ravel().\n",
      "  model.fit(x_train, y_train)\n",
      "C:\\Users\\mashr\\AppData\\Local\\Temp\\ipykernel_12532\\783866468.py:4: DataConversionWarning: A column-vector y was passed when a 1d array was expected. Please change the shape of y to (n_samples,), for example using ravel().\n",
      "  model.fit(x_train, y_train)\n",
      "C:\\Users\\mashr\\AppData\\Local\\Temp\\ipykernel_12532\\783866468.py:10: DataConversionWarning: A column-vector y was passed when a 1d array was expected. Please change the shape of y to (n_samples,), for example using ravel().\n",
      "  model.fit(x_train, y_train)\n",
      "C:\\Users\\mashr\\AppData\\Local\\Temp\\ipykernel_12532\\783866468.py:4: DataConversionWarning: A column-vector y was passed when a 1d array was expected. Please change the shape of y to (n_samples,), for example using ravel().\n",
      "  model.fit(x_train, y_train)\n",
      "C:\\Users\\mashr\\AppData\\Local\\Temp\\ipykernel_12532\\783866468.py:10: DataConversionWarning: A column-vector y was passed when a 1d array was expected. Please change the shape of y to (n_samples,), for example using ravel().\n",
      "  model.fit(x_train, y_train)\n",
      "C:\\Users\\mashr\\AppData\\Local\\Temp\\ipykernel_12532\\783866468.py:4: DataConversionWarning: A column-vector y was passed when a 1d array was expected. Please change the shape of y to (n_samples,), for example using ravel().\n",
      "  model.fit(x_train, y_train)\n",
      "C:\\Users\\mashr\\AppData\\Local\\Temp\\ipykernel_12532\\783866468.py:10: DataConversionWarning: A column-vector y was passed when a 1d array was expected. Please change the shape of y to (n_samples,), for example using ravel().\n",
      "  model.fit(x_train, y_train)\n",
      "C:\\Users\\mashr\\AppData\\Local\\Temp\\ipykernel_12532\\783866468.py:4: DataConversionWarning: A column-vector y was passed when a 1d array was expected. Please change the shape of y to (n_samples,), for example using ravel().\n",
      "  model.fit(x_train, y_train)\n",
      "C:\\Users\\mashr\\AppData\\Local\\Temp\\ipykernel_12532\\783866468.py:10: DataConversionWarning: A column-vector y was passed when a 1d array was expected. Please change the shape of y to (n_samples,), for example using ravel().\n",
      "  model.fit(x_train, y_train)\n"
     ]
    },
    {
     "name": "stdout",
     "output_type": "stream",
     "text": [
      "Accuracy Score RF: 0.9118741991074191\n",
      "F1 Score RF: 0.9117942396512861\n"
     ]
    }
   ],
   "source": [
    "und_x = under_sample.loc[:, weatherData.columns !=target]\n",
    "und_y = under_sample.loc[:, weatherData.columns == target]\n",
    "\n",
    "from sklearn.ensemble import RandomForestClassifier\n",
    "from statistics import mean\n",
    "RF_accuracy_scores = []\n",
    "RF_f1_scores = []\n",
    "\n",
    "for train_index, test_index in skf.split(und_x, und_y):\n",
    "    x_train, x_test, y_train, y_test = und_x.iloc[train_index], und_x.iloc[test_index], und_y.iloc[train_index], und_y.iloc[test_index]\n",
    "    RF_accuracy_scores.append(get_accuracy_score(RandomForestClassifier(n_estimators=10, random_state = 10), x_train, x_test, y_train, y_test))\n",
    "    RF_f1_scores.append(get_f1_score(RandomForestClassifier(n_estimators=10, random_state = 10), x_train, x_test, y_train, y_test))\n",
    "\n",
    "print('Accuracy Score RF:',mean(RF_accuracy_scores))\n",
    "print('F1 Score RF:', mean(RF_f1_scores))\n",
    "\n",
    "\n"
   ]
  },
  {
   "cell_type": "code",
   "execution_count": null,
   "metadata": {},
   "outputs": [],
   "source": []
  }
 ],
 "metadata": {
  "kernelspec": {
   "display_name": "Python 3",
   "language": "python",
   "name": "python3"
  },
  "language_info": {
   "codemirror_mode": {
    "name": "ipython",
    "version": 3
   },
   "file_extension": ".py",
   "mimetype": "text/x-python",
   "name": "python",
   "nbconvert_exporter": "python",
   "pygments_lexer": "ipython3",
   "version": "3.10.7"
  },
  "orig_nbformat": 4,
  "vscode": {
   "interpreter": {
    "hash": "c6028a8a5a12648e78fa32d0f161bce4cccc9ded56ee541b56c5f14e4c0285c4"
   }
  }
 },
 "nbformat": 4,
 "nbformat_minor": 2
}
