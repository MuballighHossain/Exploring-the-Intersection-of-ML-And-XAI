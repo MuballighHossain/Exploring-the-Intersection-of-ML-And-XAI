{
 "cells": [
  {
   "cell_type": "code",
   "execution_count": 1,
   "metadata": {},
   "outputs": [
    {
     "name": "stderr",
     "output_type": "stream",
     "text": [
      "C:\\Users\\mashr\\AppData\\Local\\Temp\\ipykernel_2532\\3775802285.py:4: DtypeWarning: Columns (2,3,4,5) have mixed types. Specify dtype option on import or set low_memory=False.\n",
      "  linux_disk1 = pd.read_csv(path1)\n",
      "C:\\Users\\mashr\\AppData\\Local\\Temp\\ipykernel_2532\\3775802285.py:5: DtypeWarning: Columns (4,5) have mixed types. Specify dtype option on import or set low_memory=False.\n",
      "  linux_disk2 = pd.read_csv(path2)\n"
     ]
    },
    {
     "name": "stdout",
     "output_type": "stream",
     "text": [
      "(1000000, 9)\n",
      "(927361, 9)\n",
      "(1927361, 9)\n"
     ]
    },
    {
     "data": {
      "text/html": [
       "<div>\n",
       "<style scoped>\n",
       "    .dataframe tbody tr th:only-of-type {\n",
       "        vertical-align: middle;\n",
       "    }\n",
       "\n",
       "    .dataframe tbody tr th {\n",
       "        vertical-align: top;\n",
       "    }\n",
       "\n",
       "    .dataframe thead th {\n",
       "        text-align: right;\n",
       "    }\n",
       "</style>\n",
       "<table border=\"1\" class=\"dataframe\">\n",
       "  <thead>\n",
       "    <tr style=\"text-align: right;\">\n",
       "      <th></th>\n",
       "      <th>ts</th>\n",
       "      <th>PID</th>\n",
       "      <th>RDDSK</th>\n",
       "      <th>WRDSK</th>\n",
       "      <th>WCANCL</th>\n",
       "      <th>DSK</th>\n",
       "      <th>CMD</th>\n",
       "      <th>label</th>\n",
       "      <th>type</th>\n",
       "    </tr>\n",
       "  </thead>\n",
       "  <tbody>\n",
       "    <tr>\n",
       "      <th>0</th>\n",
       "      <td>1554218915</td>\n",
       "      <td>3197</td>\n",
       "      <td>148.2</td>\n",
       "      <td>37340</td>\n",
       "      <td>12328</td>\n",
       "      <td>0.22</td>\n",
       "      <td>firefox</td>\n",
       "      <td>0</td>\n",
       "      <td>normal</td>\n",
       "    </tr>\n",
       "    <tr>\n",
       "      <th>1</th>\n",
       "      <td>1554218920</td>\n",
       "      <td>2327</td>\n",
       "      <td>32824.0</td>\n",
       "      <td>688</td>\n",
       "      <td>4</td>\n",
       "      <td>0.04</td>\n",
       "      <td>init</td>\n",
       "      <td>0</td>\n",
       "      <td>normal</td>\n",
       "    </tr>\n",
       "    <tr>\n",
       "      <th>2</th>\n",
       "      <td>1554218925</td>\n",
       "      <td>2797</td>\n",
       "      <td>23468.0</td>\n",
       "      <td>7416</td>\n",
       "      <td>6152</td>\n",
       "      <td>0.04</td>\n",
       "      <td>nautilus</td>\n",
       "      <td>0</td>\n",
       "      <td>normal</td>\n",
       "    </tr>\n",
       "    <tr>\n",
       "      <th>3</th>\n",
       "      <td>1554218930</td>\n",
       "      <td>2801</td>\n",
       "      <td>3612.0</td>\n",
       "      <td>14320</td>\n",
       "      <td>0</td>\n",
       "      <td>0.02</td>\n",
       "      <td>tracer-store</td>\n",
       "      <td>0</td>\n",
       "      <td>normal</td>\n",
       "    </tr>\n",
       "    <tr>\n",
       "      <th>4</th>\n",
       "      <td>1554218935</td>\n",
       "      <td>2993</td>\n",
       "      <td>5184.0</td>\n",
       "      <td>11152</td>\n",
       "      <td>0</td>\n",
       "      <td>0.02</td>\n",
       "      <td>zeitgeist-fts</td>\n",
       "      <td>0</td>\n",
       "      <td>normal</td>\n",
       "    </tr>\n",
       "  </tbody>\n",
       "</table>\n",
       "</div>"
      ],
      "text/plain": [
       "           ts   PID    RDDSK  WRDSK WCANCL   DSK            CMD  label    type\n",
       "0  1554218915  3197    148.2  37340  12328  0.22        firefox      0  normal\n",
       "1  1554218920  2327  32824.0    688      4  0.04           init      0  normal\n",
       "2  1554218925  2797  23468.0   7416   6152  0.04       nautilus      0  normal\n",
       "3  1554218930  2801   3612.0  14320      0  0.02   tracer-store      0  normal\n",
       "4  1554218935  2993   5184.0  11152      0  0.02  zeitgeist-fts      0  normal"
      ]
     },
     "execution_count": 1,
     "metadata": {},
     "output_type": "execute_result"
    }
   ],
   "source": [
    "import pandas as pd\n",
    "path1 = \"D:/TON IOT/Processed_datasets/Processed_datasets/Processed_Linux_dataset/linux_disk_1.csv\"\n",
    "path2 = \"D:/TON IOT/Processed_datasets/Processed_datasets/Processed_Linux_dataset/linux_disk_2.csv\"\n",
    "linux_disk1 = pd.read_csv(path1)\n",
    "linux_disk2 = pd.read_csv(path2)\n",
    "print(linux_disk1.shape)\n",
    "print(linux_disk2.shape)\n",
    "linux_disk = pd.concat([linux_disk1, linux_disk2])\n",
    "\n",
    "print(linux_disk.shape)\n",
    "linux_disk.head()\n"
   ]
  },
  {
   "cell_type": "code",
   "execution_count": 2,
   "metadata": {},
   "outputs": [
    {
     "data": {
      "text/html": [
       "<div>\n",
       "<style scoped>\n",
       "    .dataframe tbody tr th:only-of-type {\n",
       "        vertical-align: middle;\n",
       "    }\n",
       "\n",
       "    .dataframe tbody tr th {\n",
       "        vertical-align: top;\n",
       "    }\n",
       "\n",
       "    .dataframe thead th {\n",
       "        text-align: right;\n",
       "    }\n",
       "</style>\n",
       "<table border=\"1\" class=\"dataframe\">\n",
       "  <thead>\n",
       "    <tr style=\"text-align: right;\">\n",
       "      <th></th>\n",
       "      <th>PID</th>\n",
       "      <th>RDDSK</th>\n",
       "      <th>WRDSK</th>\n",
       "      <th>WCANCL</th>\n",
       "      <th>DSK</th>\n",
       "      <th>CMD</th>\n",
       "      <th>label</th>\n",
       "    </tr>\n",
       "  </thead>\n",
       "  <tbody>\n",
       "    <tr>\n",
       "      <th>0</th>\n",
       "      <td>3197</td>\n",
       "      <td>148.2</td>\n",
       "      <td>37340</td>\n",
       "      <td>12328</td>\n",
       "      <td>0.22</td>\n",
       "      <td>firefox</td>\n",
       "      <td>0</td>\n",
       "    </tr>\n",
       "    <tr>\n",
       "      <th>1</th>\n",
       "      <td>2327</td>\n",
       "      <td>32824.0</td>\n",
       "      <td>688</td>\n",
       "      <td>4</td>\n",
       "      <td>0.04</td>\n",
       "      <td>init</td>\n",
       "      <td>0</td>\n",
       "    </tr>\n",
       "    <tr>\n",
       "      <th>2</th>\n",
       "      <td>2797</td>\n",
       "      <td>23468.0</td>\n",
       "      <td>7416</td>\n",
       "      <td>6152</td>\n",
       "      <td>0.04</td>\n",
       "      <td>nautilus</td>\n",
       "      <td>0</td>\n",
       "    </tr>\n",
       "    <tr>\n",
       "      <th>3</th>\n",
       "      <td>2801</td>\n",
       "      <td>3612.0</td>\n",
       "      <td>14320</td>\n",
       "      <td>0</td>\n",
       "      <td>0.02</td>\n",
       "      <td>tracer-store</td>\n",
       "      <td>0</td>\n",
       "    </tr>\n",
       "    <tr>\n",
       "      <th>4</th>\n",
       "      <td>2993</td>\n",
       "      <td>5184.0</td>\n",
       "      <td>11152</td>\n",
       "      <td>0</td>\n",
       "      <td>0.02</td>\n",
       "      <td>zeitgeist-fts</td>\n",
       "      <td>0</td>\n",
       "    </tr>\n",
       "  </tbody>\n",
       "</table>\n",
       "</div>"
      ],
      "text/plain": [
       "    PID    RDDSK  WRDSK WCANCL   DSK            CMD  label\n",
       "0  3197    148.2  37340  12328  0.22        firefox      0\n",
       "1  2327  32824.0    688      4  0.04           init      0\n",
       "2  2797  23468.0   7416   6152  0.04       nautilus      0\n",
       "3  2801   3612.0  14320      0  0.02   tracer-store      0\n",
       "4  2993   5184.0  11152      0  0.02  zeitgeist-fts      0"
      ]
     },
     "execution_count": 2,
     "metadata": {},
     "output_type": "execute_result"
    }
   ],
   "source": [
    "linux_disk.drop('ts', axis = 1, inplace=True)\n",
    "linux_disk.drop('type', axis = 1, inplace= True)\n",
    "\n",
    "linux_disk.head()"
   ]
  },
  {
   "cell_type": "code",
   "execution_count": 3,
   "metadata": {},
   "outputs": [
    {
     "name": "stdout",
     "output_type": "stream",
     "text": [
      "<class 'pandas.core.frame.DataFrame'>\n",
      "Int64Index: 1927361 entries, 0 to 927360\n",
      "Data columns (total 7 columns):\n",
      " #   Column  Dtype \n",
      "---  ------  ----- \n",
      " 0   PID     int64 \n",
      " 1   RDDSK   object\n",
      " 2   WRDSK   object\n",
      " 3   WCANCL  object\n",
      " 4   DSK     object\n",
      " 5   CMD     object\n",
      " 6   label   int64 \n",
      "dtypes: int64(2), object(5)\n",
      "memory usage: 117.6+ MB\n"
     ]
    }
   ],
   "source": [
    "linux_disk.info()"
   ]
  },
  {
   "cell_type": "code",
   "execution_count": 4,
   "metadata": {},
   "outputs": [
    {
     "data": {
      "text/plain": [
       "0"
      ]
     },
     "execution_count": 4,
     "metadata": {},
     "output_type": "execute_result"
    }
   ],
   "source": [
    "linux_disk.isnull().sum().sum()"
   ]
  },
  {
   "cell_type": "code",
   "execution_count": 5,
   "metadata": {},
   "outputs": [
    {
     "data": {
      "text/plain": [
       "0"
      ]
     },
     "execution_count": 5,
     "metadata": {},
     "output_type": "execute_result"
    }
   ],
   "source": [
    "linux_disk['RDDSK'].isnull().sum()"
   ]
  },
  {
   "cell_type": "code",
   "execution_count": null,
   "metadata": {},
   "outputs": [],
   "source": [
    "# To see all the unique values\n",
    "# unique = linux_disk['RDDSK'].unique()\n",
    "\n",
    "# for values in unique:\n",
    "#     print(values, end=', ')"
   ]
  },
  {
   "attachments": {},
   "cell_type": "markdown",
   "metadata": {},
   "source": [
    "# Replacing 'K'(for e.g 150K as 150000) and 'M'(for e.g 56M to 56000000)"
   ]
  },
  {
   "cell_type": "code",
   "execution_count": 7,
   "metadata": {},
   "outputs": [],
   "source": [
    "linux_disk['RDDSK'].replace('K', '000', regex=True, inplace= True)\n",
    "linux_disk['RDDSK'].replace('M', '000000', regex=True, inplace= True)"
   ]
  },
  {
   "cell_type": "code",
   "execution_count": 8,
   "metadata": {},
   "outputs": [
    {
     "data": {
      "text/plain": [
       "0           148.2\n",
       "1         32824.0\n",
       "2         23468.0\n",
       "3          3612.0\n",
       "4          5184.0\n",
       "           ...   \n",
       "927356        0.0\n",
       "927357        0.0\n",
       "927358        0.0\n",
       "927359        0.0\n",
       "927360        0.0\n",
       "Name: RDDSK, Length: 1927361, dtype: object"
      ]
     },
     "execution_count": 8,
     "metadata": {},
     "output_type": "execute_result"
    }
   ],
   "source": [
    "linux_disk['RDDSK']"
   ]
  },
  {
   "cell_type": "code",
   "execution_count": null,
   "metadata": {},
   "outputs": [],
   "source": [
    "unique = linux_disk['RDDSK'].unique()\n",
    "\n",
    "for values in unique:\n",
    "    print(values, end=', ')"
   ]
  },
  {
   "cell_type": "code",
   "execution_count": 10,
   "metadata": {},
   "outputs": [],
   "source": [
    "linux_disk['RDDSK'] = linux_disk['RDDSK'].astype(float)"
   ]
  },
  {
   "cell_type": "code",
   "execution_count": 11,
   "metadata": {},
   "outputs": [
    {
     "data": {
      "text/plain": [
       "0"
      ]
     },
     "execution_count": 11,
     "metadata": {},
     "output_type": "execute_result"
    }
   ],
   "source": [
    "linux_disk['RDDSK'].isnull().sum()"
   ]
  },
  {
   "cell_type": "code",
   "execution_count": 12,
   "metadata": {},
   "outputs": [
    {
     "data": {
      "text/plain": [
       "0           148.2\n",
       "1         32824.0\n",
       "2         23468.0\n",
       "3          3612.0\n",
       "4          5184.0\n",
       "           ...   \n",
       "927356        0.0\n",
       "927357        0.0\n",
       "927358        0.0\n",
       "927359        0.0\n",
       "927360        0.0\n",
       "Name: RDDSK, Length: 1927361, dtype: float64"
      ]
     },
     "execution_count": 12,
     "metadata": {},
     "output_type": "execute_result"
    }
   ],
   "source": [
    "linux_disk['RDDSK']"
   ]
  },
  {
   "cell_type": "code",
   "execution_count": 13,
   "metadata": {},
   "outputs": [
    {
     "data": {
      "text/plain": [
       "0.0         1917465\n",
       "4.0            1677\n",
       "32.0            592\n",
       "8.0             337\n",
       "12.0            275\n",
       "             ...   \n",
       "692000.0          1\n",
       "572000.0          1\n",
       "540000.0          1\n",
       "114.9             1\n",
       "1720.0            1\n",
       "Name: RDDSK, Length: 1484, dtype: int64"
      ]
     },
     "execution_count": 13,
     "metadata": {},
     "output_type": "execute_result"
    }
   ],
   "source": [
    "linux_disk['RDDSK'].value_counts()"
   ]
  },
  {
   "cell_type": "code",
   "execution_count": 14,
   "metadata": {},
   "outputs": [],
   "source": [
    "#Also has 'K's as 'M's\n",
    "\n",
    "# unique = linux_disk['WRDSK'].unique()\n",
    "\n",
    "# for values in unique:\n",
    "#     print(values, end=', ')"
   ]
  },
  {
   "cell_type": "code",
   "execution_count": 15,
   "metadata": {},
   "outputs": [],
   "source": [
    "#Getting rid of the 'K's and 'M's\n",
    "linux_disk['WRDSK'].replace('K', '000', regex=True, inplace= True)\n",
    "linux_disk['WRDSK'].replace('M', '000000', regex=True, inplace= True)"
   ]
  },
  {
   "cell_type": "code",
   "execution_count": 16,
   "metadata": {},
   "outputs": [],
   "source": [
    "# Dealing with very small errors in the dataset\n",
    "linux_disk.loc[linux_disk['WRDSK']== '49.9 1', 'WRDSK'] = '49.91'\n",
    "linux_disk.loc[linux_disk['WRDSK']== '-', 'WRDSK'] = '-1'\n"
   ]
  },
  {
   "cell_type": "code",
   "execution_count": 17,
   "metadata": {},
   "outputs": [],
   "source": [
    "linux_disk['WRDSK'] = linux_disk['WRDSK'].astype(float)"
   ]
  },
  {
   "cell_type": "code",
   "execution_count": 18,
   "metadata": {},
   "outputs": [
    {
     "name": "stdout",
     "output_type": "stream",
     "text": [
      "12328, 4, 6152, 0, 20, 420, 36, 16, 4256, 5364, 5244, 5788, 768, 904, 3332, 4752, 4840, 5284, 56, 6616, 32, 6772, 127.9, 72676.0, 2912.0, 912.0, 180.0, 73768.0, 12.0, 8.0, 3600, 9024, 52, 7068, 3772, 40, 28, 2200.0, 1964.0, 2.5, 3932.0, 0, 4, 8, 16, 6940, 24, 28, 36, 7020, 12, 48, 60, 500, 40, 32, 6828, 1584, 5892K, 17784K, 16K, 36K, 4K, 24K, 3928K, 60K, 56K, 17784, 5892, 15808, 56, 5892, 15808, 1976, 3928, 60, 72, 17784, 4436, 2472, 2636, 5280, 1584, 2384, 276, 264, 132, 1444, 2540, 48168, 708, 644, 680, 1292, 1328, 4716, 4568, 4604, 4980, 4952, 4700, 4620, 1084, 4676, 5292, 4968, 5004, 4848, 144, 640, 896, 3712, 3456, 5780, 404, 18512, 26872, 2888, 80412, 548, 53540, 2976, 420, 1%, 5%, 2%, 6%, 3%, 4%, 2496, 3528, 1260, 3244, 1332, 2952, 3120, 2736, 47516, 45112, 2868, 4780, 5372, 4536, 5156, 5436, 824, 100, 13108, 13152, 672, 512, 1664, 26808, 2944, 5516, 4932, "
     ]
    }
   ],
   "source": [
    "#Also has 'K's as 'M's\n",
    "\n",
    "unique = linux_disk['WCANCL'].unique()\n",
    "\n",
    "for values in unique:\n",
    "    print(values, end=', ')"
   ]
  },
  {
   "cell_type": "code",
   "execution_count": 19,
   "metadata": {},
   "outputs": [],
   "source": [
    "#Getting rid of the 'K's and 'M's\n",
    "linux_disk['WCANCL'].replace('K', '000', regex=True, inplace= True)\n",
    "linux_disk['WCANCL'].replace('M', '000000', regex=True, inplace= True)\n"
   ]
  },
  {
   "cell_type": "code",
   "execution_count": 20,
   "metadata": {},
   "outputs": [],
   "source": [
    "linux_disk['WCANCL'].replace('1%', '0.01', regex=True, inplace= True)\n",
    "linux_disk['WCANCL'].replace('5%', '0.05', regex=True, inplace= True)\n",
    "linux_disk['WCANCL'].replace('2%', '0.02', regex=True, inplace= True)\n",
    "linux_disk['WCANCL'].replace('6%', '0.06', regex=True, inplace= True)\n",
    "linux_disk['WCANCL'].replace('3%', '0.03', regex=True, inplace= True)\n",
    "linux_disk['WCANCL'].replace('4%', '0.04', regex=True, inplace= True)\n"
   ]
  },
  {
   "cell_type": "code",
   "execution_count": 21,
   "metadata": {},
   "outputs": [],
   "source": [
    "linux_disk['WCANCL'] = linux_disk['WCANCL'].astype(float)"
   ]
  },
  {
   "cell_type": "code",
   "execution_count": 22,
   "metadata": {},
   "outputs": [
    {
     "name": "stdout",
     "output_type": "stream",
     "text": [
      "0.22, 0.04, 0.02, 0.01, 0.0, 0.32, 0.1, 0.08, 0.07, 0.06, 0.26, 0.6, 0.12, 0.7, 0.16, 0.05, 0.9, 0.03, 0.42, 0.09, 0.5, 0.88, 0.71, 0.67, 0.31, 0.29, 0.92, 0.56, 0.37, 0.89, 0.86, 0.93, 0.84, 0.96, 0.66, 0.24, 0.8, 0.74, 0.82, 0.17, 0.95, 0.25, 0.19, 0.23, 0.13, 0.11, 0.21, 0.15, 0.3, 0.14, 0.2, 0.18, 0.54, 0.41, 0.27, 0.28, 0.33, 0.36, 0.77, 0.34, 0.46, 0.45, 0.68, 0.43, 0.49, 0.53, 0.69, 0.52, 0.98, 0.57, 0.38, 0.91, 0.47, 0.85, 0.64, 0.63, 0.65, 0.35, 1.0, 0.39, 0.4, 0.83, 0.55, 0.75, 0.97, 0.76, 0.59, 0.48, 0.73, 0.79, 0.99, 0.81, 0.72, 0.94, 0.87, 0.78, 0.51, 0.61, 0.44, 0.62, 0.58, 0, 0.02, 0.06, 0.07, 0.05, 0.03, 0.04, 0.01, 0.08, 0.99, 0.82, 0.14, 0.79, 0.72, 0.15, 0.78, 0.67, 0.41, 0.97, 0.22, 0.44, 0.1, 0.69, 0.89, 0.17, 0.09, 0.66, 0.3, 0.19, 0.12, 8%, 5%, 4%, 2%, 1%, 0%, 26%, 12%, 6%, 29%, 19%, 52%, 11%, 3%, 87%, 66%, 79%, 9%, 13%, 82%, 91%, 93%, 62%, 7%, 88%, 48%, 81%, 84%, 94%, 90%, 92%, 86%, 95%, 96%, 75%, 16%, 54%, 18%, 17%, 25%, 47%, 20%, 60%, 74%, 10%, 24%, 37%, 33%, 23%, 44%, 15%, 43%, 28%, 61%, 59%, 89%, 40%, 21%, 22%, 69%, 97%, 70%, 63%, 83%, 58%, 41%, 45%, 27%, 14%, 78%, 77%, 71%, 39%, 56%, 32%, 98%, 76%, 42%, 57%, 80%, 51%, 73%, 30%, 31%, 50%, 68%, 38%, 46%, 53%, 49%, 72%, 35%, 34%, 36%, 55%, 99%, 67%, 65%, 100%, 85%, 64%, 0.16, 0.26, 0.76, 0.18, 0.94, 0.38, 0.53, 0.35, 0.31, 0.5, 0.25, 0.23, 0.29, 0.57, 0.11, 0.62, 0.13, 0.6, 0.84, 0.37, 0.21, 0.8, 0.47, 0.2, 0.32, 0.63, 0.61, 0.33, 0.39, 0.59, 0.28, 0.54, 0.4, 0.27, 0.43, 0.24, 0.46, 0.55, 0.75, 0.7, 0.64, 0.48, 0.45, 0.42, 0.9, 0.36, 0.86, 0.34, 0.58, 0.74, 0.68, 0.88, 1, 0.52, 0.98, 0.65, 0.83, 0.91, 0.96, 0.85, 0.71, 0.56, 0.92, 0.93, 0.51, worer/u256:0, atop, dhclient, apache2, <apache2>, <dhclient>, 0.81, 0.87, 0.77, 0.95, 0.73, 0.49, "
     ]
    }
   ],
   "source": [
    "# #Also has 'K's as 'M's\n",
    "\n",
    "unique = linux_disk['DSK'].unique()\n",
    "\n",
    "for values in unique:\n",
    "    print(values, end=', ')"
   ]
  },
  {
   "cell_type": "code",
   "execution_count": 23,
   "metadata": {},
   "outputs": [
    {
     "data": {
      "text/plain": [
       "(1927361,)"
      ]
     },
     "execution_count": 23,
     "metadata": {},
     "output_type": "execute_result"
    }
   ],
   "source": [
    "linux_disk['DSK'].shape"
   ]
  },
  {
   "cell_type": "code",
   "execution_count": 24,
   "metadata": {},
   "outputs": [
    {
     "data": {
      "text/plain": [
       "0.0           1424435\n",
       "0              115312\n",
       "0.01            58169\n",
       "0%              47699\n",
       "0.02            30133\n",
       "               ...   \n",
       "0.59                2\n",
       "dhclient            1\n",
       "0.52                1\n",
       "<dhclient>          1\n",
       "0.49                1\n",
       "Name: DSK, Length: 309, dtype: int64"
      ]
     },
     "execution_count": 24,
     "metadata": {},
     "output_type": "execute_result"
    }
   ],
   "source": [
    "linux_disk['DSK'].value_counts()"
   ]
  },
  {
   "cell_type": "code",
   "execution_count": 25,
   "metadata": {},
   "outputs": [],
   "source": [
    "linux_disk['DSK'].replace( ['worer/u256:0', 'atop', 'dhclient', 'apache2','<apache2>', '<dhclient>' ] ,[ '0','0', '0','0', '0','0' ], inplace= True)\n",
    "linux_disk['DSK'].replace('%', '', regex=True, inplace=True)"
   ]
  },
  {
   "cell_type": "code",
   "execution_count": 26,
   "metadata": {},
   "outputs": [],
   "source": [
    "linux_disk['DSK'] = linux_disk['DSK'].astype(float)"
   ]
  },
  {
   "cell_type": "code",
   "execution_count": 27,
   "metadata": {},
   "outputs": [],
   "source": [
    "linux_disk['DSK'].replace([8.0, 5.0, 4.0, 2.0, 26.0, 12.0, 6.0, 29.0, 19.0, 52.0, 11.0, 3.0, 87.0, 66.0, 79.0, 9.0, 13.0, 82.0, 91.0, 93.0, 62.0, 7.0, 88.0, 48.0, 81.0, 84.0, 94.0, 90.0, 92.0, 86.0, 95.0, 96.0, 75.0, 16.0, 54.0, 18.0, 17.0, 25.0, 47.0, 20.0, 60.0, 74.0, 10.0, 24.0, 37.0, 33.0, 23.0, 44.0, 15.0, 43.0, 28.0, 61.0, 59.0, 89.0, 40.0, 21.0, 22.0, 69.0, 97.0, 70.0, 63.0, 83.0, 58.0, 41.0, 45.0, 27.0, 14.0, 78.0, 77.0, 71.0, 39.0, 56.0, 32.0, 98.0, 76.0, 42.0, 57.0, 80.0, 51.0, 73.0, 30.0, 31.0, 50.0, 68.0, 38.0, 46.0, 53.0, 49.0, 72.0, 35.0, 34.0, 36.0, 55.0, 99.0, 67.0, 65.0, 100.0, 85.0, 64.0], [0.08, 0.05, 0.04, 0.02,0.26, 0.12, 0.06, 0.29, 0.19, 0.52, 0.11, 0.03, 0.87, 0.66, 0.79, 0.09, 0.13, 0.82, 0.91, 0.93, 0.62, 0.07, 0.88, 0.48, 0.81, 0.84, 0.94, 0.90, 0.92, 0.86, 0.95, 0.96, 0.75, 0.16, 0.54, 0.18, 0.17, 0.25, 0.47, 0.20, 0.60, 0.74, 0.10, 0.24, 0.37, 0.33, 0.23, 0.44, 0.15, 0.43, 0.28, 0.61, 0.59, 0.89, 0.40, 0.21, 0.22, 0.69, 0.97, 0.70, 0.63, 0.83, 0.58, 0.41, 0.45, 0.27, 0.14, 0.78, 0.77, 0.71, 0.39, 0.56, 0.32, 0.98, 0.76, 0.42, 0.57, 0.80, 0.51, 0.73, 0.30, 0.31, 0.50, 0.68, 0.38, 0.46, 0.53, 0.49, 0.72, 0.35, 0.34, 0.36, 0.55, 0.99, 0.67, 0.65, 1.00, 0.85, 0.64], regex=True, inplace=True)"
   ]
  },
  {
   "cell_type": "code",
   "execution_count": 28,
   "metadata": {},
   "outputs": [
    {
     "name": "stdout",
     "output_type": "stream",
     "text": [
      "0.22, 0.04, 0.02, 0.01, 0.0, 0.32, 0.1, 0.08, 0.07, 0.06, 0.26, 0.6, 0.12, 0.7, 0.16, 0.05, 0.9, 0.03, 0.42, 0.09, 0.5, 0.88, 0.71, 0.67, 0.31, 0.29, 0.92, 0.56, 0.37, 0.89, 0.86, 0.93, 0.84, 0.96, 0.66, 0.24, 0.8, 0.74, 0.82, 0.17, 0.95, 0.25, 0.19, 0.23, 0.13, 0.11, 0.21, 0.15, 0.3, 0.14, 0.2, 0.18, 0.54, 0.41, 0.27, 0.28, 0.33, 0.36, 0.77, 0.34, 0.46, 0.45, 0.68, 0.43, 0.49, 0.53, 0.69, 0.52, 0.98, 0.57, 0.38, 0.91, 0.47, 0.85, 0.64, 0.63, 0.65, 0.35, 1.0, 0.39, 0.4, 0.83, 0.55, 0.75, 0.97, 0.76, 0.59, 0.48, 0.73, 0.79, 0.99, 0.81, 0.72, 0.94, 0.87, 0.78, 0.51, 0.61, 0.44, 0.62, 0.58, "
     ]
    }
   ],
   "source": [
    "#Also has 'K's as 'M's\n",
    "\n",
    "unique = linux_disk['DSK'].unique()\n",
    "\n",
    "for values in unique:\n",
    "    print(values, end=', ')"
   ]
  },
  {
   "cell_type": "code",
   "execution_count": 29,
   "metadata": {},
   "outputs": [],
   "source": [
    "linux_disk['DSK'] = linux_disk['DSK'].astype(float)"
   ]
  },
  {
   "cell_type": "code",
   "execution_count": 30,
   "metadata": {},
   "outputs": [
    {
     "data": {
      "text/plain": [
       "0"
      ]
     },
     "execution_count": 30,
     "metadata": {},
     "output_type": "execute_result"
    }
   ],
   "source": [
    "linux_disk['DSK'].isnull().sum()"
   ]
  },
  {
   "cell_type": "code",
   "execution_count": 31,
   "metadata": {},
   "outputs": [
    {
     "name": "stdout",
     "output_type": "stream",
     "text": [
      "(1927361,)\n"
     ]
    },
    {
     "data": {
      "text/plain": [
       "0.00    1587511\n",
       "0.01      61026\n",
       "0.02      32994\n",
       "0.04      28965\n",
       "0.03      28798\n",
       "         ...   \n",
       "0.56        126\n",
       "0.53        124\n",
       "0.34        100\n",
       "0.61         98\n",
       "0.59         94\n",
       "Name: DSK, Length: 101, dtype: int64"
      ]
     },
     "execution_count": 31,
     "metadata": {},
     "output_type": "execute_result"
    }
   ],
   "source": [
    "print(linux_disk['DSK'].shape)\n",
    "linux_disk['DSK'].value_counts()"
   ]
  },
  {
   "cell_type": "code",
   "execution_count": 32,
   "metadata": {},
   "outputs": [
    {
     "data": {
      "text/plain": [
       "atop              415305\n",
       "apache2           321422\n",
       "vmtoolsd          109131\n",
       "Xorg               64249\n",
       "nautilus           60624\n",
       "                   ...  \n",
       "kworker/5:3-ev         1\n",
       "kworker/5:4            1\n",
       "kworker/5:5            1\n",
       "kworker/5:2-rc         1\n",
       "kworker/4:1-ip         1\n",
       "Name: CMD, Length: 753, dtype: int64"
      ]
     },
     "execution_count": 32,
     "metadata": {},
     "output_type": "execute_result"
    }
   ],
   "source": [
    "linux_disk['CMD'].value_counts()"
   ]
  },
  {
   "cell_type": "code",
   "execution_count": null,
   "metadata": {},
   "outputs": [],
   "source": [
    "#To see all the unique values\n",
    "# unique = linux_disk['CMD'].unique()\n",
    "\n",
    "# for values in unique:\n",
    "#     print(values, end=', ')"
   ]
  },
  {
   "cell_type": "code",
   "execution_count": 34,
   "metadata": {},
   "outputs": [],
   "source": [
    "from sklearn import preprocessing\n",
    "le = preprocessing.LabelEncoder()\n",
    "linux_disk['CMD'] = le.fit_transform(linux_disk['CMD'])"
   ]
  },
  {
   "cell_type": "code",
   "execution_count": 35,
   "metadata": {},
   "outputs": [
    {
     "name": "stdout",
     "output_type": "stream",
     "text": [
      "col:  PID\n"
     ]
    },
    {
     "data": {
      "image/png": "[encoded data removed]",
      "text/plain": [
       "<Figure size 640x480 with 1 Axes>"
      ]
     },
     "metadata": {},
     "output_type": "display_data"
    },
    {
     "name": "stdout",
     "output_type": "stream",
     "text": [
      "col:  RDDSK\n"
     ]
    },
    {
     "data": {
      "image/png": "[encoded data removed]",
      "text/plain": [
       "<Figure size 640x480 with 1 Axes>"
      ]
     },
     "metadata": {},
     "output_type": "display_data"
    },
    {
     "name": "stdout",
     "output_type": "stream",
     "text": [
      "col:  WRDSK\n"
     ]
    },
    {
     "data": {
      "image/png": "[encoded data removed]",
      "text/plain": [
       "<Figure size 640x480 with 1 Axes>"
      ]
     },
     "metadata": {},
     "output_type": "display_data"
    },
    {
     "name": "stdout",
     "output_type": "stream",
     "text": [
      "col:  WCANCL\n"
     ]
    },
    {
     "data": {
      "image/png": "[encoded data removed]",
      "text/plain": [
       "<Figure size 640x480 with 1 Axes>"
      ]
     },
     "metadata": {},
     "output_type": "display_data"
    },
    {
     "name": "stdout",
     "output_type": "stream",
     "text": [
      "col:  DSK\n"
     ]
    },
    {
     "data": {
      "image/png": "[encoded data removed]",
      "text/plain": [
       "<Figure size 640x480 with 1 Axes>"
      ]
     },
     "metadata": {},
     "output_type": "display_data"
    },
    {
     "name": "stdout",
     "output_type": "stream",
     "text": [
      "col:  CMD\n"
     ]
    },
    {
     "data": {
      "image/png": "[encoded data removed]",
      "text/plain": [
       "<Figure size 640x480 with 1 Axes>"
      ]
     },
     "metadata": {},
     "output_type": "display_data"
    },
    {
     "name": "stdout",
     "output_type": "stream",
     "text": [
      "col:  label\n"
     ]
    },
    {
     "data": {
      "image/png": "[encoded data removed]",
      "text/plain": [
       "<Figure size 640x480 with 1 Axes>"
      ]
     },
     "metadata": {},
     "output_type": "display_data"
    }
   ],
   "source": [
    "import matplotlib.pyplot as plt\n",
    "columns = linux_disk.columns\n",
    "for col in columns:\n",
    "    print(\"col: \", col)\n",
    "    linux_disk[col].hist(bins = 50)\n",
    "    plt.show()"
   ]
  },
  {
   "cell_type": "code",
   "execution_count": 36,
   "metadata": {},
   "outputs": [],
   "source": [
    "from sklearn.model_selection import StratifiedKFold\n",
    "skf = StratifiedKFold(n_splits=8, shuffle = True, random_state=3)"
   ]
  },
  {
   "cell_type": "code",
   "execution_count": 37,
   "metadata": {},
   "outputs": [],
   "source": [
    "from sklearn.metrics import f1_score, accuracy_score\n",
    "\n",
    "def get_accuracy_score(model, x_train, x_test, y_train, y_test):\n",
    "    model.fit(x_train, y_train)\n",
    "    y_pred= model.predict(x_test)\n",
    "    modelAccuracyTest = accuracy_score(y_pred,y_test)\n",
    "    return modelAccuracyTest\n",
    "\n",
    "def get_f1_score(model, x_train, x_test, y_train, y_test):\n",
    "    model.fit(x_train, y_train)\n",
    "    y_pred= model.predict(x_test)\n",
    "    modelF1Test = f1_score(y_pred,y_test)\n",
    "    return modelF1Test"
   ]
  },
  {
   "cell_type": "code",
   "execution_count": 38,
   "metadata": {},
   "outputs": [],
   "source": [
    "x = linux_disk.drop('label', axis = 1)\n",
    "y = linux_disk['label']"
   ]
  },
  {
   "attachments": {},
   "cell_type": "markdown",
   "metadata": {},
   "source": [
    "# Without Oversampling"
   ]
  },
  {
   "cell_type": "code",
   "execution_count": 39,
   "metadata": {},
   "outputs": [
    {
     "name": "stdout",
     "output_type": "stream",
     "text": [
      "Accuracy Score:  0.8654735672587566\n",
      "F1 Score: 0.4916126308675959\n"
     ]
    }
   ],
   "source": [
    "from sklearn.tree import DecisionTreeClassifier\n",
    "from statistics import mean\n",
    "Dtree_accuracy_scores = []\n",
    "Dtree_f1_scores = []\n",
    "\n",
    "for train_index, test_index in skf.split(x, y):\n",
    "    x_train, x_test, y_train, y_test = x.iloc[train_index], x.iloc[test_index], y.iloc[train_index], y.iloc[test_index]\n",
    "\n",
    "    Dtree_accuracy_scores.append(get_accuracy_score(DecisionTreeClassifier(), x_train, x_test, y_train, y_test))\n",
    "    Dtree_f1_scores.append(get_f1_score(DecisionTreeClassifier(), x_train, x_test, y_train, y_test))\n",
    "\n",
    "print('Accuracy Score: ',mean(Dtree_accuracy_scores))\n",
    "print('F1 Score:', mean(Dtree_f1_scores))"
   ]
  },
  {
   "attachments": {},
   "cell_type": "markdown",
   "metadata": {},
   "source": [
    "# Oversampling"
   ]
  },
  {
   "cell_type": "code",
   "execution_count": 40,
   "metadata": {},
   "outputs": [
    {
     "name": "stdout",
     "output_type": "stream",
     "text": [
      "Before oversampling {0: 1409384, 1: 277057}\n",
      "After oversampling {0: 1409384, 1: 1409384}\n"
     ]
    }
   ],
   "source": [
    "from imblearn.over_sampling import SMOTE\n",
    "import numpy as np\n",
    "#Seeing the value count before oversampling\n",
    "unique, count = np.unique(y_train, return_counts = True)\n",
    "y_train_dict_value_count = {k:v for (k,v) in zip(unique, count)}\n",
    "print(\"Before oversampling\",y_train_dict_value_count)\n",
    "\n",
    "sm = SMOTE(random_state=12)\n",
    "x_train_sm, y_train_sm = sm.fit_sample(x_train, y_train)\n",
    "\n",
    "# Seeing the value count after oversampling\n",
    "unique, count = np.unique(y_train_sm, return_counts = True)\n",
    "y_train_smote_value_count = {k:v for (k,v) in zip(unique, count)}\n",
    "print(\"After oversampling\",y_train_smote_value_count)"
   ]
  },
  {
   "cell_type": "code",
   "execution_count": 41,
   "metadata": {},
   "outputs": [
    {
     "name": "stdout",
     "output_type": "stream",
     "text": [
      "Accuracy Score: 0.7992314372804005\n",
      "F1 Score: 0.8025472273403464\n"
     ]
    }
   ],
   "source": [
    "from sklearn.tree import DecisionTreeClassifier\n",
    "from statistics import mean\n",
    "Dtree_accuracy_scores = []\n",
    "Dtree_f1_scores = []\n",
    "\n",
    "for train_index, test_index in skf.split(x_train_sm, y_train_sm):\n",
    "    x_train, x_test, y_train, y_test = x_train_sm.iloc[train_index], x_train_sm.iloc[test_index], y_train_sm.iloc[train_index], y_train_sm.iloc[test_index]\n",
    "    Dtree_accuracy_scores.append(get_accuracy_score(DecisionTreeClassifier(), x_train, x_test, y_train, y_test))\n",
    "    Dtree_f1_scores.append(get_f1_score(DecisionTreeClassifier(), x_train, x_test, y_train, y_test))\n",
    "\n",
    "print('Accuracy Score:',mean(Dtree_accuracy_scores))\n",
    "print('F1 Score:', mean(Dtree_f1_scores))"
   ]
  },
  {
   "attachments": {},
   "cell_type": "markdown",
   "metadata": {},
   "source": [
    "# Undersampling"
   ]
  },
  {
   "cell_type": "code",
   "execution_count": 42,
   "metadata": {},
   "outputs": [
    {
     "data": {
      "text/plain": [
       "<AxesSubplot: xlabel='label', ylabel='count'>"
      ]
     },
     "execution_count": 42,
     "metadata": {},
     "output_type": "execute_result"
    },
    {
     "data": {
      "image/png": "[encoded data removed]",
      "text/plain": [
       "<Figure size 640x480 with 1 Axes>"
      ]
     },
     "metadata": {},
     "output_type": "display_data"
    }
   ],
   "source": [
    "target = 'label'\n",
    "\n",
    "import numpy as np\n",
    "minority_class_len = len(linux_disk[linux_disk[target] == 1])\n",
    "majority_class_indices = linux_disk[linux_disk[target] == 0].index\n",
    "\n",
    "random_majority_indices = np.random.choice(majority_class_indices, minority_class_len, replace=False)\n",
    "\n",
    "minority_class_indices = linux_disk[linux_disk[target] == 1].index\n",
    "\n",
    "under_sample_indices = np.concatenate([minority_class_indices, random_majority_indices])\n",
    "\n",
    "under_sample = linux_disk.loc[under_sample_indices]\n",
    "\n",
    "import seaborn as sns\n",
    "sns.countplot(x = target, data = under_sample)\n"
   ]
  },
  {
   "attachments": {},
   "cell_type": "markdown",
   "metadata": {},
   "source": [
    "^for some reason the undersampling is not complete"
   ]
  },
  {
   "cell_type": "code",
   "execution_count": 43,
   "metadata": {},
   "outputs": [
    {
     "name": "stdout",
     "output_type": "stream",
     "text": [
      "Accuracy Score: 0.8157332328575403\n",
      "F1 Score: 0.6779691212102706\n"
     ]
    }
   ],
   "source": [
    "und_x = under_sample.loc[:, linux_disk.columns !=target]\n",
    "und_y = under_sample.loc[:, linux_disk.columns == target]\n",
    "\n",
    "from sklearn.tree import DecisionTreeClassifier\n",
    "from statistics import mean\n",
    "Dtree_accuracy_scores = []\n",
    "Dtree_f1_scores = []\n",
    "\n",
    "for train_index, test_index in skf.split(und_x, und_y):\n",
    "    x_train, x_test, y_train, y_test = und_x.iloc[train_index], und_x.iloc[test_index], und_y.iloc[train_index], und_y.iloc[test_index]\n",
    "    Dtree_accuracy_scores.append(get_accuracy_score(DecisionTreeClassifier(), x_train, x_test, y_train, y_test))\n",
    "    Dtree_f1_scores.append(get_f1_score(DecisionTreeClassifier(), x_train, x_test, y_train, y_test))\n",
    "\n",
    "print('Accuracy Score:',mean(Dtree_accuracy_scores))\n",
    "print('F1 Score:', mean(Dtree_f1_scores))"
   ]
  }
 ],
 "metadata": {
  "kernelspec": {
   "display_name": "Python 3",
   "language": "python",
   "name": "python3"
  },
  "language_info": {
   "codemirror_mode": {
    "name": "ipython",
    "version": 3
   },
   "file_extension": ".py",
   "mimetype": "text/x-python",
   "name": "python",
   "nbconvert_exporter": "python",
   "pygments_lexer": "ipython3",
   "version": "3.10.7 (tags/v3.10.7:6cc6b13, Sep  5 2022, 14:08:36) [MSC v.1933 64 bit (AMD64)]"
  },
  "orig_nbformat": 4,
  "vscode": {
   "interpreter": {
    "hash": "c6028a8a5a12648e78fa32d0f161bce4cccc9ded56ee541b56c5f14e4c0285c4"
   }
  }
 },
 "nbformat": 4,
 "nbformat_minor": 2
}
