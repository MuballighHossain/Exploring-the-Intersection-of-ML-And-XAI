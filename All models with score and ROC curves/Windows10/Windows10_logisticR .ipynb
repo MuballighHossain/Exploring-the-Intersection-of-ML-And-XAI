{
  "cells": [
    {
      "cell_type": "code",
      "execution_count": null,
      "metadata": {
        "id": "AnYlr_XlPr2P"
      },
      "outputs": [],
      "source": [
        "import numpy as np\n",
        "import pandas as pd\n",
        "import matplotlib.pyplot as plt\n",
        "import seaborn as sns\n",
        "import sklearn as sk\n",
        "from sklearn.tree import DecisionTreeClassifier\n",
        "from sklearn.linear_model import LogisticRegression\n",
        "from sklearn.metrics import classification_report\n",
        "from sklearn.metrics import accuracy_score\n",
        "from sklearn.model_selection import train_test_split"
      ]
    },
    {
      "cell_type": "code",
      "source": [
        "!pip install scikit-plot"
      ],
      "metadata": {
        "colab": {
          "base_uri": "https://localhost:8080/"
        },
        "id": "GrwyxIdMli2h",
        "outputId": "84e87a2f-1ae2-4c32-83b4-80cf89412115"
      },
      "execution_count": null,
      "outputs": [
        {
          "output_type": "stream",
          "name": "stdout",
          "text": [
            "Looking in indexes: https://pypi.org/simple, https://us-python.pkg.dev/colab-wheels/public/simple/\n",
            "Requirement already satisfied: scikit-plot in /usr/local/lib/python3.8/dist-packages (0.3.7)\n",
            "Requirement already satisfied: joblib>=0.10 in /usr/local/lib/python3.8/dist-packages (from scikit-plot) (1.2.0)\n",
            "Requirement already satisfied: scikit-learn>=0.18 in /usr/local/lib/python3.8/dist-packages (from scikit-plot) (1.0.2)\n",
            "Requirement already satisfied: matplotlib>=1.4.0 in /usr/local/lib/python3.8/dist-packages (from scikit-plot) (3.2.2)\n",
            "Requirement already satisfied: scipy>=0.9 in /usr/local/lib/python3.8/dist-packages (from scikit-plot) (1.7.3)\n",
            "Requirement already satisfied: python-dateutil>=2.1 in /usr/local/lib/python3.8/dist-packages (from matplotlib>=1.4.0->scikit-plot) (2.8.2)\n",
            "Requirement already satisfied: pyparsing!=2.0.4,!=2.1.2,!=2.1.6,>=2.0.1 in /usr/local/lib/python3.8/dist-packages (from matplotlib>=1.4.0->scikit-plot) (3.0.9)\n",
            "Requirement already satisfied: numpy>=1.11 in /usr/local/lib/python3.8/dist-packages (from matplotlib>=1.4.0->scikit-plot) (1.21.6)\n",
            "Requirement already satisfied: kiwisolver>=1.0.1 in /usr/local/lib/python3.8/dist-packages (from matplotlib>=1.4.0->scikit-plot) (1.4.4)\n",
            "Requirement already satisfied: cycler>=0.10 in /usr/local/lib/python3.8/dist-packages (from matplotlib>=1.4.0->scikit-plot) (0.11.0)\n",
            "Requirement already satisfied: threadpoolctl>=2.0.0 in /usr/local/lib/python3.8/dist-packages (from scikit-learn>=0.18->scikit-plot) (3.1.0)\n",
            "Requirement already satisfied: six>=1.5 in /usr/local/lib/python3.8/dist-packages (from python-dateutil>=2.1->matplotlib>=1.4.0->scikit-plot) (1.15.0)\n"
          ]
        }
      ]
    },
    {
      "cell_type": "code",
      "execution_count": null,
      "metadata": {
        "colab": {
          "base_uri": "https://localhost:8080/"
        },
        "id": "lke54zBmPx2Q",
        "outputId": "f56fdf80-daef-4873-f4d2-2f4993be3c1e"
      },
      "outputs": [
        {
          "output_type": "stream",
          "name": "stdout",
          "text": [
            "Drive already mounted at /content/drive; to attempt to forcibly remount, call drive.mount(\"/content/drive\", force_remount=True).\n"
          ]
        }
      ],
      "source": [
        "\n",
        "from google.colab import drive\n",
        "drive.mount('/content/drive')"
      ]
    },
    {
      "cell_type": "code",
      "execution_count": null,
      "metadata": {
        "id": "iWJQwYZbPz0H",
        "colab": {
          "base_uri": "https://localhost:8080/",
          "height": 352
        },
        "outputId": "59626898-9664-4395-a9c0-dc5039d581dc"
      },
      "outputs": [
        {
          "output_type": "stream",
          "name": "stdout",
          "text": [
            "(35975, 127)\n"
          ]
        },
        {
          "output_type": "execute_result",
          "data": {
            "text/plain": [
              "           ts  Processor_DPC_Rate Processor_pct_ Idle_Time  \\\n",
              "0  1554206309                   4              29.90817156   \n",
              "1  1554206319                   9              31.75168186   \n",
              "2  1554206329                   5              29.49516707   \n",
              "3  1554206339                  12              18.22437505   \n",
              "4  1554206349                  12              14.86118688   \n",
              "\n",
              "  Processor_pct_ C3_Time Processor_pct_ Interrupt_Time Processor_pct_ C2_Time  \\\n",
              "0                      0                   0.078240397                      0   \n",
              "1                      0                   0.312520973                      0   \n",
              "2                      0                    1.16822183                      0   \n",
              "3                      0                   1.097191902                      0   \n",
              "4                      0                   1.562431019                      0   \n",
              "\n",
              "  Processor_pct_ User_Time Processor_pct_ C1_Time  \\\n",
              "0              61.02750947            29.90817156   \n",
              "1              59.14459419            31.75168186   \n",
              "2              46.02794011            29.49516707   \n",
              "3              47.80621859            18.22437505   \n",
              "4               41.8731513            14.86118688   \n",
              "\n",
              "  Processor_pct_ Processor_Time Processor_C1_ransitions_sec  ...  \\\n",
              "0                    66.2001486                 480.0949912  ...   \n",
              "1                   66.24773489                 427.0412837  ...   \n",
              "2                   66.90038148                 1159.426821  ...   \n",
              "3                   79.54520811                  736.622011  ...   \n",
              "4                   82.73513724                 896.1085985  ...   \n",
              "\n",
              "  LogicalDisk(_Total) Avg  Disk Write Queue Length  \\\n",
              "0                                      0.134876119   \n",
              "1                                      0.157564294   \n",
              "2                                      0.401773775   \n",
              "3                                      0.259062331   \n",
              "4                                      0.103836186   \n",
              "\n",
              "  LogicalDisk(_Total) Avg  Disk Queue Length  \\\n",
              "0                                0.163098103   \n",
              "1                                0.189279353   \n",
              "2                                0.782471877   \n",
              "3                                0.768934004   \n",
              "4                                1.081729712   \n",
              "\n",
              "  LogicalDisk(_Total) pct_ Disk Read Time  \\\n",
              "0                             2.822198461   \n",
              "1                              3.17150584   \n",
              "2                             38.06981014   \n",
              "3                             50.98716725   \n",
              "4                              97.7893526   \n",
              "\n",
              "  LogicalDisk(_Total) Disk Write Bytes sec  \\\n",
              "0                              1924988.236   \n",
              "1                              1497232.743   \n",
              "2                              1854228.536   \n",
              "3                              15912390.29   \n",
              "4                               23609299.7   \n",
              "\n",
              "  LogicalDisk(_Total) Disk Transfers sec  \\\n",
              "0                            402.5827836   \n",
              "1                            355.1343322   \n",
              "2                            760.4317685   \n",
              "3                            699.4999538   \n",
              "4                            1184.550425   \n",
              "\n",
              "  LogicalDisk(_Total) Avg  Disk Bytes Transfer  \\\n",
              "0                                  9100.481592   \n",
              "1                                  11153.55449   \n",
              "2                                  26994.26595   \n",
              "3                                   53141.6638   \n",
              "4                                  40988.68444   \n",
              "\n",
              "   LogicalDisk(_Total) pct_ Disk Write Time  \\\n",
              "0                               13.48761188   \n",
              "1                               15.75642941   \n",
              "2                               40.17737752   \n",
              "3                               25.90623311   \n",
              "4                               10.38361856   \n",
              "\n",
              "  LogicalDisk(_Total) Avg  Disk sec Transfer  label    type  \n",
              "0                                0.000405118      0  normal  \n",
              "1                                0.000532995      0  normal  \n",
              "2                                0.001028323      0  normal  \n",
              "3                                0.001099429      0  normal  \n",
              "4                                0.000912738      0  normal  \n",
              "\n",
              "[5 rows x 127 columns]"
            ],
            "text/html": [
              "\n",
              "  <div id=\"df-79bab265-4bc2-4a90-99ed-1a5cc1b35390\">\n",
              "    <div class=\"colab-df-container\">\n",
              "      <div>\n",
              "<style scoped>\n",
              "    .dataframe tbody tr th:only-of-type {\n",
              "        vertical-align: middle;\n",
              "    }\n",
              "\n",
              "    .dataframe tbody tr th {\n",
              "        vertical-align: top;\n",
              "    }\n",
              "\n",
              "    .dataframe thead th {\n",
              "        text-align: right;\n",
              "    }\n",
              "</style>\n",
              "<table border=\"1\" class=\"dataframe\">\n",
              "  <thead>\n",
              "    <tr style=\"text-align: right;\">\n",
              "      <th></th>\n",
              "      <th>ts</th>\n",
              "      <th>Processor_DPC_Rate</th>\n",
              "      <th>Processor_pct_ Idle_Time</th>\n",
              "      <th>Processor_pct_ C3_Time</th>\n",
              "      <th>Processor_pct_ Interrupt_Time</th>\n",
              "      <th>Processor_pct_ C2_Time</th>\n",
              "      <th>Processor_pct_ User_Time</th>\n",
              "      <th>Processor_pct_ C1_Time</th>\n",
              "      <th>Processor_pct_ Processor_Time</th>\n",
              "      <th>Processor_C1_ransitions_sec</th>\n",
              "      <th>...</th>\n",
              "      <th>LogicalDisk(_Total) Avg  Disk Write Queue Length</th>\n",
              "      <th>LogicalDisk(_Total) Avg  Disk Queue Length</th>\n",
              "      <th>LogicalDisk(_Total) pct_ Disk Read Time</th>\n",
              "      <th>LogicalDisk(_Total) Disk Write Bytes sec</th>\n",
              "      <th>LogicalDisk(_Total) Disk Transfers sec</th>\n",
              "      <th>LogicalDisk(_Total) Avg  Disk Bytes Transfer</th>\n",
              "      <th>LogicalDisk(_Total) pct_ Disk Write Time</th>\n",
              "      <th>LogicalDisk(_Total) Avg  Disk sec Transfer</th>\n",
              "      <th>label</th>\n",
              "      <th>type</th>\n",
              "    </tr>\n",
              "  </thead>\n",
              "  <tbody>\n",
              "    <tr>\n",
              "      <th>0</th>\n",
              "      <td>1554206309</td>\n",
              "      <td>4</td>\n",
              "      <td>29.90817156</td>\n",
              "      <td>0</td>\n",
              "      <td>0.078240397</td>\n",
              "      <td>0</td>\n",
              "      <td>61.02750947</td>\n",
              "      <td>29.90817156</td>\n",
              "      <td>66.2001486</td>\n",
              "      <td>480.0949912</td>\n",
              "      <td>...</td>\n",
              "      <td>0.134876119</td>\n",
              "      <td>0.163098103</td>\n",
              "      <td>2.822198461</td>\n",
              "      <td>1924988.236</td>\n",
              "      <td>402.5827836</td>\n",
              "      <td>9100.481592</td>\n",
              "      <td>13.48761188</td>\n",
              "      <td>0.000405118</td>\n",
              "      <td>0</td>\n",
              "      <td>normal</td>\n",
              "    </tr>\n",
              "    <tr>\n",
              "      <th>1</th>\n",
              "      <td>1554206319</td>\n",
              "      <td>9</td>\n",
              "      <td>31.75168186</td>\n",
              "      <td>0</td>\n",
              "      <td>0.312520973</td>\n",
              "      <td>0</td>\n",
              "      <td>59.14459419</td>\n",
              "      <td>31.75168186</td>\n",
              "      <td>66.24773489</td>\n",
              "      <td>427.0412837</td>\n",
              "      <td>...</td>\n",
              "      <td>0.157564294</td>\n",
              "      <td>0.189279353</td>\n",
              "      <td>3.17150584</td>\n",
              "      <td>1497232.743</td>\n",
              "      <td>355.1343322</td>\n",
              "      <td>11153.55449</td>\n",
              "      <td>15.75642941</td>\n",
              "      <td>0.000532995</td>\n",
              "      <td>0</td>\n",
              "      <td>normal</td>\n",
              "    </tr>\n",
              "    <tr>\n",
              "      <th>2</th>\n",
              "      <td>1554206329</td>\n",
              "      <td>5</td>\n",
              "      <td>29.49516707</td>\n",
              "      <td>0</td>\n",
              "      <td>1.16822183</td>\n",
              "      <td>0</td>\n",
              "      <td>46.02794011</td>\n",
              "      <td>29.49516707</td>\n",
              "      <td>66.90038148</td>\n",
              "      <td>1159.426821</td>\n",
              "      <td>...</td>\n",
              "      <td>0.401773775</td>\n",
              "      <td>0.782471877</td>\n",
              "      <td>38.06981014</td>\n",
              "      <td>1854228.536</td>\n",
              "      <td>760.4317685</td>\n",
              "      <td>26994.26595</td>\n",
              "      <td>40.17737752</td>\n",
              "      <td>0.001028323</td>\n",
              "      <td>0</td>\n",
              "      <td>normal</td>\n",
              "    </tr>\n",
              "    <tr>\n",
              "      <th>3</th>\n",
              "      <td>1554206339</td>\n",
              "      <td>12</td>\n",
              "      <td>18.22437505</td>\n",
              "      <td>0</td>\n",
              "      <td>1.097191902</td>\n",
              "      <td>0</td>\n",
              "      <td>47.80621859</td>\n",
              "      <td>18.22437505</td>\n",
              "      <td>79.54520811</td>\n",
              "      <td>736.622011</td>\n",
              "      <td>...</td>\n",
              "      <td>0.259062331</td>\n",
              "      <td>0.768934004</td>\n",
              "      <td>50.98716725</td>\n",
              "      <td>15912390.29</td>\n",
              "      <td>699.4999538</td>\n",
              "      <td>53141.6638</td>\n",
              "      <td>25.90623311</td>\n",
              "      <td>0.001099429</td>\n",
              "      <td>0</td>\n",
              "      <td>normal</td>\n",
              "    </tr>\n",
              "    <tr>\n",
              "      <th>4</th>\n",
              "      <td>1554206349</td>\n",
              "      <td>12</td>\n",
              "      <td>14.86118688</td>\n",
              "      <td>0</td>\n",
              "      <td>1.562431019</td>\n",
              "      <td>0</td>\n",
              "      <td>41.8731513</td>\n",
              "      <td>14.86118688</td>\n",
              "      <td>82.73513724</td>\n",
              "      <td>896.1085985</td>\n",
              "      <td>...</td>\n",
              "      <td>0.103836186</td>\n",
              "      <td>1.081729712</td>\n",
              "      <td>97.7893526</td>\n",
              "      <td>23609299.7</td>\n",
              "      <td>1184.550425</td>\n",
              "      <td>40988.68444</td>\n",
              "      <td>10.38361856</td>\n",
              "      <td>0.000912738</td>\n",
              "      <td>0</td>\n",
              "      <td>normal</td>\n",
              "    </tr>\n",
              "  </tbody>\n",
              "</table>\n",
              "<p>5 rows × 127 columns</p>\n",
              "</div>\n",
              "      <button class=\"colab-df-convert\" onclick=\"convertToInteractive('df-79bab265-4bc2-4a90-99ed-1a5cc1b35390')\"\n",
              "              title=\"Convert this dataframe to an interactive table.\"\n",
              "              style=\"display:none;\">\n",
              "        \n",
              "  <svg xmlns=\"http://www.w3.org/2000/svg\" height=\"24px\"viewBox=\"0 0 24 24\"\n",
              "       width=\"24px\">\n",
              "    <path d=\"M0 0h24v24H0V0z\" fill=\"none\"/>\n",
              "    <path d=\"M18.56 5.44l.94 2.06.94-2.06 2.06-.94-2.06-.94-.94-2.06-.94 2.06-2.06.94zm-11 1L8.5 8.5l.94-2.06 2.06-.94-2.06-.94L8.5 2.5l-.94 2.06-2.06.94zm10 10l.94 2.06.94-2.06 2.06-.94-2.06-.94-.94-2.06-.94 2.06-2.06.94z\"/><path d=\"M17.41 7.96l-1.37-1.37c-.4-.4-.92-.59-1.43-.59-.52 0-1.04.2-1.43.59L10.3 9.45l-7.72 7.72c-.78.78-.78 2.05 0 2.83L4 21.41c.39.39.9.59 1.41.59.51 0 1.02-.2 1.41-.59l7.78-7.78 2.81-2.81c.8-.78.8-2.07 0-2.86zM5.41 20L4 18.59l7.72-7.72 1.47 1.35L5.41 20z\"/>\n",
              "  </svg>\n",
              "      </button>\n",
              "      \n",
              "  <style>\n",
              "    .colab-df-container {\n",
              "      display:flex;\n",
              "      flex-wrap:wrap;\n",
              "      gap: 12px;\n",
              "    }\n",
              "\n",
              "    .colab-df-convert {\n",
              "      background-color: #E8F0FE;\n",
              "      border: none;\n",
              "      border-radius: 50%;\n",
              "      cursor: pointer;\n",
              "      display: none;\n",
              "      fill: #1967D2;\n",
              "      height: 32px;\n",
              "      padding: 0 0 0 0;\n",
              "      width: 32px;\n",
              "    }\n",
              "\n",
              "    .colab-df-convert:hover {\n",
              "      background-color: #E2EBFA;\n",
              "      box-shadow: 0px 1px 2px rgba(60, 64, 67, 0.3), 0px 1px 3px 1px rgba(60, 64, 67, 0.15);\n",
              "      fill: #174EA6;\n",
              "    }\n",
              "\n",
              "    [theme=dark] .colab-df-convert {\n",
              "      background-color: #3B4455;\n",
              "      fill: #D2E3FC;\n",
              "    }\n",
              "\n",
              "    [theme=dark] .colab-df-convert:hover {\n",
              "      background-color: #434B5C;\n",
              "      box-shadow: 0px 1px 3px 1px rgba(0, 0, 0, 0.15);\n",
              "      filter: drop-shadow(0px 1px 2px rgba(0, 0, 0, 0.3));\n",
              "      fill: #FFFFFF;\n",
              "    }\n",
              "  </style>\n",
              "\n",
              "      <script>\n",
              "        const buttonEl =\n",
              "          document.querySelector('#df-79bab265-4bc2-4a90-99ed-1a5cc1b35390 button.colab-df-convert');\n",
              "        buttonEl.style.display =\n",
              "          google.colab.kernel.accessAllowed ? 'block' : 'none';\n",
              "\n",
              "        async function convertToInteractive(key) {\n",
              "          const element = document.querySelector('#df-79bab265-4bc2-4a90-99ed-1a5cc1b35390');\n",
              "          const dataTable =\n",
              "            await google.colab.kernel.invokeFunction('convertToInteractive',\n",
              "                                                     [key], {});\n",
              "          if (!dataTable) return;\n",
              "\n",
              "          const docLinkHtml = 'Like what you see? Visit the ' +\n",
              "            '<a target=\"_blank\" href=https://colab.research.google.com/notebooks/data_table.ipynb>data table notebook</a>'\n",
              "            + ' to learn more about interactive tables.';\n",
              "          element.innerHTML = '';\n",
              "          dataTable['output_type'] = 'display_data';\n",
              "          await google.colab.output.renderOutput(dataTable, element);\n",
              "          const docLink = document.createElement('div');\n",
              "          docLink.innerHTML = docLinkHtml;\n",
              "          element.appendChild(docLink);\n",
              "        }\n",
              "      </script>\n",
              "    </div>\n",
              "  </div>\n",
              "  "
            ]
          },
          "metadata": {},
          "execution_count": 4
        }
      ],
      "source": [
        "# We will read our CSV file from our Google Drive and store it in a variable called windowsData\n",
        "import pandas as pd\n",
        "windowsData = pd.read_csv('/content/drive/MyDrive/datasets/Windows_processed/windows10_dataset.csv')\n",
        "print(windowsData.shape)\n",
        "windowsData.head()"
      ]
    },
    {
      "cell_type": "code",
      "execution_count": null,
      "metadata": {
        "colab": {
          "base_uri": "https://localhost:8080/"
        },
        "id": "_0bAlF8vQQ9d",
        "outputId": "5b54946e-e115-406e-cac3-6940163ac1d3"
      },
      "outputs": [
        {
          "output_type": "execute_result",
          "data": {
            "text/plain": [
              "0"
            ]
          },
          "metadata": {},
          "execution_count": 5
        }
      ],
      "source": [
        "# Counting the empty columns\n",
        "windowsData.isna().sum().sum()"
      ]
    },
    {
      "cell_type": "code",
      "execution_count": null,
      "metadata": {
        "id": "m8-iAvv6Rlrr"
      },
      "outputs": [],
      "source": [
        "from sklearn.impute import SimpleImputer\n",
        "impute = SimpleImputer(missing_values=np.nan, strategy='constant', fill_value=-1)\n",
        "from sklearn.impute import SimpleImputer\n",
        "impute = SimpleImputer(missing_values= ' ', strategy='constant', fill_value = -1)\n",
        "\n",
        "# Imputing Columns 1 to 24\n",
        "impute.fit(windowsData.iloc[:,1:126])\n",
        "windowsData.iloc[:,1:126] = impute.transform(windowsData.iloc[:,1:126])\n",
        "\n",
        "# Imputing Columns 1 to 24\n",
        "impute.fit(windowsData.iloc[:,1:126])\n",
        "windowsData.iloc[:,1:126] = impute.transform(windowsData.iloc[:,1:126])\n",
        "\n",
        "windowsData.iloc[:,1:126] = (windowsData.iloc[:,1:126]).astype(float)\n",
        "\n",
        "pd.set_option('display.max_rows', 129)"
      ]
    },
    {
      "cell_type": "code",
      "execution_count": null,
      "metadata": {
        "id": "DUVsPK9LVh6V"
      },
      "outputs": [],
      "source": [
        "# #---corelation heatmap----\n",
        "# fig, ax = plt.subplots(figsize=(100,100))\n",
        "# sns.heatmap(windowsData.iloc[:,0:126].corr(),annot=True, linewidth = 10, ax=ax, fmt='.0%')"
      ]
    },
    {
      "cell_type": "code",
      "execution_count": null,
      "metadata": {
        "id": "zUhBrtdRy0IM"
      },
      "outputs": [],
      "source": [
        "from sklearn.model_selection import StratifiedKFold\n",
        "skf = StratifiedKFold(n_splits=8, shuffle = True, random_state=3)"
      ]
    },
    {
      "cell_type": "code",
      "execution_count": null,
      "metadata": {
        "id": "9-YlmtO5y_ca"
      },
      "outputs": [],
      "source": [
        "from sklearn.metrics import accuracy_score\n",
        "from sklearn import metrics\n",
        "# from sklearn.metrics import f1_score"
      ]
    },
    {
      "cell_type": "markdown",
      "source": [
        "#**Without Oversampling**"
      ],
      "metadata": {
        "id": "NsuNYd7hDc1N"
      }
    },
    {
      "cell_type": "code",
      "execution_count": null,
      "metadata": {
        "id": "r_jIOj1WzCb7"
      },
      "outputs": [],
      "source": [
        "x = windowsData.drop(['ts','type','label'],axis=1)\n",
        "y = windowsData['label']"
      ]
    },
    {
      "cell_type": "markdown",
      "source": [
        "# **Logistic Regression**"
      ],
      "metadata": {
        "id": "Vp0bzLaBcHZs"
      }
    },
    {
      "cell_type": "code",
      "source": [
        "for train_index, test_index in skf.split(x, y):\n",
        "    x_train, x_test, y_train, y_test = x.iloc[train_index], x.iloc[test_index], y.iloc[train_index], y.iloc[test_index]\n",
        "    \n",
        "lr = LogisticRegression(class_weight=\"balanced\")\n",
        "lr.fit(x_train, y_train) #Training the model\n",
        "y_pred_logistic = lr.predict(x_test)\n",
        "print(y_pred_logistic)# printing predictions\n",
        "\n",
        "\n",
        "#Accuracy Score\n",
        "\n",
        "from sklearn.metrics import accuracy_score\n",
        "LogisticRegressionAccuracy = accuracy_score(y_test, y_pred_logistic)\n",
        "print(\"Accuracy of Logistic Regression : \",LogisticRegressionAccuracy*100,'%')\n",
        "\n",
        "#F1 Score\n",
        "\n",
        "from sklearn.metrics import f1_score\n",
        "LogisticRegressionf1_scr = f1_score(y_test, y_pred_logistic)\n",
        "print(\"f1_score of Logistic Regression : \",LogisticRegressionf1_scr*100,'%')\n",
        "\n",
        "#AUC Score\n",
        "\n",
        "from sklearn.metrics import roc_auc_score\n",
        "auc = roc_auc_score (y_test, y_pred_logistic)\n",
        "print('AUC: %.2f' % auc)"
      ],
      "metadata": {
        "colab": {
          "base_uri": "https://localhost:8080/"
        },
        "id": "cn9JnP_0ZNjC",
        "outputId": "8f8663cd-f885-4a90-a2dd-d32166091f7c"
      },
      "execution_count": null,
      "outputs": [
        {
          "output_type": "stream",
          "name": "stdout",
          "text": [
            "[0. 0. 0. ... 1. 1. 1.]\n",
            "Accuracy of Logistic Regression :  79.31494661921708 %\n",
            "f1_score of Logistic Regression :  72.58254716981132 %\n",
            "AUC: 0.82\n"
          ]
        }
      ]
    },
    {
      "cell_type": "code",
      "source": [
        "#ROC CURVE:\n",
        "from sklearn.metrics import roc_curve, auc\n",
        "\n",
        "logistic_fpr, logistic_tpr, threshold = roc_curve(y_test, y_pred_logistic)\n",
        "auc_logistic = auc(logistic_fpr, logistic_tpr)\n",
        "\n",
        "plt.figure(figsize=(5, 5), dpi=100)\n",
        "plt.plot(logistic_fpr, logistic_tpr, marker='.', label='Logistic (auc = %0.3f)' % auc_logistic)\n",
        "\n",
        "plt.xlabel('False Positive Rate -->')\n",
        "plt.ylabel('True Positive Rate -->')\n",
        "\n",
        "plt.legend()\n",
        "\n",
        "plt.show()"
      ],
      "metadata": {
        "colab": {
          "base_uri": "https://localhost:8080/",
          "height": 457
        },
        "id": "1wuLkJ3eZ5RH",
        "outputId": "56bd26bc-7714-4421-ef7b-6db8b8b4664a"
      },
      "execution_count": null,
      "outputs": [
        {
          "output_type": "display_data",
          "data": {
            "text/plain": [
              "<Figure size 500x500 with 1 Axes>"
            ],
            "image/png": "[encoded data removed]"
          },
          "metadata": {
            "needs_background": "light"
          }
        }
      ]
    },
    {
      "cell_type": "code",
      "source": [
        "from sklearn.metrics import f1_score, accuracy_score, confusion_matrix\n",
        "\n",
        "confusion_matrix(y_test,y_pred_logistic)"
      ],
      "metadata": {
        "colab": {
          "base_uri": "https://localhost:8080/"
        },
        "id": "aYJNyiR_dMIF",
        "outputId": "409a4a10-6bff-40e3-de81-63d831e0dd25"
      },
      "execution_count": null,
      "outputs": [
        {
          "output_type": "execute_result",
          "data": {
            "text/plain": [
              "array([[2335,  773],\n",
              "       [ 157, 1231]])"
            ]
          },
          "metadata": {},
          "execution_count": 13
        }
      ]
    },
    {
      "cell_type": "markdown",
      "source": [
        "# **With OverSampling**"
      ],
      "metadata": {
        "id": "YlcBVhVHDW94"
      }
    },
    {
      "cell_type": "code",
      "execution_count": null,
      "metadata": {
        "colab": {
          "base_uri": "https://localhost:8080/"
        },
        "id": "Wiqp40OyzowG",
        "outputId": "f2c15931-aab7-45ca-dfa2-bf7274c69877"
      },
      "outputs": [
        {
          "output_type": "stream",
          "name": "stdout",
          "text": [
            "Before oversampling {0.0: 16663, 1.0: 16663}\n",
            "After oversampling {0.0: 16663, 1.0: 16663}\n"
          ]
        }
      ],
      "source": [
        "#OVersampling code\n",
        "from imblearn.over_sampling import SMOTE\n",
        "import numpy as np\n",
        "#Seeing the value count before oversampling\n",
        "unique, count = np.unique(y_train, return_counts = True)\n",
        "y_train_dict_value_count = {k:v for (k,v) in zip(unique, count)}\n",
        "print(\"Before oversampling\",y_train_dict_value_count)\n",
        "\n",
        "sm = SMOTE(random_state=12)\n",
        "x_train_sm, y_train_sm = sm.fit_resample(x_train, y_train)\n",
        "\n",
        "# Seeing the value count after oversampling\n",
        "unique, count = np.unique(y_train_sm, return_counts = True)\n",
        "y_train_smote_value_count = {k:v for (k,v) in zip(unique, count)}\n",
        "print(\"After oversampling\",y_train_smote_value_count)"
      ]
    },
    {
      "cell_type": "markdown",
      "source": [
        "# **Logistic Regression**"
      ],
      "metadata": {
        "id": "b2dFz801cdR_"
      }
    },
    {
      "cell_type": "code",
      "source": [
        "for train_index, test_index in skf.split(x_train_sm, y_train_sm):\n",
        "    x_train, x_test, y_train, y_test = x_train_sm.iloc[train_index], x_train_sm.iloc[test_index], y_train_sm.iloc[train_index], y_train_sm.iloc[test_index]\n",
        "\n",
        "lr = LogisticRegression(class_weight=\"balanced\")\n",
        "lr.fit(x_train, y_train) #Training the model\n",
        "y_pred_logistic = lr.predict(x_test)\n",
        "print(y_pred_logistic)# printing predictions\n",
        "\n",
        "\n",
        "#Accuracy Score\n",
        "\n",
        "from sklearn.metrics import accuracy_score\n",
        "LogisticRegressionAccuracy = accuracy_score(y_test, y_pred_logistic)\n",
        "print(\"Accuracy of Logistic Regression : \",LogisticRegressionAccuracy*100,'%')\n",
        "\n",
        "#F1 Score\n",
        "\n",
        "from sklearn.metrics import f1_score\n",
        "LogisticRegressionf1_scr = f1_score(y_test, y_pred_logistic)\n",
        "print(\"f1_score of Logistic Regression : \",LogisticRegressionf1_scr*100,'%')\n",
        "\n",
        "#AUC Score\n",
        "\n",
        "from sklearn.metrics import roc_auc_score\n",
        "auc = roc_auc_score (y_test, y_pred_logistic)\n",
        "print('AUC: %.2f' % auc)"
      ],
      "metadata": {
        "colab": {
          "base_uri": "https://localhost:8080/"
        },
        "outputId": "f86e8126-fa36-4aca-d2df-f2b32fee06b3",
        "id": "rYYEDTHScdR_"
      },
      "execution_count": null,
      "outputs": [
        {
          "output_type": "stream",
          "name": "stdout",
          "text": [
            "[1. 1. 1. ... 1. 1. 1.]\n",
            "Accuracy of Logistic Regression :  59.13565426170469 %\n",
            "f1_score of Logistic Regression :  67.48184944593045 %\n",
            "AUC: 0.59\n"
          ]
        }
      ]
    },
    {
      "cell_type": "code",
      "source": [
        "#ROC CURVE:\n",
        "from sklearn.metrics import roc_curve, auc, confusion_matrix\n",
        "\n",
        "logistic_fpr, logistic_tpr, threshold = roc_curve(y_test, y_pred_logistic)\n",
        "auc_logistic = auc(logistic_fpr, logistic_tpr)\n",
        "\n",
        "plt.figure(figsize=(5, 5), dpi=100)\n",
        "plt.plot(logistic_fpr, logistic_tpr, marker='.', label='Logistic (auc = %0.3f)' % auc_logistic)\n",
        "\n",
        "plt.xlabel('False Positive Rate -->')\n",
        "plt.ylabel('True Positive Rate -->')\n",
        "\n",
        "plt.legend()\n",
        "\n",
        "plt.show()\n",
        "\n",
        "\n"
      ],
      "metadata": {
        "colab": {
          "base_uri": "https://localhost:8080/",
          "height": 457
        },
        "outputId": "a37da0eb-a155-49dd-8851-cd6fdea0ee65",
        "id": "NBpaA1iLcdSA"
      },
      "execution_count": null,
      "outputs": [
        {
          "output_type": "display_data",
          "data": {
            "text/plain": [
              "<Figure size 500x500 with 1 Axes>"
            ],
            "image/png": "[encoded data removed]"
          },
          "metadata": {
            "needs_background": "light"
          }
        }
      ]
    },
    {
      "cell_type": "code",
      "source": [
        "confusion_matrix(y_test,y_pred_logistic)"
      ],
      "metadata": {
        "colab": {
          "base_uri": "https://localhost:8080/"
        },
        "id": "PEExDbCkd0ys",
        "outputId": "5832ddb0-7ef1-4c63-9d48-d558b9d98989"
      },
      "execution_count": null,
      "outputs": [
        {
          "output_type": "execute_result",
          "data": {
            "text/plain": [
              "array([[ 871, 1849],\n",
              "       [ 380, 2340]])"
            ]
          },
          "metadata": {},
          "execution_count": 85
        }
      ]
    },
    {
      "cell_type": "markdown",
      "source": [
        "# **undersampling on the data**"
      ],
      "metadata": {
        "id": "DB9yLuSHYXus"
      }
    },
    {
      "cell_type": "code",
      "source": [
        "x = windowsData.drop(['ts','type','label'],axis=1)\n",
        "y = windowsData['label']"
      ],
      "metadata": {
        "id": "Rvi5Jh57fPy9"
      },
      "execution_count": null,
      "outputs": []
    },
    {
      "cell_type": "code",
      "source": [
        "x = windowsData.drop(['ts','type','label'],axis=1)\n",
        "y = windowsData['label']\n",
        "for train_index, test_index in skf.split(x, y):\n",
        "    x_train, x_test, y_train, y_test = x.iloc[train_index], x.iloc[test_index], y.iloc[train_index], y.iloc[test_index]\n",
        "\n",
        "from imblearn.under_sampling import RandomUnderSampler\n",
        "import numpy as np\n",
        "from collections import Counter\n",
        "\n",
        "#Seeing the value count before oversampling\n",
        "print(\"Before undersampling\", Counter(y_train))\n",
        "\n",
        "rus = RandomUnderSampler(random_state=12)\n",
        "x_unsampled, y_unsampled = rus.fit_resample(x_train, y_train)\n",
        "\n",
        "# Seeing the value count after oversampling\n",
        "print(\"After undersampling\",Counter(y_unsampled))"
      ],
      "metadata": {
        "colab": {
          "base_uri": "https://localhost:8080/"
        },
        "id": "61asg-klhDaD",
        "outputId": "377e263f-c747-455e-d8d5-492ede8b950c"
      },
      "execution_count": null,
      "outputs": [
        {
          "output_type": "stream",
          "name": "stdout",
          "text": [
            "Before undersampling Counter({0.0: 21763, 1.0: 9716})\n",
            "After undersampling Counter({0.0: 9716, 1.0: 9716})\n"
          ]
        }
      ]
    },
    {
      "cell_type": "markdown",
      "source": [
        "**Logistic Regression**"
      ],
      "metadata": {
        "id": "R6itRUMOlRCT"
      }
    },
    {
      "cell_type": "code",
      "source": [
        "# --------------------------Logistic Reg -----------------------------------\n",
        "\n",
        "for train_index, test_index in skf.split(x_unsampled, y_unsampled):\n",
        "    x_train, x_test, y_train, y_test = x_unsampled.iloc[train_index], x_unsampled.iloc[test_index], y_unsampled.iloc[train_index], y_unsampled.iloc[test_index]\n",
        "\n",
        "lr = LogisticRegression(class_weight=\"balanced\")\n",
        "lr.fit(x_train, y_train) #Training the model\n",
        "y_pred_logistic = lr.predict(x_test)\n",
        "print(y_pred_logistic)# printing predictions\n",
        "\n",
        "\n",
        "#Accuracy Score\n",
        "\n",
        "from sklearn.metrics import accuracy_score\n",
        "LogisticRegressionAccuracy = accuracy_score(y_test, y_pred_logistic)\n",
        "print(\"Accuracy of Logistic Regression : \",LogisticRegressionAccuracy*100,'%')\n",
        "\n",
        "#F1 Score\n",
        "\n",
        "from sklearn.metrics import f1_score\n",
        "LogisticRegressionf1_scr = f1_score(y_test, y_pred_logistic)\n",
        "print(\"f1_score of Logistic Regression : \",LogisticRegressionf1_scr*100,'%')\n",
        "\n",
        "#AUC Score\n",
        "\n",
        "from sklearn.metrics import roc_auc_score\n",
        "auc = roc_auc_score (y_test, y_pred_logistic)\n",
        "print('AUC: %.2f' % auc)"
      ],
      "metadata": {
        "colab": {
          "base_uri": "https://localhost:8080/"
        },
        "id": "Ee06s7Q5eMQQ",
        "outputId": "0b7685ae-7548-43d0-e8fc-d75e9fd1e743"
      },
      "execution_count": null,
      "outputs": [
        {
          "output_type": "stream",
          "name": "stdout",
          "text": [
            "[1. 1. 1. ... 1. 1. 1.]\n",
            "Accuracy of Logistic Regression :  57.88390284067517 %\n",
            "f1_score of Logistic Regression :  66.77492692432608 %\n",
            "AUC: 0.58\n"
          ]
        }
      ]
    },
    {
      "cell_type": "markdown",
      "source": [
        "#**Unnecessary**"
      ],
      "metadata": {
        "id": "ayd6hdQ2sMYd"
      }
    },
    {
      "cell_type": "code",
      "source": [
        "# #ROC CURVE:\n",
        "# from sklearn.metrics import roc_curve, auc\n",
        "\n",
        "# logistic_fpr, logistic_tpr, threshold = roc_curve(y_test, y_pred_logistic)\n",
        "# auc_logistic = auc(logistic_fpr, logistic_tpr)\n",
        "\n",
        "# plt.figure(figsize=(5, 5), dpi=100)\n",
        "# plt.plot(logistic_fpr, logistic_tpr, marker='.', label='Logistic (auc = %0.3f)' % auc_logistic)\n",
        "\n",
        "# plt.xlabel('False Positive Rate -->')\n",
        "# plt.ylabel('True Positive Rate -->')\n",
        "\n",
        "# plt.legend()\n",
        "\n",
        "# plt.show()"
      ],
      "metadata": {
        "id": "YprxwGL3lPXn"
      },
      "execution_count": null,
      "outputs": []
    },
    {
      "cell_type": "code",
      "source": [
        "# # --------------------------DecisionTree -----------------------------------\n",
        "# from sklearn.tree import DecisionTreeClassifier\n",
        "# from statistics import mean\n",
        "# DT_accuracy_scores = []\n",
        "# DT_f1_scores = []\n",
        "\n",
        "# for train_index, test_index in skf.split(x, y):\n",
        "#     x_train, x_test, y_train, y_test = x.iloc[train_index], x.iloc[test_index], y.iloc[train_index], y.iloc[test_index]\n",
        "\n",
        "#     DT_accuracy_scores.append(get_accuracy_score(DecisionTreeClassifier(), x_train, x_test, y_train, y_test))\n",
        "#     DT_f1_scores.append(get_f1_score(DecisionTreeClassifier(), x_train, x_test, y_train, y_test))\n",
        "\n",
        "# print('K-Fold Accuracy Score: ',mean(DT_accuracy_scores))\n",
        "# print('K-Fold F1 Score:', mean(DT_f1_scores))"
      ],
      "metadata": {
        "id": "cZvC99ESPcO9"
      },
      "execution_count": null,
      "outputs": []
    },
    {
      "cell_type": "code",
      "execution_count": null,
      "metadata": {
        "id": "ErugYg5vxVZL"
      },
      "outputs": [],
      "source": [
        "# # --------------------------Logistic Reg -----------------------------------\n",
        "\n",
        "# und_x = under_sample.loc[:, windowsData.columns !=target]\n",
        "# und_y = under_sample.loc[:, windowsData.columns == target]\n",
        "\n",
        "# from sklearn.linear_model import LogisticRegression\n",
        "# from statistics import mean\n",
        "# lru_accuracy_scores = []\n",
        "# lru_f1_scores = []\n",
        "\n",
        "# for train_index, test_index in skf.split(und_x, und_y):\n",
        "#     x_train, x_test, y_train, y_test = und_x.iloc[train_index], und_x.iloc[test_index], und_y.iloc[train_index], und_y.iloc[test_index]\n",
        "#     lru_accuracy_scores.append(get_accuracy_score(LogisticRegression(solver='newton-cg'), x_train, x_test, y_train, y_test))\n",
        "#     lru_f1_scores.append(get_f1_score(LogisticRegression(solver='newton-cg'), x_train, x_test, y_train, y_test))\n",
        "\n",
        "# print('Accuracy Score:',mean(lru_accuracy_scores))\n",
        "# print('F1 Score:', mean(lru_f1_scores))"
      ]
    },
    {
      "cell_type": "code",
      "source": [
        "# # --------------------------DecisionTree -----------------------------------\n",
        "# und_x = under_sample.loc[:, windowsData.columns !=target]\n",
        "# und_y = under_sample.loc[:, windowsData.columns == target]\n",
        "\n",
        "# from sklearn.tree import DecisionTreeClassifier\n",
        "# from statistics import mean\n",
        "# DT_accuracy_scores = []\n",
        "# DT_f1_scores = []\n",
        "\n",
        "# for train_index, test_index in skf.split(und_x, und_y):\n",
        "#     x_train, x_test, y_train, y_test = und_x.iloc[train_index], und_x.iloc[test_index], und_y.iloc[train_index], und_y.iloc[test_index]\n",
        "\n",
        "#     DT_accuracy_scores.append(get_accuracy_score(DecisionTreeClassifier(), x_train, x_test, y_train, y_test))\n",
        "#     DT_f1_scores.append(get_f1_score(DecisionTreeClassifier(), x_train, x_test, y_train, y_test))\n",
        "\n",
        "# print('K-Fold Accuracy Score: ',mean(DT_accuracy_scores))\n",
        "# print('K-Fold F1 Score:', mean(DT_f1_scores))"
      ],
      "metadata": {
        "id": "k6dBzrkbW8Au"
      },
      "execution_count": null,
      "outputs": []
    },
    {
      "cell_type": "code",
      "source": [
        "# # --------------------------DecisionTree -----------------------------------\n",
        "# from sklearn.tree import DecisionTreeClassifier\n",
        "# from statistics import mean\n",
        "# DT_accuracy_scores = []\n",
        "# DT_f1_scores = []\n",
        "\n",
        "# for train_index, test_index in skf.split(x_train_sm, y_train_sm):\n",
        "#     x_train, x_test, y_train, y_test = x_train_sm.iloc[train_index], x_train_sm.iloc[test_index], y_train_sm.iloc[train_index], y_train_sm.iloc[test_index]\n",
        "\n",
        "#     DT_accuracy_scores.append(get_accuracy_score(DecisionTreeClassifier(), x_train, x_test, y_train, y_test))\n",
        "#     DT_f1_scores.append(get_f1_score(DecisionTreeClassifier(), x_train, x_test, y_train, y_test))\n",
        "\n",
        "# print('K-Fold Accuracy Score: ',mean(DT_accuracy_scores))\n",
        "# print('K-Fold F1 Score:', mean(DT_f1_scores))"
      ],
      "metadata": {
        "id": "1mxLcjuXPxly"
      },
      "execution_count": null,
      "outputs": []
    },
    {
      "cell_type": "code",
      "source": [
        "# # --------------------------Random Forest -----------------------------------\n",
        "# RF_accuracy_scores = []\n",
        "# RF_f1_scores = []\n",
        "\n",
        "# for train_index, test_index in skf.split(x_train_sm, y_train_sm):\n",
        "#     x_train, x_test, y_train, y_test = x_train_sm.iloc[train_index], x_train_sm.iloc[test_index], y_train_sm.iloc[train_index], y_train_sm.iloc[test_index]\n",
        "\n",
        "#     RF_accuracy_scores.append(get_accuracy_score(RandomForestClassifier(n_estimators=10, random_state=1), x_train, x_test, y_train, y_test))\n",
        "#     RF_f1_scores.append(get_f1_score(RandomForestClassifier(), x_train, x_test, y_train, y_test))\n",
        "\n",
        "# print('Accuracy Score after oversampling: ',mean(RF_accuracy_scores))\n",
        "# print('F1 Score after oversampling:', mean(RF_f1_scores))"
      ],
      "metadata": {
        "id": "6imQqtkFPtD7"
      },
      "execution_count": null,
      "outputs": []
    },
    {
      "cell_type": "code",
      "source": [
        "# # --------------------------Random Forest -----------------------------------\n",
        "# und_x = under_sample.loc[:, windowsData.columns !=target]\n",
        "# und_y = under_sample.loc[:, windowsData.columns == target]\n",
        "\n",
        "# from sklearn.ensemble import RandomForestClassifier\n",
        "# from statistics import mean\n",
        "# RF_accuracy_scores = []\n",
        "# RF_f1_scores = []\n",
        "\n",
        "# for train_index, test_index in skf.split(und_x, und_y):\n",
        "#     x_train, x_test, y_train, y_test = und_x.iloc[train_index], und_x.iloc[test_index], und_y.iloc[train_index], und_y.iloc[test_index]\n",
        "\n",
        "#     DT_accuracy_scores.append(get_accuracy_score(DecisionTreeClassifier(), x_train, x_test, y_train, y_test))\n",
        "#     DT_f1_scores.append(get_f1_score(DecisionTreeClassifier(), x_train, x_test, y_train, y_test))\n",
        "\n",
        "# print('K-Fold Accuracy Score: ',mean(RF_accuracy_scores))\n",
        "# print('K-Fold F1 Score:', mean(RF_f1_scores))"
      ],
      "metadata": {
        "id": "qfh9GrWNXI9p"
      },
      "execution_count": null,
      "outputs": []
    },
    {
      "cell_type": "code",
      "source": [
        "# # --------------------------Logistic Reg -----------------------------------\n",
        "# from sklearn.linear_model import LogisticRegression\n",
        "# from statistics import mean\n",
        "# lr_accuracy_scores = []\n",
        "# lr_f1_scores = []\n",
        "\n",
        "# for train_index, test_index in skf.split(x_train_sm, y_train_sm):\n",
        "#     x_train, x_test, y_train, y_test = x_train_sm.iloc[train_index], x_train_sm.iloc[test_index], y_train_sm.iloc[train_index], y_train_sm.iloc[test_index]\n",
        "\n",
        "#     lr_accuracy_scores.append(get_accuracy_score(LogisticRegression(class_weight= 'balanced'), x_train, x_test, y_train, y_test))\n",
        "#     lr_f1_scores.append(get_f1_score(LogisticRegression(class_weight= 'balanced'), x_train, x_test, y_train, y_test))\n",
        "\n",
        "# print('K-Fold Accuracy Score: ',mean(lr_accuracy_scores))\n",
        "# print('K-Fold F1 Score:', mean(lr_f1_scores))"
      ],
      "metadata": {
        "id": "4j-JTKKKFUr7"
      },
      "execution_count": null,
      "outputs": []
    }
  ],
  "metadata": {
    "colab": {
      "provenance": [],
      "collapsed_sections": [
        "ayd6hdQ2sMYd"
      ]
    },
    "kernelspec": {
      "display_name": "Python 3",
      "language": "python",
      "name": "python3"
    },
    "language_info": {
      "codemirror_mode": {
        "name": "ipython",
        "version": 3
      },
      "file_extension": ".py",
      "mimetype": "text/x-python",
      "name": "python",
      "nbconvert_exporter": "python",
      "pygments_lexer": "ipython3",
      "version": "3.10.7 (tags/v3.10.7:6cc6b13, Sep  5 2022, 14:08:36) [MSC v.1933 64 bit (AMD64)]"
    },
    "vscode": {
      "interpreter": {
        "hash": "c6028a8a5a12648e78fa32d0f161bce4cccc9ded56ee541b56c5f14e4c0285c4"
      }
    }
  },
  "nbformat": 4,
  "nbformat_minor": 0
}