{
  "cells": [
    {
      "cell_type": "code",
      "source": [
        "#Importing important librarys\n",
        "import pandas as pd\n",
        "import time\n",
        "import numpy as np\n",
        "import seaborn as sns\n",
        "import matplotlib.pyplot as plt\n",
        "%matplotlib inline \n",
        "from sklearn.preprocessing import LabelEncoder\n",
        "from sklearn.tree import DecisionTreeClassifier\n",
        "from sklearn.linear_model import LogisticRegression\n",
        "from sklearn.metrics import classification_report\n",
        "from sklearn.metrics import accuracy_score\n",
        "from sklearn.model_selection import train_test_split\n",
        "from sklearn import preprocessing\n",
        "le = preprocessing.LabelEncoder()\n",
        "import warnings\n",
        "warnings.filterwarnings('ignore')"
      ],
      "metadata": {
        "id": "CdZGdzt1ynoF"
      },
      "execution_count": 1,
      "outputs": []
    },
    {
      "cell_type": "code",
      "source": [
        "from google.colab import drive\n",
        "drive.mount('/content/drive')"
      ],
      "metadata": {
        "colab": {
          "base_uri": "https://localhost:8080/"
        },
        "id": "uRJSTaMvymTF",
        "outputId": "8c668188-8e20-4d7d-83bd-279582986c57"
      },
      "execution_count": 2,
      "outputs": [
        {
          "output_type": "stream",
          "name": "stdout",
          "text": [
            "Mounted at /content/drive\n"
          ]
        }
      ]
    },
    {
      "cell_type": "code",
      "execution_count": 3,
      "metadata": {
        "colab": {
          "base_uri": "https://localhost:8080/",
          "height": 224
        },
        "id": "FhujlXnwyXfJ",
        "outputId": "b7a6079d-5acb-48f9-e2b3-b8fbb83090a2"
      },
      "outputs": [
        {
          "output_type": "stream",
          "name": "stdout",
          "text": [
            "(2000000, 13)\n"
          ]
        },
        {
          "output_type": "execute_result",
          "data": {
            "text/plain": [
              "           ts   PID  MINFLT MAJFLT VSTEXT  VSIZE  RSIZE  VGROW  RGROW   MEM  \\\n",
              "0  1554218915  3257  859502     54    193    2.0  519.1    2.0  519.1  0.14   \n",
              "1  1554218920  3197  247354     95    193    2.6  402.0    2.6  402.0  0.11   \n",
              "2  1554218925  1442   57311     33   2219  764.2  290.7  764.2  290.7  0.08   \n",
              "3  1554218930  3119   68006     17   3063  725.9  116.8  725.9  116.8  0.03   \n",
              "4  1554218935  2797   72300     69   1350    1.4  109.6    1.4  109.6  0.03   \n",
              "\n",
              "              CMD  label    type  \n",
              "0     Web-Content      0  normal  \n",
              "1         firefox      0  normal  \n",
              "2            Xorg      0  normal  \n",
              "3  update-manager      0  normal  \n",
              "4        nautilus      0  normal  "
            ],
            "text/html": [
              "\n",
              "  <div id=\"df-aad66abf-e059-4e6d-af32-0dd77922d8aa\">\n",
              "    <div class=\"colab-df-container\">\n",
              "      <div>\n",
              "<style scoped>\n",
              "    .dataframe tbody tr th:only-of-type {\n",
              "        vertical-align: middle;\n",
              "    }\n",
              "\n",
              "    .dataframe tbody tr th {\n",
              "        vertical-align: top;\n",
              "    }\n",
              "\n",
              "    .dataframe thead th {\n",
              "        text-align: right;\n",
              "    }\n",
              "</style>\n",
              "<table border=\"1\" class=\"dataframe\">\n",
              "  <thead>\n",
              "    <tr style=\"text-align: right;\">\n",
              "      <th></th>\n",
              "      <th>ts</th>\n",
              "      <th>PID</th>\n",
              "      <th>MINFLT</th>\n",
              "      <th>MAJFLT</th>\n",
              "      <th>VSTEXT</th>\n",
              "      <th>VSIZE</th>\n",
              "      <th>RSIZE</th>\n",
              "      <th>VGROW</th>\n",
              "      <th>RGROW</th>\n",
              "      <th>MEM</th>\n",
              "      <th>CMD</th>\n",
              "      <th>label</th>\n",
              "      <th>type</th>\n",
              "    </tr>\n",
              "  </thead>\n",
              "  <tbody>\n",
              "    <tr>\n",
              "      <th>0</th>\n",
              "      <td>1554218915</td>\n",
              "      <td>3257</td>\n",
              "      <td>859502</td>\n",
              "      <td>54</td>\n",
              "      <td>193</td>\n",
              "      <td>2.0</td>\n",
              "      <td>519.1</td>\n",
              "      <td>2.0</td>\n",
              "      <td>519.1</td>\n",
              "      <td>0.14</td>\n",
              "      <td>Web-Content</td>\n",
              "      <td>0</td>\n",
              "      <td>normal</td>\n",
              "    </tr>\n",
              "    <tr>\n",
              "      <th>1</th>\n",
              "      <td>1554218920</td>\n",
              "      <td>3197</td>\n",
              "      <td>247354</td>\n",
              "      <td>95</td>\n",
              "      <td>193</td>\n",
              "      <td>2.6</td>\n",
              "      <td>402.0</td>\n",
              "      <td>2.6</td>\n",
              "      <td>402.0</td>\n",
              "      <td>0.11</td>\n",
              "      <td>firefox</td>\n",
              "      <td>0</td>\n",
              "      <td>normal</td>\n",
              "    </tr>\n",
              "    <tr>\n",
              "      <th>2</th>\n",
              "      <td>1554218925</td>\n",
              "      <td>1442</td>\n",
              "      <td>57311</td>\n",
              "      <td>33</td>\n",
              "      <td>2219</td>\n",
              "      <td>764.2</td>\n",
              "      <td>290.7</td>\n",
              "      <td>764.2</td>\n",
              "      <td>290.7</td>\n",
              "      <td>0.08</td>\n",
              "      <td>Xorg</td>\n",
              "      <td>0</td>\n",
              "      <td>normal</td>\n",
              "    </tr>\n",
              "    <tr>\n",
              "      <th>3</th>\n",
              "      <td>1554218930</td>\n",
              "      <td>3119</td>\n",
              "      <td>68006</td>\n",
              "      <td>17</td>\n",
              "      <td>3063</td>\n",
              "      <td>725.9</td>\n",
              "      <td>116.8</td>\n",
              "      <td>725.9</td>\n",
              "      <td>116.8</td>\n",
              "      <td>0.03</td>\n",
              "      <td>update-manager</td>\n",
              "      <td>0</td>\n",
              "      <td>normal</td>\n",
              "    </tr>\n",
              "    <tr>\n",
              "      <th>4</th>\n",
              "      <td>1554218935</td>\n",
              "      <td>2797</td>\n",
              "      <td>72300</td>\n",
              "      <td>69</td>\n",
              "      <td>1350</td>\n",
              "      <td>1.4</td>\n",
              "      <td>109.6</td>\n",
              "      <td>1.4</td>\n",
              "      <td>109.6</td>\n",
              "      <td>0.03</td>\n",
              "      <td>nautilus</td>\n",
              "      <td>0</td>\n",
              "      <td>normal</td>\n",
              "    </tr>\n",
              "  </tbody>\n",
              "</table>\n",
              "</div>\n",
              "      <button class=\"colab-df-convert\" onclick=\"convertToInteractive('df-aad66abf-e059-4e6d-af32-0dd77922d8aa')\"\n",
              "              title=\"Convert this dataframe to an interactive table.\"\n",
              "              style=\"display:none;\">\n",
              "        \n",
              "  <svg xmlns=\"http://www.w3.org/2000/svg\" height=\"24px\"viewBox=\"0 0 24 24\"\n",
              "       width=\"24px\">\n",
              "    <path d=\"M0 0h24v24H0V0z\" fill=\"none\"/>\n",
              "    <path d=\"M18.56 5.44l.94 2.06.94-2.06 2.06-.94-2.06-.94-.94-2.06-.94 2.06-2.06.94zm-11 1L8.5 8.5l.94-2.06 2.06-.94-2.06-.94L8.5 2.5l-.94 2.06-2.06.94zm10 10l.94 2.06.94-2.06 2.06-.94-2.06-.94-.94-2.06-.94 2.06-2.06.94z\"/><path d=\"M17.41 7.96l-1.37-1.37c-.4-.4-.92-.59-1.43-.59-.52 0-1.04.2-1.43.59L10.3 9.45l-7.72 7.72c-.78.78-.78 2.05 0 2.83L4 21.41c.39.39.9.59 1.41.59.51 0 1.02-.2 1.41-.59l7.78-7.78 2.81-2.81c.8-.78.8-2.07 0-2.86zM5.41 20L4 18.59l7.72-7.72 1.47 1.35L5.41 20z\"/>\n",
              "  </svg>\n",
              "      </button>\n",
              "      \n",
              "  <style>\n",
              "    .colab-df-container {\n",
              "      display:flex;\n",
              "      flex-wrap:wrap;\n",
              "      gap: 12px;\n",
              "    }\n",
              "\n",
              "    .colab-df-convert {\n",
              "      background-color: #E8F0FE;\n",
              "      border: none;\n",
              "      border-radius: 50%;\n",
              "      cursor: pointer;\n",
              "      display: none;\n",
              "      fill: #1967D2;\n",
              "      height: 32px;\n",
              "      padding: 0 0 0 0;\n",
              "      width: 32px;\n",
              "    }\n",
              "\n",
              "    .colab-df-convert:hover {\n",
              "      background-color: #E2EBFA;\n",
              "      box-shadow: 0px 1px 2px rgba(60, 64, 67, 0.3), 0px 1px 3px 1px rgba(60, 64, 67, 0.15);\n",
              "      fill: #174EA6;\n",
              "    }\n",
              "\n",
              "    [theme=dark] .colab-df-convert {\n",
              "      background-color: #3B4455;\n",
              "      fill: #D2E3FC;\n",
              "    }\n",
              "\n",
              "    [theme=dark] .colab-df-convert:hover {\n",
              "      background-color: #434B5C;\n",
              "      box-shadow: 0px 1px 3px 1px rgba(0, 0, 0, 0.15);\n",
              "      filter: drop-shadow(0px 1px 2px rgba(0, 0, 0, 0.3));\n",
              "      fill: #FFFFFF;\n",
              "    }\n",
              "  </style>\n",
              "\n",
              "      <script>\n",
              "        const buttonEl =\n",
              "          document.querySelector('#df-aad66abf-e059-4e6d-af32-0dd77922d8aa button.colab-df-convert');\n",
              "        buttonEl.style.display =\n",
              "          google.colab.kernel.accessAllowed ? 'block' : 'none';\n",
              "\n",
              "        async function convertToInteractive(key) {\n",
              "          const element = document.querySelector('#df-aad66abf-e059-4e6d-af32-0dd77922d8aa');\n",
              "          const dataTable =\n",
              "            await google.colab.kernel.invokeFunction('convertToInteractive',\n",
              "                                                     [key], {});\n",
              "          if (!dataTable) return;\n",
              "\n",
              "          const docLinkHtml = 'Like what you see? Visit the ' +\n",
              "            '<a target=\"_blank\" href=https://colab.research.google.com/notebooks/data_table.ipynb>data table notebook</a>'\n",
              "            + ' to learn more about interactive tables.';\n",
              "          element.innerHTML = '';\n",
              "          dataTable['output_type'] = 'display_data';\n",
              "          await google.colab.output.renderOutput(dataTable, element);\n",
              "          const docLink = document.createElement('div');\n",
              "          docLink.innerHTML = docLinkHtml;\n",
              "          element.appendChild(docLink);\n",
              "        }\n",
              "      </script>\n",
              "    </div>\n",
              "  </div>\n",
              "  "
            ]
          },
          "metadata": {},
          "execution_count": 3
        }
      ],
      "source": [
        "import pandas as pd\n",
        "\n",
        "linux_mem1 = pd.read_csv('/content/drive/MyDrive/datasets/Linux_processed/linux_memory1.csv')\n",
        "linux_mem2 = pd.read_csv('/content/drive/MyDrive/datasets/Linux_processed/linux_memory2.csv')\n",
        "linux_mem = pd.concat([linux_mem1, linux_mem2])\n",
        "\n",
        "print(linux_mem.shape)\n",
        "linux_mem.head()"
      ]
    },
    {
      "cell_type": "code",
      "execution_count": 4,
      "metadata": {
        "colab": {
          "base_uri": "https://localhost:8080/",
          "height": 206
        },
        "id": "0KbD4vfDyXfN",
        "outputId": "b83798c7-12e2-474f-c2dd-481e5a6d77b6"
      },
      "outputs": [
        {
          "output_type": "execute_result",
          "data": {
            "text/plain": [
              "    PID  MINFLT MAJFLT VSTEXT  VSIZE  RSIZE  VGROW  RGROW   MEM  \\\n",
              "0  3257  859502     54    193    2.0  519.1    2.0  519.1  0.14   \n",
              "1  3197  247354     95    193    2.6  402.0    2.6  402.0  0.11   \n",
              "2  1442   57311     33   2219  764.2  290.7  764.2  290.7  0.08   \n",
              "3  3119   68006     17   3063  725.9  116.8  725.9  116.8  0.03   \n",
              "4  2797   72300     69   1350    1.4  109.6    1.4  109.6  0.03   \n",
              "\n",
              "              CMD  label  \n",
              "0     Web-Content      0  \n",
              "1         firefox      0  \n",
              "2            Xorg      0  \n",
              "3  update-manager      0  \n",
              "4        nautilus      0  "
            ],
            "text/html": [
              "\n",
              "  <div id=\"df-33bed4a6-0e36-4811-8bbe-8a6bfdc077c4\">\n",
              "    <div class=\"colab-df-container\">\n",
              "      <div>\n",
              "<style scoped>\n",
              "    .dataframe tbody tr th:only-of-type {\n",
              "        vertical-align: middle;\n",
              "    }\n",
              "\n",
              "    .dataframe tbody tr th {\n",
              "        vertical-align: top;\n",
              "    }\n",
              "\n",
              "    .dataframe thead th {\n",
              "        text-align: right;\n",
              "    }\n",
              "</style>\n",
              "<table border=\"1\" class=\"dataframe\">\n",
              "  <thead>\n",
              "    <tr style=\"text-align: right;\">\n",
              "      <th></th>\n",
              "      <th>PID</th>\n",
              "      <th>MINFLT</th>\n",
              "      <th>MAJFLT</th>\n",
              "      <th>VSTEXT</th>\n",
              "      <th>VSIZE</th>\n",
              "      <th>RSIZE</th>\n",
              "      <th>VGROW</th>\n",
              "      <th>RGROW</th>\n",
              "      <th>MEM</th>\n",
              "      <th>CMD</th>\n",
              "      <th>label</th>\n",
              "    </tr>\n",
              "  </thead>\n",
              "  <tbody>\n",
              "    <tr>\n",
              "      <th>0</th>\n",
              "      <td>3257</td>\n",
              "      <td>859502</td>\n",
              "      <td>54</td>\n",
              "      <td>193</td>\n",
              "      <td>2.0</td>\n",
              "      <td>519.1</td>\n",
              "      <td>2.0</td>\n",
              "      <td>519.1</td>\n",
              "      <td>0.14</td>\n",
              "      <td>Web-Content</td>\n",
              "      <td>0</td>\n",
              "    </tr>\n",
              "    <tr>\n",
              "      <th>1</th>\n",
              "      <td>3197</td>\n",
              "      <td>247354</td>\n",
              "      <td>95</td>\n",
              "      <td>193</td>\n",
              "      <td>2.6</td>\n",
              "      <td>402.0</td>\n",
              "      <td>2.6</td>\n",
              "      <td>402.0</td>\n",
              "      <td>0.11</td>\n",
              "      <td>firefox</td>\n",
              "      <td>0</td>\n",
              "    </tr>\n",
              "    <tr>\n",
              "      <th>2</th>\n",
              "      <td>1442</td>\n",
              "      <td>57311</td>\n",
              "      <td>33</td>\n",
              "      <td>2219</td>\n",
              "      <td>764.2</td>\n",
              "      <td>290.7</td>\n",
              "      <td>764.2</td>\n",
              "      <td>290.7</td>\n",
              "      <td>0.08</td>\n",
              "      <td>Xorg</td>\n",
              "      <td>0</td>\n",
              "    </tr>\n",
              "    <tr>\n",
              "      <th>3</th>\n",
              "      <td>3119</td>\n",
              "      <td>68006</td>\n",
              "      <td>17</td>\n",
              "      <td>3063</td>\n",
              "      <td>725.9</td>\n",
              "      <td>116.8</td>\n",
              "      <td>725.9</td>\n",
              "      <td>116.8</td>\n",
              "      <td>0.03</td>\n",
              "      <td>update-manager</td>\n",
              "      <td>0</td>\n",
              "    </tr>\n",
              "    <tr>\n",
              "      <th>4</th>\n",
              "      <td>2797</td>\n",
              "      <td>72300</td>\n",
              "      <td>69</td>\n",
              "      <td>1350</td>\n",
              "      <td>1.4</td>\n",
              "      <td>109.6</td>\n",
              "      <td>1.4</td>\n",
              "      <td>109.6</td>\n",
              "      <td>0.03</td>\n",
              "      <td>nautilus</td>\n",
              "      <td>0</td>\n",
              "    </tr>\n",
              "  </tbody>\n",
              "</table>\n",
              "</div>\n",
              "      <button class=\"colab-df-convert\" onclick=\"convertToInteractive('df-33bed4a6-0e36-4811-8bbe-8a6bfdc077c4')\"\n",
              "              title=\"Convert this dataframe to an interactive table.\"\n",
              "              style=\"display:none;\">\n",
              "        \n",
              "  <svg xmlns=\"http://www.w3.org/2000/svg\" height=\"24px\"viewBox=\"0 0 24 24\"\n",
              "       width=\"24px\">\n",
              "    <path d=\"M0 0h24v24H0V0z\" fill=\"none\"/>\n",
              "    <path d=\"M18.56 5.44l.94 2.06.94-2.06 2.06-.94-2.06-.94-.94-2.06-.94 2.06-2.06.94zm-11 1L8.5 8.5l.94-2.06 2.06-.94-2.06-.94L8.5 2.5l-.94 2.06-2.06.94zm10 10l.94 2.06.94-2.06 2.06-.94-2.06-.94-.94-2.06-.94 2.06-2.06.94z\"/><path d=\"M17.41 7.96l-1.37-1.37c-.4-.4-.92-.59-1.43-.59-.52 0-1.04.2-1.43.59L10.3 9.45l-7.72 7.72c-.78.78-.78 2.05 0 2.83L4 21.41c.39.39.9.59 1.41.59.51 0 1.02-.2 1.41-.59l7.78-7.78 2.81-2.81c.8-.78.8-2.07 0-2.86zM5.41 20L4 18.59l7.72-7.72 1.47 1.35L5.41 20z\"/>\n",
              "  </svg>\n",
              "      </button>\n",
              "      \n",
              "  <style>\n",
              "    .colab-df-container {\n",
              "      display:flex;\n",
              "      flex-wrap:wrap;\n",
              "      gap: 12px;\n",
              "    }\n",
              "\n",
              "    .colab-df-convert {\n",
              "      background-color: #E8F0FE;\n",
              "      border: none;\n",
              "      border-radius: 50%;\n",
              "      cursor: pointer;\n",
              "      display: none;\n",
              "      fill: #1967D2;\n",
              "      height: 32px;\n",
              "      padding: 0 0 0 0;\n",
              "      width: 32px;\n",
              "    }\n",
              "\n",
              "    .colab-df-convert:hover {\n",
              "      background-color: #E2EBFA;\n",
              "      box-shadow: 0px 1px 2px rgba(60, 64, 67, 0.3), 0px 1px 3px 1px rgba(60, 64, 67, 0.15);\n",
              "      fill: #174EA6;\n",
              "    }\n",
              "\n",
              "    [theme=dark] .colab-df-convert {\n",
              "      background-color: #3B4455;\n",
              "      fill: #D2E3FC;\n",
              "    }\n",
              "\n",
              "    [theme=dark] .colab-df-convert:hover {\n",
              "      background-color: #434B5C;\n",
              "      box-shadow: 0px 1px 3px 1px rgba(0, 0, 0, 0.15);\n",
              "      filter: drop-shadow(0px 1px 2px rgba(0, 0, 0, 0.3));\n",
              "      fill: #FFFFFF;\n",
              "    }\n",
              "  </style>\n",
              "\n",
              "      <script>\n",
              "        const buttonEl =\n",
              "          document.querySelector('#df-33bed4a6-0e36-4811-8bbe-8a6bfdc077c4 button.colab-df-convert');\n",
              "        buttonEl.style.display =\n",
              "          google.colab.kernel.accessAllowed ? 'block' : 'none';\n",
              "\n",
              "        async function convertToInteractive(key) {\n",
              "          const element = document.querySelector('#df-33bed4a6-0e36-4811-8bbe-8a6bfdc077c4');\n",
              "          const dataTable =\n",
              "            await google.colab.kernel.invokeFunction('convertToInteractive',\n",
              "                                                     [key], {});\n",
              "          if (!dataTable) return;\n",
              "\n",
              "          const docLinkHtml = 'Like what you see? Visit the ' +\n",
              "            '<a target=\"_blank\" href=https://colab.research.google.com/notebooks/data_table.ipynb>data table notebook</a>'\n",
              "            + ' to learn more about interactive tables.';\n",
              "          element.innerHTML = '';\n",
              "          dataTable['output_type'] = 'display_data';\n",
              "          await google.colab.output.renderOutput(dataTable, element);\n",
              "          const docLink = document.createElement('div');\n",
              "          docLink.innerHTML = docLinkHtml;\n",
              "          element.appendChild(docLink);\n",
              "        }\n",
              "      </script>\n",
              "    </div>\n",
              "  </div>\n",
              "  "
            ]
          },
          "metadata": {},
          "execution_count": 4
        }
      ],
      "source": [
        "linux_mem.drop('ts', axis = 1, inplace=True)\n",
        "linux_mem.drop('type', axis = 1, inplace= True)\n",
        "\n",
        "linux_mem.head()"
      ]
    },
    {
      "cell_type": "code",
      "execution_count": 5,
      "metadata": {
        "colab": {
          "base_uri": "https://localhost:8080/"
        },
        "id": "OCUd69wDyXfO",
        "outputId": "d2e25aa6-26bc-4a93-9b24-bc67a0342573"
      },
      "outputs": [
        {
          "output_type": "stream",
          "name": "stdout",
          "text": [
            "<class 'pandas.core.frame.DataFrame'>\n",
            "Int64Index: 2000000 entries, 0 to 999999\n",
            "Data columns (total 11 columns):\n",
            " #   Column  Dtype  \n",
            "---  ------  -----  \n",
            " 0   PID     int64  \n",
            " 1   MINFLT  object \n",
            " 2   MAJFLT  object \n",
            " 3   VSTEXT  object \n",
            " 4   VSIZE   float64\n",
            " 5   RSIZE   object \n",
            " 6   VGROW   object \n",
            " 7   RGROW   object \n",
            " 8   MEM     float64\n",
            " 9   CMD     object \n",
            " 10  label   int64  \n",
            "dtypes: float64(2), int64(2), object(7)\n",
            "memory usage: 183.1+ MB\n"
          ]
        }
      ],
      "source": [
        "linux_mem.info()"
      ]
    },
    {
      "cell_type": "code",
      "execution_count": 6,
      "metadata": {
        "colab": {
          "base_uri": "https://localhost:8080/"
        },
        "id": "MsMqQOs6yXfO",
        "outputId": "db5a55c3-c0e0-45a3-d696-8675e5daa256"
      },
      "outputs": [
        {
          "output_type": "execute_result",
          "data": {
            "text/plain": [
              "0"
            ]
          },
          "metadata": {},
          "execution_count": 6
        }
      ],
      "source": [
        "linux_mem.isnull().sum().sum()"
      ]
    },
    {
      "cell_type": "code",
      "execution_count": 7,
      "metadata": {
        "id": "oRqSOSOtyXfP"
      },
      "outputs": [],
      "source": [
        "linux_mem['VGROW'] = (linux_mem['VGROW'].replace([r'[KMB]+$', ' '], ['', '' ], regex=True).astype(float) * linux_mem['VGROW'].str.extract(r'[\\d\\.]+([KMB]+)', expand=False).fillna(1).replace(['K','M', 'B', ' '], [10**3, 10**6, 10**9, '']).astype(int))\n",
        "\n",
        "linux_mem['MINFLT'] = (linux_mem['MINFLT'].replace(r'[KMB]+$', '', regex=True).astype(float) * linux_mem['MINFLT'].str.extract(r'[\\d\\.]+([KMB]+)', expand=False).fillna(1).replace(['K','M', 'B'], [10**3, 10**6, 10**9]).astype(int))\n",
        "\n",
        "linux_mem['MAJFLT'] = (linux_mem['MAJFLT'].replace(r'[KMB]+$', '', regex=True).astype(float) * linux_mem['MAJFLT'].str.extract(r'[\\d\\.]+([KMB]+)', expand=False).fillna(1).replace(['K','M', 'B'], [10**3, 10**6, 10**9]).astype(int))\n",
        "\n",
        "linux_mem['VSTEXT'] = (linux_mem['VSTEXT'].replace(r'[KMB]+$', '', regex=True).astype(float) * linux_mem['VSTEXT'].str.extract(r'[\\d\\.]+([KMB]+)', expand=False).fillna(1).replace(['K','M', 'B'], [10**3, 10**6, 10**9]).astype(int))\n",
        "\n",
        "linux_mem['RGROW'] = (linux_mem['RGROW'].replace([r'[KMB]+$', ' '], ['', '' ], regex=True).astype(float) * linux_mem['RGROW'].str.extract(r'[\\d\\.]+([KMB]+)', expand=False).fillna(1).replace(['K','M', 'B'], [10**3, 10**6, 10**9]).astype(int))\n",
        "\n",
        "linux_mem['RSIZE'] = (linux_mem['RSIZE'].replace([r'[KMB]+$', ' '], ['', '' ], regex=True).astype(float) * linux_mem['RSIZE'].str.extract(r'[\\d\\.]+([KMB]+)', expand=False).fillna(1).replace(['K','M', 'B'], [10**3, 10**6, 10**9]).astype(int))\n"
      ]
    },
    {
      "cell_type": "code",
      "execution_count": 8,
      "metadata": {
        "id": "uPBCXh0myXfP"
      },
      "outputs": [],
      "source": [
        "from sklearn import preprocessing\n",
        "le = preprocessing.LabelEncoder()\n",
        "linux_mem['CMD'] = le.fit_transform(linux_mem['CMD'])"
      ]
    },
    {
      "cell_type": "code",
      "execution_count": 9,
      "metadata": {
        "id": "39QCBzFHyXfQ",
        "colab": {
          "base_uri": "https://localhost:8080/",
          "height": 1000
        },
        "outputId": "7c9a6644-0bf2-4273-dcc1-41bdc14b5c4f"
      },
      "outputs": [
        {
          "output_type": "stream",
          "name": "stdout",
          "text": [
            "col:  PID\n"
          ]
        },
        {
          "output_type": "display_data",
          "data": {
            "text/plain": [
              "<Figure size 432x288 with 1 Axes>"
            ],
            "image/png": "[encoded data removed]"
          },
          "metadata": {
            "needs_background": "light"
          }
        },
        {
          "output_type": "stream",
          "name": "stdout",
          "text": [
            "col:  MINFLT\n"
          ]
        },
        {
          "output_type": "display_data",
          "data": {
            "text/plain": [
              "<Figure size 432x288 with 1 Axes>"
            ],
            "image/png": "[encoded data removed]"
          },
          "metadata": {
            "needs_background": "light"
          }
        },
        {
          "output_type": "stream",
          "name": "stdout",
          "text": [
            "col:  MAJFLT\n"
          ]
        },
        {
          "output_type": "display_data",
          "data": {
            "text/plain": [
              "<Figure size 432x288 with 1 Axes>"
            ],
            "image/png": "[encoded data removed]"
          },
          "metadata": {
            "needs_background": "light"
          }
        },
        {
          "output_type": "stream",
          "name": "stdout",
          "text": [
            "col:  VSTEXT\n"
          ]
        },
        {
          "output_type": "display_data",
          "data": {
            "text/plain": [
              "<Figure size 432x288 with 1 Axes>"
            ],
            "image/png": "[encoded data removed]"
          },
          "metadata": {
            "needs_background": "light"
          }
        },
        {
          "output_type": "stream",
          "name": "stdout",
          "text": [
            "col:  VSIZE\n"
          ]
        },
        {
          "output_type": "display_data",
          "data": {
            "text/plain": [
              "<Figure size 432x288 with 1 Axes>"
            ],
            "image/png": "[encoded data removed]"
          },
          "metadata": {
            "needs_background": "light"
          }
        },
        {
          "output_type": "stream",
          "name": "stdout",
          "text": [
            "col:  RSIZE\n"
          ]
        },
        {
          "output_type": "display_data",
          "data": {
            "text/plain": [
              "<Figure size 432x288 with 1 Axes>"
            ],
            "image/png": "[encoded data removed]"
          },
          "metadata": {
            "needs_background": "light"
          }
        },
        {
          "output_type": "stream",
          "name": "stdout",
          "text": [
            "col:  VGROW\n"
          ]
        },
        {
          "output_type": "display_data",
          "data": {
            "text/plain": [
              "<Figure size 432x288 with 1 Axes>"
            ],
            "image/png": "[encoded data removed]"
          },
          "metadata": {
            "needs_background": "light"
          }
        },
        {
          "output_type": "stream",
          "name": "stdout",
          "text": [
            "col:  RGROW\n"
          ]
        },
        {
          "output_type": "display_data",
          "data": {
            "text/plain": [
              "<Figure size 432x288 with 1 Axes>"
            ],
            "image/png": "[encoded data removed]"
          },
          "metadata": {
            "needs_background": "light"
          }
        },
        {
          "output_type": "stream",
          "name": "stdout",
          "text": [
            "col:  MEM\n"
          ]
        },
        {
          "output_type": "display_data",
          "data": {
            "text/plain": [
              "<Figure size 432x288 with 1 Axes>"
            ],
            "image/png": "[encoded data removed]"
          },
          "metadata": {
            "needs_background": "light"
          }
        },
        {
          "output_type": "stream",
          "name": "stdout",
          "text": [
            "col:  CMD\n"
          ]
        },
        {
          "output_type": "display_data",
          "data": {
            "text/plain": [
              "<Figure size 432x288 with 1 Axes>"
            ],
            "image/png": "[encoded data removed]"
          },
          "metadata": {
            "needs_background": "light"
          }
        },
        {
          "output_type": "stream",
          "name": "stdout",
          "text": [
            "col:  label\n"
          ]
        },
        {
          "output_type": "display_data",
          "data": {
            "text/plain": [
              "<Figure size 432x288 with 1 Axes>"
            ],
            "image/png": "[encoded data removed]"
          },
          "metadata": {
            "needs_background": "light"
          }
        }
      ],
      "source": [
        "import matplotlib.pyplot as plt\n",
        "columns = linux_mem.columns\n",
        "for col in columns:\n",
        "    print(\"col: \", col)\n",
        "    linux_mem[col].hist(bins = 50)\n",
        "    plt.show()"
      ]
    },
    {
      "cell_type": "code",
      "execution_count": 10,
      "metadata": {
        "id": "1imIpDLWyXfQ"
      },
      "outputs": [],
      "source": [
        "from sklearn.model_selection import StratifiedKFold\n",
        "skf = StratifiedKFold(n_splits=8, shuffle = True, random_state=3)"
      ]
    },
    {
      "cell_type": "code",
      "execution_count": 11,
      "metadata": {
        "id": "8v5QTbW8yXfR"
      },
      "outputs": [],
      "source": [
        "from sklearn.metrics import f1_score, accuracy_score\n",
        "\n",
        "def get_accuracy_score(model, x_train, x_test, y_train, y_test):\n",
        "    model.fit(x_train, y_train)\n",
        "    y_pred= model.predict(x_test)\n",
        "    modelAccuracyTest = accuracy_score(y_pred,y_test)\n",
        "    return modelAccuracyTest\n",
        "\n",
        "def get_f1_score(model, x_train, x_test, y_train, y_test):\n",
        "    model.fit(x_train, y_train)\n",
        "    y_pred= model.predict(x_test)\n",
        "    modelF1Test = f1_score(y_pred,y_test)\n",
        "    return modelF1Test"
      ]
    },
    {
      "cell_type": "code",
      "execution_count": 12,
      "metadata": {
        "id": "FXej9xLgyXfR"
      },
      "outputs": [],
      "source": [
        "x = linux_mem.drop('label', axis = 1)\n",
        "y = linux_mem['label']"
      ]
    },
    {
      "cell_type": "markdown",
      "metadata": {
        "id": "DuZ9pz9iy-oC"
      },
      "source": [
        "# Without Oversampling"
      ]
    },
    {
      "cell_type": "code",
      "execution_count": 13,
      "metadata": {
        "id": "3Q_iHAhWy-oC",
        "colab": {
          "base_uri": "https://localhost:8080/"
        },
        "outputId": "e39b3494-32a7-43ba-eb91-927434d09212"
      },
      "outputs": [
        {
          "output_type": "stream",
          "name": "stdout",
          "text": [
            "[0 0 0 ... 0 0 0]\n",
            "Accuracy of Decisiontree  :  92.8176 %\n",
            "f1_score of Decisiontree  :  59.88023952095809 %\n",
            "AUC: 0.75\n"
          ]
        }
      ],
      "source": [
        "# --------------------------Decision Tree -----------------------------------\n",
        "for train_index, test_index in skf.split(x, y):\n",
        "    x_train, x_test, y_train, y_test = x.iloc[train_index], x.iloc[test_index], y.iloc[train_index], y.iloc[test_index]\n",
        "\n",
        "from sklearn.tree import DecisionTreeClassifier\n",
        "dtc = DecisionTreeClassifier()\n",
        "dtc.fit(x_train, y_train) #Training the model\n",
        "y_pred_dtc = dtc.predict(x_test)\n",
        "print(y_pred_dtc)# printing predictions\n",
        "\n",
        "\n",
        "#Accuracy Score\n",
        "\n",
        "from sklearn.metrics import accuracy_score\n",
        "DtreeAccuracy = accuracy_score(y_test, y_pred_dtc)\n",
        "print(\"Accuracy of Decisiontree  : \",DtreeAccuracy*100,'%')\n",
        "\n",
        "#F1 Score\n",
        "\n",
        "from sklearn.metrics import f1_score\n",
        "Dtreef1_scr = f1_score(y_test, y_pred_dtc)\n",
        "print(\"f1_score of Decisiontree  : \",Dtreef1_scr*100,'%')\n",
        "\n",
        "#AUC Score\n",
        "\n",
        "from sklearn.metrics import roc_auc_score\n",
        "auc = roc_auc_score (y_test, y_pred_dtc)\n",
        "print('AUC: %.2f' % auc)"
      ]
    },
    {
      "cell_type": "code",
      "source": [
        "#ROC CURVE:\n",
        "from sklearn.metrics import roc_curve, auc, confusion_matrix\n",
        "\n",
        "dtc_fpr, dtc_tpr, threshold = roc_curve(y_test, y_pred_dtc)\n",
        "auc_dtc = auc(dtc_fpr, dtc_tpr)\n",
        "\n",
        "plt.figure(figsize=(5, 5), dpi=100)\n",
        "plt.plot(dtc_fpr, dtc_tpr, marker='.', label='dtc (auc = %0.3f)' % auc_dtc)\n",
        "\n",
        "plt.xlabel('False Positive Rate -->')\n",
        "plt.ylabel('True Positive Rate -->')\n",
        "\n",
        "plt.legend()\n",
        "\n",
        "plt.show()"
      ],
      "metadata": {
        "colab": {
          "base_uri": "https://localhost:8080/",
          "height": 457
        },
        "id": "70mWgbnP3veg",
        "outputId": "f5eeceb3-6c97-44f5-a556-fecd4250879d"
      },
      "execution_count": 14,
      "outputs": [
        {
          "output_type": "display_data",
          "data": {
            "text/plain": [
              "<Figure size 500x500 with 1 Axes>"
            ],
            "image/png": "[encoded data removed]"
          },
          "metadata": {
            "needs_background": "light"
          }
        }
      ]
    },
    {
      "cell_type": "markdown",
      "metadata": {
        "id": "Jiz2nxXly-oD"
      },
      "source": [
        "# Oversampling"
      ]
    },
    {
      "cell_type": "code",
      "execution_count": 15,
      "metadata": {
        "id": "K_47eq-5y-oD",
        "colab": {
          "base_uri": "https://localhost:8080/"
        },
        "outputId": "2818a4e8-a71b-4d0c-9dd9-25851a34decd"
      },
      "outputs": [
        {
          "output_type": "stream",
          "name": "stdout",
          "text": [
            "Before oversampling {0: 1570080, 1: 179920}\n",
            "After oversampling {0: 1570080, 1: 1570080}\n"
          ]
        }
      ],
      "source": [
        "from imblearn.over_sampling import SMOTE\n",
        "import numpy as np\n",
        "#Seeing the value count before oversampling\n",
        "unique, count = np.unique(y_train, return_counts = True)\n",
        "y_train_dict_value_count = {k:v for (k,v) in zip(unique, count)}\n",
        "print(\"Before oversampling\",y_train_dict_value_count)\n",
        "\n",
        "sm = SMOTE(random_state=12)\n",
        "x_train_sm, y_train_sm = sm.fit_resample(x_train, y_train)\n",
        "\n",
        "# Seeing the value count after oversampling\n",
        "unique, count = np.unique(y_train_sm, return_counts = True)\n",
        "y_train_smote_value_count = {k:v for (k,v) in zip(unique, count)}\n",
        "print(\"After oversampling\",y_train_smote_value_count)"
      ]
    },
    {
      "cell_type": "code",
      "execution_count": 16,
      "metadata": {
        "id": "qADVvFz1y-oD",
        "colab": {
          "base_uri": "https://localhost:8080/"
        },
        "outputId": "86ee6c82-c996-4eee-c617-975f8849d669"
      },
      "outputs": [
        {
          "output_type": "stream",
          "name": "stdout",
          "text": [
            "[0 0 0 ... 1 1 1]\n",
            "Accuracy of DicisionTree :  87.67298481606034 %\n",
            "f1_score of DicisionTree :  87.75626913636478 %\n",
            "AUC: 0.88\n"
          ]
        }
      ],
      "source": [
        "# --------------------------Decision Tree -----------------------------------\n",
        "for train_index, test_index in skf.split(x_train_sm, y_train_sm):\n",
        "    x_train, x_test, y_train, y_test = x_train_sm.iloc[train_index], x_train_sm.iloc[test_index], y_train_sm.iloc[train_index], y_train_sm.iloc[test_index]\n",
        "\n",
        "from sklearn.tree import DecisionTreeClassifier\n",
        "dtc = DecisionTreeClassifier()\n",
        "dtc.fit(x_train, y_train) #Training the model\n",
        "y_pred_dtc = dtc.predict(x_test)\n",
        "print(y_pred_dtc)# printing predictions\n",
        "\n",
        "\n",
        "#Accuracy Score\n",
        "\n",
        "from sklearn.metrics import accuracy_score\n",
        "dtcAccuracy = accuracy_score(y_test, y_pred_dtc)\n",
        "print(\"Accuracy of DicisionTree : \",dtcAccuracy*100,'%')\n",
        "\n",
        "#F1 Score\n",
        "\n",
        "from sklearn.metrics import f1_score\n",
        "dtcf1_scr = f1_score(y_test, y_pred_dtc)\n",
        "print(\"f1_score of DicisionTree : \",dtcf1_scr*100,'%')\n",
        "\n",
        "#AUC Score\n",
        "\n",
        "from sklearn.metrics import roc_auc_score\n",
        "auc = roc_auc_score (y_test, y_pred_dtc)\n",
        "print('AUC: %.2f' % auc)"
      ]
    },
    {
      "cell_type": "code",
      "source": [
        "#ROC CURVE:\n",
        "from sklearn.metrics import roc_curve, auc, confusion_matrix\n",
        "\n",
        "dtc_fpr, dtc_tpr, threshold = roc_curve(y_test, y_pred_dtc)\n",
        "auc_dtc = auc(dtc_fpr, dtc_tpr)\n",
        "\n",
        "plt.figure(figsize=(5, 5), dpi=100)\n",
        "plt.plot(dtc_fpr, dtc_tpr, marker='.', label='dtc (auc = %0.3f)' % auc_dtc)\n",
        "\n",
        "plt.xlabel('False Positive Rate -->')\n",
        "plt.ylabel('True Positive Rate -->')\n",
        "\n",
        "plt.legend()\n",
        "\n",
        "plt.show()"
      ],
      "metadata": {
        "colab": {
          "base_uri": "https://localhost:8080/",
          "height": 457
        },
        "id": "F3_15PIc2fNv",
        "outputId": "dcc1cabf-466f-446b-c3ec-c3644282907d"
      },
      "execution_count": 17,
      "outputs": [
        {
          "output_type": "display_data",
          "data": {
            "text/plain": [
              "<Figure size 500x500 with 1 Axes>"
            ],
            "image/png": "[encoded data removed]"
          },
          "metadata": {
            "needs_background": "light"
          }
        }
      ]
    },
    {
      "cell_type": "code",
      "source": [
        "confusion_matrix(y_test,y_pred_dtc)"
      ],
      "metadata": {
        "colab": {
          "base_uri": "https://localhost:8080/"
        },
        "id": "1aErrEgL2t5r",
        "outputId": "bb656ee4-bbe3-4c61-a12e-51d867342d4f"
      },
      "execution_count": 18,
      "outputs": [
        {
          "output_type": "execute_result",
          "data": {
            "text/plain": [
              "array([[170732,  25528],\n",
              "       [ 22858, 173402]])"
            ]
          },
          "metadata": {},
          "execution_count": 18
        }
      ]
    },
    {
      "cell_type": "markdown",
      "metadata": {
        "id": "z8FtiIoty-oD"
      },
      "source": [
        "# Undersampling"
      ]
    },
    {
      "cell_type": "code",
      "source": [
        "x = linux_mem.drop(['label'],axis=1)\n",
        "y = linux_mem['label']"
      ],
      "metadata": {
        "id": "Wx_qgRVm28lD"
      },
      "execution_count": 19,
      "outputs": []
    },
    {
      "cell_type": "code",
      "execution_count": 20,
      "metadata": {
        "id": "Lxgwu6xKy-oD",
        "colab": {
          "base_uri": "https://localhost:8080/"
        },
        "outputId": "c94aaf5f-1b4f-4c58-c8ac-dce0564c16b4"
      },
      "outputs": [
        {
          "output_type": "stream",
          "name": "stdout",
          "text": [
            "Before undersampling Counter({0: 1570080, 1: 179920})\n",
            "After undersampling Counter({0: 179920, 1: 179920})\n"
          ]
        }
      ],
      "source": [
        "for train_index, test_index in skf.split(x,y):\n",
        "    x_train, x_test, y_train, y_test = x.iloc[train_index], x.iloc[test_index], y.iloc[train_index], y.iloc[test_index]\n",
        "\n",
        "from imblearn.under_sampling import RandomUnderSampler\n",
        "import numpy as np\n",
        "from collections import Counter\n",
        "\n",
        "#Seeing the value count before oversampling\n",
        "print(\"Before undersampling\", Counter(y_train))\n",
        "\n",
        "rus = RandomUnderSampler(random_state=12)\n",
        "x_unsampled, y_unsampled = rus.fit_resample(x_train, y_train)\n",
        "\n",
        "# Seeing the value count after oversampling\n",
        "print(\"After undersampling\",Counter(y_unsampled))\n"
      ]
    },
    {
      "cell_type": "markdown",
      "metadata": {
        "id": "-AgBufBIy-oE"
      },
      "source": [
        "^for some reason the undersampling is not complete"
      ]
    },
    {
      "cell_type": "code",
      "execution_count": 31,
      "metadata": {
        "id": "vg4b5r7gy-oE",
        "colab": {
          "base_uri": "https://localhost:8080/"
        },
        "outputId": "7fa811d4-8cc1-4737-ea84-2412828f5010"
      },
      "outputs": [
        {
          "output_type": "stream",
          "name": "stdout",
          "text": [
            "[0 0 0 ... 0 0 0]\n",
            "Accuracy of DicisionTree :  100.0 %\n",
            "f1_score of DicisionTree :  0.0 %\n"
          ]
        }
      ],
      "source": [
        "for train_index, test_index in skf.split(x_unsampled, y_unsampled):\n",
        "    x_train, x_test, y_train, y_test = x_train_sm.iloc[train_index], x_train_sm.iloc[test_index], y_train_sm.iloc[train_index], y_train_sm.iloc[test_index]\n",
        "\n",
        "from sklearn.tree import DecisionTreeClassifier\n",
        "dtc = DecisionTreeClassifier()\n",
        "dtc.fit(x_train, y_train) #Training the model\n",
        "y_pred_dtc = dtc.predict(x_test)\n",
        "print(y_pred_dtc)# printing predictions\n",
        "\n",
        "\n",
        "#Accuracy Score\n",
        "\n",
        "from sklearn.metrics import accuracy_score\n",
        "LogisticRegressionAccuracy = accuracy_score(y_test, y_pred_dtc)\n",
        "print(\"Accuracy of DicisionTree : \",LogisticRegressionAccuracy*100,'%')\n",
        "\n",
        "#F1 Score\n",
        "\n",
        "from sklearn.metrics import f1_score\n",
        "LogisticRegressionf1_scr = f1_score(y_test, y_pred_dtc)\n",
        "print(\"f1_score of DicisionTree : \",LogisticRegressionf1_scr*100,'%')\n",
        "\n",
        "#AUC Score\n",
        "\n",
        "from sklearn.metrics import roc_auc_score\n",
        "try:\n",
        "  print(roc_auc_score(y_test, y_pred_dtc))\n",
        "except ValueError:\n",
        "    pass\n",
        "\n"
      ]
    },
    {
      "cell_type": "code",
      "source": [
        "#ROC CURVE:\n",
        "from sklearn.metrics import roc_curve, auc, confusion_matrix\n",
        "\n",
        "dtc_fpr, dtc_tpr, threshold = roc_curve(y_test, y_pred_dtc)\n",
        "auc_dtc = auc(dtc_fpr, dtc_tpr)\n",
        "\n",
        "plt.figure(figsize=(5, 5), dpi=100)\n",
        "plt.plot(dtc_fpr, dtc_tpr, marker='.', label='dtc (auc = %0.3f)' % auc_dtc)\n",
        "\n",
        "plt.xlabel('False Positive Rate -->')\n",
        "plt.ylabel('True Positive Rate -->')\n",
        "\n",
        "plt.legend()\n",
        "\n",
        "plt.show()"
      ],
      "metadata": {
        "colab": {
          "base_uri": "https://localhost:8080/",
          "height": 457
        },
        "id": "3he5ZAeV3xMj",
        "outputId": "1180ebf6-25cd-4d14-cb94-6f1a5b138c22"
      },
      "execution_count": 32,
      "outputs": [
        {
          "output_type": "display_data",
          "data": {
            "text/plain": [
              "<Figure size 500x500 with 1 Axes>"
            ],
            "image/png": "[encoded data removed]"
          },
          "metadata": {
            "needs_background": "light"
          }
        }
      ]
    }
  ],
  "metadata": {
    "kernelspec": {
      "display_name": "Python 3",
      "language": "python",
      "name": "python3"
    },
    "language_info": {
      "codemirror_mode": {
        "name": "ipython",
        "version": 3
      },
      "file_extension": ".py",
      "mimetype": "text/x-python",
      "name": "python",
      "nbconvert_exporter": "python",
      "pygments_lexer": "ipython3",
      "version": "3.10.7"
    },
    "orig_nbformat": 4,
    "vscode": {
      "interpreter": {
        "hash": "c6028a8a5a12648e78fa32d0f161bce4cccc9ded56ee541b56c5f14e4c0285c4"
      }
    },
    "colab": {
      "provenance": []
    }
  },
  "nbformat": 4,
  "nbformat_minor": 0
}