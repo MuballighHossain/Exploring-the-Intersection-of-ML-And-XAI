{
  "cells": [
    {
      "cell_type": "code",
      "execution_count": 2,
      "metadata": {
        "id": "lpBqdnsNxVZC"
      },
      "outputs": [],
      "source": [
        "#Importing important librarys\n",
        "import pandas as pd\n",
        "import time\n",
        "import numpy as np\n",
        "import seaborn as sns\n",
        "import matplotlib.pyplot as plt\n",
        "%matplotlib inline \n",
        "from sklearn.preprocessing import LabelEncoder\n",
        "from sklearn.tree import DecisionTreeClassifier\n",
        "from sklearn.linear_model import LogisticRegression\n",
        "from sklearn.metrics import classification_report\n",
        "from sklearn.metrics import accuracy_score\n",
        "from sklearn.model_selection import train_test_split\n",
        "le = LabelEncoder()\n",
        "import warnings\n",
        "warnings.filterwarnings('ignore')"
      ]
    },
    {
      "cell_type": "code",
      "execution_count": 3,
      "metadata": {
        "colab": {
          "base_uri": "https://localhost:8080/"
        },
        "id": "PqyhhnfI1NRw",
        "outputId": "11ced85f-db86-432f-d98f-9c2245b4c07d"
      },
      "outputs": [
        {
          "ename": "ModuleNotFoundError",
          "evalue": "No module named 'google.colab'",
          "output_type": "error",
          "traceback": [
            "\u001b[1;31m---------------------------------------------------------------------------\u001b[0m",
            "\u001b[1;31mModuleNotFoundError\u001b[0m                       Traceback (most recent call last)",
            "Cell \u001b[1;32mIn [3], line 1\u001b[0m\n\u001b[1;32m----> 1\u001b[0m \u001b[39mfrom\u001b[39;00m \u001b[39mgoogle\u001b[39;00m\u001b[39m.\u001b[39;00m\u001b[39mcolab\u001b[39;00m \u001b[39mimport\u001b[39;00m drive\n\u001b[0;32m      2\u001b[0m drive\u001b[39m.\u001b[39mmount(\u001b[39m'\u001b[39m\u001b[39m/content/drive\u001b[39m\u001b[39m'\u001b[39m)\n",
            "\u001b[1;31mModuleNotFoundError\u001b[0m: No module named 'google.colab'"
          ]
        }
      ],
      "source": [
        "from google.colab import drive\n",
        "drive.mount('/content/drive')"
      ]
    },
    {
      "cell_type": "code",
      "execution_count": null,
      "metadata": {
        "colab": {
          "base_uri": "https://localhost:8080/",
          "height": 206
        },
        "id": "eqU4wY3O1Ppc",
        "outputId": "1f3ffbef-3b8f-4d55-8609-62805c72cc9c"
      },
      "outputs": [
        {
          "data": {
            "text/html": [
              "\n",
              "  <div id=\"df-ef8d909a-0fa9-4e4f-91c9-c437bb73ad6a\">\n",
              "    <div class=\"colab-df-container\">\n",
              "      <div>\n",
              "<style scoped>\n",
              "    .dataframe tbody tr th:only-of-type {\n",
              "        vertical-align: middle;\n",
              "    }\n",
              "\n",
              "    .dataframe tbody tr th {\n",
              "        vertical-align: top;\n",
              "    }\n",
              "\n",
              "    .dataframe thead th {\n",
              "        text-align: right;\n",
              "    }\n",
              "</style>\n",
              "<table border=\"1\" class=\"dataframe\">\n",
              "  <thead>\n",
              "    <tr style=\"text-align: right;\">\n",
              "      <th></th>\n",
              "      <th>date</th>\n",
              "      <th>time</th>\n",
              "      <th>FC1_Read_Input_Register</th>\n",
              "      <th>FC2_Read_Discrete_Value</th>\n",
              "      <th>FC3_Read_Holding_Register</th>\n",
              "      <th>FC4_Read_Coil</th>\n",
              "      <th>label</th>\n",
              "      <th>type</th>\n",
              "    </tr>\n",
              "  </thead>\n",
              "  <tbody>\n",
              "    <tr>\n",
              "      <th>0</th>\n",
              "      <td>31-Mar-19</td>\n",
              "      <td>12:36:55</td>\n",
              "      <td>53287</td>\n",
              "      <td>1463</td>\n",
              "      <td>33518</td>\n",
              "      <td>23014</td>\n",
              "      <td>0</td>\n",
              "      <td>normal</td>\n",
              "    </tr>\n",
              "    <tr>\n",
              "      <th>1</th>\n",
              "      <td>31-Mar-19</td>\n",
              "      <td>12:36:58</td>\n",
              "      <td>41029</td>\n",
              "      <td>55891</td>\n",
              "      <td>26004</td>\n",
              "      <td>50645</td>\n",
              "      <td>0</td>\n",
              "      <td>normal</td>\n",
              "    </tr>\n",
              "    <tr>\n",
              "      <th>2</th>\n",
              "      <td>31-Mar-19</td>\n",
              "      <td>12:36:58</td>\n",
              "      <td>41029</td>\n",
              "      <td>55891</td>\n",
              "      <td>26004</td>\n",
              "      <td>50645</td>\n",
              "      <td>0</td>\n",
              "      <td>normal</td>\n",
              "    </tr>\n",
              "    <tr>\n",
              "      <th>3</th>\n",
              "      <td>31-Mar-19</td>\n",
              "      <td>12:37:00</td>\n",
              "      <td>64661</td>\n",
              "      <td>40232</td>\n",
              "      <td>33460</td>\n",
              "      <td>44046</td>\n",
              "      <td>0</td>\n",
              "      <td>normal</td>\n",
              "    </tr>\n",
              "    <tr>\n",
              "      <th>4</th>\n",
              "      <td>31-Mar-19</td>\n",
              "      <td>12:37:01</td>\n",
              "      <td>64661</td>\n",
              "      <td>40232</td>\n",
              "      <td>33460</td>\n",
              "      <td>44046</td>\n",
              "      <td>0</td>\n",
              "      <td>normal</td>\n",
              "    </tr>\n",
              "  </tbody>\n",
              "</table>\n",
              "</div>\n",
              "      <button class=\"colab-df-convert\" onclick=\"convertToInteractive('df-ef8d909a-0fa9-4e4f-91c9-c437bb73ad6a')\"\n",
              "              title=\"Convert this dataframe to an interactive table.\"\n",
              "              style=\"display:none;\">\n",
              "        \n",
              "  <svg xmlns=\"http://www.w3.org/2000/svg\" height=\"24px\"viewBox=\"0 0 24 24\"\n",
              "       width=\"24px\">\n",
              "    <path d=\"M0 0h24v24H0V0z\" fill=\"none\"/>\n",
              "    <path d=\"M18.56 5.44l.94 2.06.94-2.06 2.06-.94-2.06-.94-.94-2.06-.94 2.06-2.06.94zm-11 1L8.5 8.5l.94-2.06 2.06-.94-2.06-.94L8.5 2.5l-.94 2.06-2.06.94zm10 10l.94 2.06.94-2.06 2.06-.94-2.06-.94-.94-2.06-.94 2.06-2.06.94z\"/><path d=\"M17.41 7.96l-1.37-1.37c-.4-.4-.92-.59-1.43-.59-.52 0-1.04.2-1.43.59L10.3 9.45l-7.72 7.72c-.78.78-.78 2.05 0 2.83L4 21.41c.39.39.9.59 1.41.59.51 0 1.02-.2 1.41-.59l7.78-7.78 2.81-2.81c.8-.78.8-2.07 0-2.86zM5.41 20L4 18.59l7.72-7.72 1.47 1.35L5.41 20z\"/>\n",
              "  </svg>\n",
              "      </button>\n",
              "      \n",
              "  <style>\n",
              "    .colab-df-container {\n",
              "      display:flex;\n",
              "      flex-wrap:wrap;\n",
              "      gap: 12px;\n",
              "    }\n",
              "\n",
              "    .colab-df-convert {\n",
              "      background-color: #E8F0FE;\n",
              "      border: none;\n",
              "      border-radius: 50%;\n",
              "      cursor: pointer;\n",
              "      display: none;\n",
              "      fill: #1967D2;\n",
              "      height: 32px;\n",
              "      padding: 0 0 0 0;\n",
              "      width: 32px;\n",
              "    }\n",
              "\n",
              "    .colab-df-convert:hover {\n",
              "      background-color: #E2EBFA;\n",
              "      box-shadow: 0px 1px 2px rgba(60, 64, 67, 0.3), 0px 1px 3px 1px rgba(60, 64, 67, 0.15);\n",
              "      fill: #174EA6;\n",
              "    }\n",
              "\n",
              "    [theme=dark] .colab-df-convert {\n",
              "      background-color: #3B4455;\n",
              "      fill: #D2E3FC;\n",
              "    }\n",
              "\n",
              "    [theme=dark] .colab-df-convert:hover {\n",
              "      background-color: #434B5C;\n",
              "      box-shadow: 0px 1px 3px 1px rgba(0, 0, 0, 0.15);\n",
              "      filter: drop-shadow(0px 1px 2px rgba(0, 0, 0, 0.3));\n",
              "      fill: #FFFFFF;\n",
              "    }\n",
              "  </style>\n",
              "\n",
              "      <script>\n",
              "        const buttonEl =\n",
              "          document.querySelector('#df-ef8d909a-0fa9-4e4f-91c9-c437bb73ad6a button.colab-df-convert');\n",
              "        buttonEl.style.display =\n",
              "          google.colab.kernel.accessAllowed ? 'block' : 'none';\n",
              "\n",
              "        async function convertToInteractive(key) {\n",
              "          const element = document.querySelector('#df-ef8d909a-0fa9-4e4f-91c9-c437bb73ad6a');\n",
              "          const dataTable =\n",
              "            await google.colab.kernel.invokeFunction('convertToInteractive',\n",
              "                                                     [key], {});\n",
              "          if (!dataTable) return;\n",
              "\n",
              "          const docLinkHtml = 'Like what you see? Visit the ' +\n",
              "            '<a target=\"_blank\" href=https://colab.research.google.com/notebooks/data_table.ipynb>data table notebook</a>'\n",
              "            + ' to learn more about interactive tables.';\n",
              "          element.innerHTML = '';\n",
              "          dataTable['output_type'] = 'display_data';\n",
              "          await google.colab.output.renderOutput(dataTable, element);\n",
              "          const docLink = document.createElement('div');\n",
              "          docLink.innerHTML = docLinkHtml;\n",
              "          element.appendChild(docLink);\n",
              "        }\n",
              "      </script>\n",
              "    </div>\n",
              "  </div>\n",
              "  "
            ],
            "text/plain": [
              "        date        time  FC1_Read_Input_Register  FC2_Read_Discrete_Value  \\\n",
              "0  31-Mar-19   12:36:55                     53287                     1463   \n",
              "1  31-Mar-19   12:36:58                     41029                    55891   \n",
              "2  31-Mar-19    12:36:58                    41029                    55891   \n",
              "3  31-Mar-19    12:37:00                    64661                    40232   \n",
              "4  31-Mar-19    12:37:01                    64661                    40232   \n",
              "\n",
              "   FC3_Read_Holding_Register  FC4_Read_Coil  label    type  \n",
              "0                      33518          23014      0  normal  \n",
              "1                      26004          50645      0  normal  \n",
              "2                      26004          50645      0  normal  \n",
              "3                      33460          44046      0  normal  \n",
              "4                      33460          44046      0  normal  "
            ]
          },
          "execution_count": 3,
          "metadata": {},
          "output_type": "execute_result"
        }
      ],
      "source": [
        "mBusData = pd.read_csv('/content/drive/MyDrive/datasets/Iot_processed/IoT_Modbus.csv')\n",
        "mBusData.head()"
      ]
    },
    {
      "cell_type": "code",
      "execution_count": null,
      "metadata": {
        "colab": {
          "base_uri": "https://localhost:8080/",
          "height": 206
        },
        "id": "UspQdqAQxVZF",
        "outputId": "376028d1-7fc8-4221-aca3-94a9749d501e"
      },
      "outputs": [
        {
          "data": {
            "text/html": [
              "\n",
              "  <div id=\"df-2c3f6926-fd3a-4bec-a24f-b41a9a8b9a7a\">\n",
              "    <div class=\"colab-df-container\">\n",
              "      <div>\n",
              "<style scoped>\n",
              "    .dataframe tbody tr th:only-of-type {\n",
              "        vertical-align: middle;\n",
              "    }\n",
              "\n",
              "    .dataframe tbody tr th {\n",
              "        vertical-align: top;\n",
              "    }\n",
              "\n",
              "    .dataframe thead th {\n",
              "        text-align: right;\n",
              "    }\n",
              "</style>\n",
              "<table border=\"1\" class=\"dataframe\">\n",
              "  <thead>\n",
              "    <tr style=\"text-align: right;\">\n",
              "      <th></th>\n",
              "      <th>FC1_Read_Input_Register</th>\n",
              "      <th>FC2_Read_Discrete_Value</th>\n",
              "      <th>FC3_Read_Holding_Register</th>\n",
              "      <th>FC4_Read_Coil</th>\n",
              "      <th>label</th>\n",
              "    </tr>\n",
              "  </thead>\n",
              "  <tbody>\n",
              "    <tr>\n",
              "      <th>0</th>\n",
              "      <td>53287</td>\n",
              "      <td>1463</td>\n",
              "      <td>33518</td>\n",
              "      <td>23014</td>\n",
              "      <td>0</td>\n",
              "    </tr>\n",
              "    <tr>\n",
              "      <th>1</th>\n",
              "      <td>41029</td>\n",
              "      <td>55891</td>\n",
              "      <td>26004</td>\n",
              "      <td>50645</td>\n",
              "      <td>0</td>\n",
              "    </tr>\n",
              "    <tr>\n",
              "      <th>2</th>\n",
              "      <td>41029</td>\n",
              "      <td>55891</td>\n",
              "      <td>26004</td>\n",
              "      <td>50645</td>\n",
              "      <td>0</td>\n",
              "    </tr>\n",
              "    <tr>\n",
              "      <th>3</th>\n",
              "      <td>64661</td>\n",
              "      <td>40232</td>\n",
              "      <td>33460</td>\n",
              "      <td>44046</td>\n",
              "      <td>0</td>\n",
              "    </tr>\n",
              "    <tr>\n",
              "      <th>4</th>\n",
              "      <td>64661</td>\n",
              "      <td>40232</td>\n",
              "      <td>33460</td>\n",
              "      <td>44046</td>\n",
              "      <td>0</td>\n",
              "    </tr>\n",
              "  </tbody>\n",
              "</table>\n",
              "</div>\n",
              "      <button class=\"colab-df-convert\" onclick=\"convertToInteractive('df-2c3f6926-fd3a-4bec-a24f-b41a9a8b9a7a')\"\n",
              "              title=\"Convert this dataframe to an interactive table.\"\n",
              "              style=\"display:none;\">\n",
              "        \n",
              "  <svg xmlns=\"http://www.w3.org/2000/svg\" height=\"24px\"viewBox=\"0 0 24 24\"\n",
              "       width=\"24px\">\n",
              "    <path d=\"M0 0h24v24H0V0z\" fill=\"none\"/>\n",
              "    <path d=\"M18.56 5.44l.94 2.06.94-2.06 2.06-.94-2.06-.94-.94-2.06-.94 2.06-2.06.94zm-11 1L8.5 8.5l.94-2.06 2.06-.94-2.06-.94L8.5 2.5l-.94 2.06-2.06.94zm10 10l.94 2.06.94-2.06 2.06-.94-2.06-.94-.94-2.06-.94 2.06-2.06.94z\"/><path d=\"M17.41 7.96l-1.37-1.37c-.4-.4-.92-.59-1.43-.59-.52 0-1.04.2-1.43.59L10.3 9.45l-7.72 7.72c-.78.78-.78 2.05 0 2.83L4 21.41c.39.39.9.59 1.41.59.51 0 1.02-.2 1.41-.59l7.78-7.78 2.81-2.81c.8-.78.8-2.07 0-2.86zM5.41 20L4 18.59l7.72-7.72 1.47 1.35L5.41 20z\"/>\n",
              "  </svg>\n",
              "      </button>\n",
              "      \n",
              "  <style>\n",
              "    .colab-df-container {\n",
              "      display:flex;\n",
              "      flex-wrap:wrap;\n",
              "      gap: 12px;\n",
              "    }\n",
              "\n",
              "    .colab-df-convert {\n",
              "      background-color: #E8F0FE;\n",
              "      border: none;\n",
              "      border-radius: 50%;\n",
              "      cursor: pointer;\n",
              "      display: none;\n",
              "      fill: #1967D2;\n",
              "      height: 32px;\n",
              "      padding: 0 0 0 0;\n",
              "      width: 32px;\n",
              "    }\n",
              "\n",
              "    .colab-df-convert:hover {\n",
              "      background-color: #E2EBFA;\n",
              "      box-shadow: 0px 1px 2px rgba(60, 64, 67, 0.3), 0px 1px 3px 1px rgba(60, 64, 67, 0.15);\n",
              "      fill: #174EA6;\n",
              "    }\n",
              "\n",
              "    [theme=dark] .colab-df-convert {\n",
              "      background-color: #3B4455;\n",
              "      fill: #D2E3FC;\n",
              "    }\n",
              "\n",
              "    [theme=dark] .colab-df-convert:hover {\n",
              "      background-color: #434B5C;\n",
              "      box-shadow: 0px 1px 3px 1px rgba(0, 0, 0, 0.15);\n",
              "      filter: drop-shadow(0px 1px 2px rgba(0, 0, 0, 0.3));\n",
              "      fill: #FFFFFF;\n",
              "    }\n",
              "  </style>\n",
              "\n",
              "      <script>\n",
              "        const buttonEl =\n",
              "          document.querySelector('#df-2c3f6926-fd3a-4bec-a24f-b41a9a8b9a7a button.colab-df-convert');\n",
              "        buttonEl.style.display =\n",
              "          google.colab.kernel.accessAllowed ? 'block' : 'none';\n",
              "\n",
              "        async function convertToInteractive(key) {\n",
              "          const element = document.querySelector('#df-2c3f6926-fd3a-4bec-a24f-b41a9a8b9a7a');\n",
              "          const dataTable =\n",
              "            await google.colab.kernel.invokeFunction('convertToInteractive',\n",
              "                                                     [key], {});\n",
              "          if (!dataTable) return;\n",
              "\n",
              "          const docLinkHtml = 'Like what you see? Visit the ' +\n",
              "            '<a target=\"_blank\" href=https://colab.research.google.com/notebooks/data_table.ipynb>data table notebook</a>'\n",
              "            + ' to learn more about interactive tables.';\n",
              "          element.innerHTML = '';\n",
              "          dataTable['output_type'] = 'display_data';\n",
              "          await google.colab.output.renderOutput(dataTable, element);\n",
              "          const docLink = document.createElement('div');\n",
              "          docLink.innerHTML = docLinkHtml;\n",
              "          element.appendChild(docLink);\n",
              "        }\n",
              "      </script>\n",
              "    </div>\n",
              "  </div>\n",
              "  "
            ],
            "text/plain": [
              "   FC1_Read_Input_Register  FC2_Read_Discrete_Value  \\\n",
              "0                    53287                     1463   \n",
              "1                    41029                    55891   \n",
              "2                    41029                    55891   \n",
              "3                    64661                    40232   \n",
              "4                    64661                    40232   \n",
              "\n",
              "   FC3_Read_Holding_Register  FC4_Read_Coil  label  \n",
              "0                      33518          23014      0  \n",
              "1                      26004          50645      0  \n",
              "2                      26004          50645      0  \n",
              "3                      33460          44046      0  \n",
              "4                      33460          44046      0  "
            ]
          },
          "execution_count": 4,
          "metadata": {},
          "output_type": "execute_result"
        }
      ],
      "source": [
        "mBusData.drop('type', axis = 1, inplace=True)\n",
        "mBusData.drop(mBusData.iloc[:, 0:2], axis = 1, inplace=True)\n",
        "mBusData.head()"
      ]
    },
    {
      "cell_type": "code",
      "execution_count": null,
      "metadata": {
        "id": "3CPam65NxVZF"
      },
      "outputs": [],
      "source": [
        "# import matplotlib.pyplot as plt\n",
        "# columns = mBusData.columns\n",
        "# for col in columns:\n",
        "#     print(\"col: \", col)\n",
        "#     mBusData[col].hist(bins = 100)\n",
        "#     plt.show()"
      ]
    },
    {
      "cell_type": "markdown",
      "metadata": {
        "id": "iLT8v_PZWODX"
      },
      "source": [
        "# **Train Test with Skfold**"
      ]
    },
    {
      "cell_type": "code",
      "execution_count": null,
      "metadata": {
        "id": "xeuC186S_zPX"
      },
      "outputs": [],
      "source": [
        "from sklearn.model_selection import StratifiedKFold\n",
        "skf = StratifiedKFold(n_splits=8, shuffle = True, random_state=3)\n",
        "\n",
        "x=mBusData[['FC1_Read_Input_Register','FC2_Read_Discrete_Value','FC3_Read_Holding_Register','FC4_Read_Coil']]\n",
        "y=mBusData[['label' ]]"
      ]
    },
    {
      "cell_type": "code",
      "execution_count": null,
      "metadata": {
        "id": "864xt96eJ3_4"
      },
      "outputs": [],
      "source": [
        "from sklearn.model_selection import StratifiedKFold\n",
        "skf = StratifiedKFold(n_splits=8, shuffle = True, random_state=3)"
      ]
    },
    {
      "cell_type": "code",
      "execution_count": null,
      "metadata": {
        "colab": {
          "base_uri": "https://localhost:8080/"
        },
        "id": "Z4fGCEDuxPOk",
        "outputId": "62e76bd4-2185-468d-ce23-56bbb6c7c06d"
      },
      "outputs": [
        {
          "name": "stdout",
          "output_type": "stream",
          "text": [
            "[1 0 1 ... 0 0 0]\n",
            "Accuracy of LR:  56.18\n",
            "f1_score of LR:  28.74\n",
            "AUC Score of LR: 50.23\n"
          ]
        }
      ],
      "source": [
        "for train_index, test_index in skf.split(x, y):\n",
        "    x_train, x_test, y_train, y_test = x.iloc[train_index], x.iloc[test_index], y.iloc[train_index], y.iloc[test_index]\n",
        "    \n",
        "lr = LogisticRegression(class_weight=\"balanced\")\n",
        "lr.fit(x_train, y_train) #Training the model\n",
        "y_pred_lr = lr.predict(x_test)\n",
        "print(y_pred_lr)# printing predictions\n",
        "\n",
        "\n",
        "#Accuracy Score\n",
        "\n",
        "from sklearn.metrics import accuracy_score\n",
        "lrAccuracy = round(accuracy_score(y_test, y_pred_lr)*100,2)\n",
        "print(\"Accuracy of LR: \",lrAccuracy)\n",
        "\n",
        "#F1 Score\n",
        "\n",
        "from sklearn.metrics import f1_score\n",
        "lrF1 = round(f1_score(y_test, y_pred_lr)*100,2)\n",
        "print(\"f1_score of LR: \",lrF1)\n",
        "\n",
        "#AUC Score\n",
        "\n",
        "from sklearn.metrics import roc_auc_score\n",
        "lrAuc = round(roc_auc_score (y_test, y_pred_lr)*100,2)\n",
        "print('AUC Score of LR:',lrAuc)"
      ]
    },
    {
      "cell_type": "code",
      "execution_count": null,
      "metadata": {
        "colab": {
          "base_uri": "https://localhost:8080/",
          "height": 457
        },
        "id": "bb_RAfDRxdj_",
        "outputId": "d7716d7d-bde4-4328-c469-9000f403b384"
      },
      "outputs": [
        {
          "data": {
            "image/png": "[encoded data removed]",
            "text/plain": [
              "<Figure size 500x500 with 1 Axes>"
            ]
          },
          "metadata": {
            "needs_background": "light"
          },
          "output_type": "display_data"
        }
      ],
      "source": [
        "#ROC CURVE:\n",
        "from sklearn.metrics import roc_curve, auc\n",
        "\n",
        "logistic_fpr, logistic_tpr, threshold = roc_curve(y_test, y_pred_lr)\n",
        "auc_logistic = auc(logistic_fpr, logistic_tpr)\n",
        "\n",
        "plt.figure(figsize=(5, 5), dpi=100)\n",
        "plt.plot(logistic_fpr, logistic_tpr, marker='.', label='Logistic (auc = %0.3f)' % auc_logistic)\n",
        "\n",
        "plt.xlabel('False Positive Rate -->')\n",
        "plt.ylabel('True Positive Rate -->')\n",
        "\n",
        "plt.legend()\n",
        "\n",
        "plt.show()"
      ]
    },
    {
      "cell_type": "code",
      "execution_count": null,
      "metadata": {
        "colab": {
          "base_uri": "https://localhost:8080/",
          "height": 282
        },
        "id": "7KNGZ0nGxh30",
        "outputId": "08e241a6-dbcb-470c-f5ed-b5637ae20a95"
      },
      "outputs": [
        {
          "data": {
            "text/plain": [
              "<matplotlib.axes._subplots.AxesSubplot at 0x7f25c019e820>"
            ]
          },
          "execution_count": 10,
          "metadata": {},
          "output_type": "execute_result"
        },
        {
          "data": {
            "image/png": "[encoded data removed]",
            "text/plain": [
              "<Figure size 432x288 with 2 Axes>"
            ]
          },
          "metadata": {
            "needs_background": "light"
          },
          "output_type": "display_data"
        }
      ],
      "source": [
        "import seaborn as sns\n",
        "from sklearn.metrics import confusion_matrix\n",
        "from sklearn.utils.multiclass import unique_labels\n",
        "def plot(y_true, y_pred):\n",
        "    labels = unique_labels(y_test)\n",
        "    column = [f'Predicted{label}' for label in labels]\n",
        "    indices = [f'Actual{label}' for label in labels]\n",
        "    table = pd.DataFrame(confusion_matrix(y_true, y_pred), columns = column, index=indices)\n",
        "    return sns.heatmap(table, annot = True, fmt = 'd', cmap = 'mako' )\n",
        "\n",
        "plot(y_test, y_pred_lr)"
      ]
    },
    {
      "cell_type": "markdown",
      "metadata": {
        "id": "LuNb9VdZWKIr"
      },
      "source": [
        "# **Oversampling**"
      ]
    },
    {
      "cell_type": "code",
      "execution_count": null,
      "metadata": {
        "colab": {
          "base_uri": "https://localhost:8080/"
        },
        "id": "756SLNTF_rO8",
        "outputId": "50d28d17-67be-4b0e-b657-65fb139f51a0"
      },
      "outputs": [
        {
          "name": "stdout",
          "output_type": "stream",
          "text": [
            "Before oversampling {0: 194999, 1: 56296}\n",
            "After oversampling {0: 194999, 1: 194999}\n"
          ]
        }
      ],
      "source": [
        "from imblearn.over_sampling import SMOTE\n",
        "import numpy as np\n",
        "#Seeing the value count before oversampling\n",
        "unique, count = np.unique(y_train, return_counts = True)\n",
        "y_train_dict_value_count = {k:v for (k,v) in zip(unique, count)}\n",
        "print(\"Before oversampling\",y_train_dict_value_count)\n",
        "\n",
        "sm = SMOTE(random_state=12)\n",
        "x_train_sm, y_train_sm = sm.fit_resample(x_train, y_train)\n",
        "\n",
        "# Seeing the value count after oversampling\n",
        "unique, count = np.unique(y_train_sm, return_counts = True)\n",
        "y_train_smote_value_count = {k:v for (k,v) in zip(unique, count)}\n",
        "print(\"After oversampling\",y_train_smote_value_count)"
      ]
    },
    {
      "cell_type": "code",
      "execution_count": null,
      "metadata": {
        "colab": {
          "base_uri": "https://localhost:8080/"
        },
        "id": "hys7DenpAzdf",
        "outputId": "81e03ba2-250b-4d64-9004-459f367a19d5"
      },
      "outputs": [
        {
          "name": "stdout",
          "output_type": "stream",
          "text": [
            "[0 0 0 ... 0 0 0]\n",
            "Accuracy of lr after oversampling: 49.57\n",
            "f1_score of lr after oversampling: 43.81\n",
            "AUC Score of lr after oversampling: 49.57\n"
          ]
        }
      ],
      "source": [
        "for train_index, test_index in skf.split(x_train_sm, y_train_sm):\n",
        "    x_train, x_test, y_train, y_test = x_train_sm.iloc[train_index], x_train_sm.iloc[test_index], y_train_sm.iloc[train_index], y_train_sm.iloc[test_index]\n",
        "\n",
        "lr = LogisticRegression(class_weight=\"balanced\")\n",
        "lr.fit(x_train, y_train) #Training the model\n",
        "y_pred_lr = lr.predict(x_test)\n",
        "print(y_pred_lr)# printing predictions\n",
        "\n",
        "\n",
        "#Accuracy Score\n",
        "\n",
        "from sklearn.metrics import accuracy_score\n",
        "ovr_lrAccuracy = round(accuracy_score(y_test, y_pred_lr)*100,2)\n",
        "print(\"Accuracy of lr after oversampling:\",ovr_lrAccuracy)\n",
        "\n",
        "#F1 Score\n",
        "\n",
        "from sklearn.metrics import f1_score\n",
        "ovr_lrF1 = round(f1_score(y_test, y_pred_lr)*100,2)\n",
        "print(\"f1_score of lr after oversampling:\",ovr_lrF1)\n",
        "\n",
        "#AUC Score\n",
        "\n",
        "from sklearn.metrics import roc_auc_score\n",
        "ovr_lrAuc = round(roc_auc_score (y_test, y_pred_lr)*100,2)\n",
        "print('AUC Score of lr after oversampling:', ovr_lrAuc)"
      ]
    },
    {
      "cell_type": "code",
      "execution_count": null,
      "metadata": {
        "colab": {
          "base_uri": "https://localhost:8080/",
          "height": 457
        },
        "id": "Pd24tftiAzdg",
        "outputId": "461b9002-a5f8-4ae6-a843-faea756f6599"
      },
      "outputs": [
        {
          "data": {
            "image/png": "[encoded data removed]",
            "text/plain": [
              "<Figure size 500x500 with 1 Axes>"
            ]
          },
          "metadata": {
            "needs_background": "light"
          },
          "output_type": "display_data"
        }
      ],
      "source": [
        "#ROC CURVE:\n",
        "from sklearn.metrics import roc_curve, auc, confusion_matrix\n",
        "\n",
        "logistic_fpr, logistic_tpr, threshold = roc_curve(y_test, y_pred_lr)\n",
        "auc_logistic = auc(logistic_fpr, logistic_tpr)\n",
        "\n",
        "plt.figure(figsize=(5, 5), dpi=100)\n",
        "plt.plot(logistic_fpr, logistic_tpr, marker='.', label='Logistic OVR (auc = %0.3f)' % auc_logistic)\n",
        "\n",
        "plt.xlabel('False Positive Rate -->')\n",
        "plt.ylabel('True Positive Rate -->')\n",
        "\n",
        "plt.legend()\n",
        "\n",
        "plt.show()\n"
      ]
    },
    {
      "cell_type": "code",
      "execution_count": 4,
      "metadata": {},
      "outputs": [
        {
          "ename": "NameError",
          "evalue": "name 'y_test' is not defined",
          "output_type": "error",
          "traceback": [
            "\u001b[1;31m---------------------------------------------------------------------------\u001b[0m",
            "\u001b[1;31mNameError\u001b[0m                                 Traceback (most recent call last)",
            "Cell \u001b[1;32mIn [4], line 11\u001b[0m\n\u001b[0;32m      8\u001b[0m     table \u001b[39m=\u001b[39m pd\u001b[39m.\u001b[39mDataFrame(confusion_matrix(y_true, y_pred), columns \u001b[39m=\u001b[39m column, index\u001b[39m=\u001b[39mindices)\n\u001b[0;32m      9\u001b[0m     \u001b[39mreturn\u001b[39;00m sns\u001b[39m.\u001b[39mheatmap(table, annot \u001b[39m=\u001b[39m \u001b[39mTrue\u001b[39;00m, fmt \u001b[39m=\u001b[39m \u001b[39m'\u001b[39m\u001b[39md\u001b[39m\u001b[39m'\u001b[39m, cmap \u001b[39m=\u001b[39m \u001b[39m'\u001b[39m\u001b[39mmako\u001b[39m\u001b[39m'\u001b[39m )\n\u001b[1;32m---> 11\u001b[0m plot(y_test, y_pred_lr)\n",
            "\u001b[1;31mNameError\u001b[0m: name 'y_test' is not defined"
          ]
        }
      ],
      "source": [
        "import seaborn as sns\n",
        "from sklearn.metrics import confusion_matrix\n",
        "from sklearn.utils.multiclass import unique_labels\n",
        "def plot(y_true, y_pred):\n",
        "    labels = unique_labels(y_test)\n",
        "    column = [f'Predicted{label}' for label in labels]\n",
        "    indices = [f'Actual{label}' for label in labels]\n",
        "    table = pd.DataFrame(confusion_matrix(y_true, y_pred), columns = column, index=indices)\n",
        "    return sns.heatmap(table, annot = True, fmt = 'd', cmap = 'mako' )\n",
        "\n",
        "plot(y_test, y_pred_lr)"
      ]
    },
    {
      "cell_type": "markdown",
      "metadata": {
        "id": "c_h1HjlyxVZK"
      },
      "source": [
        "# Result when we use undersampling on the data"
      ]
    },
    {
      "cell_type": "code",
      "execution_count": null,
      "metadata": {
        "id": "ttT3XOz6xVZK"
      },
      "outputs": [],
      "source": [
        "x=mBusData[['FC1_Read_Input_Register','FC2_Read_Discrete_Value','FC3_Read_Holding_Register','FC4_Read_Coil']]\n",
        "y=mBusData['label' ]"
      ]
    },
    {
      "cell_type": "code",
      "execution_count": null,
      "metadata": {
        "colab": {
          "base_uri": "https://localhost:8080/"
        },
        "id": "5BymBGHSydIs",
        "outputId": "5e549c3c-b467-477b-ea9d-953667f77d8d"
      },
      "outputs": [
        {
          "name": "stdout",
          "output_type": "stream",
          "text": [
            "Before undersampling Counter({0: 194999, 1: 56296})\n",
            "After undersampling Counter({0: 56296, 1: 56296})\n"
          ]
        }
      ],
      "source": [
        "for train_index, test_index in skf.split(x,y):\n",
        "    x_train, x_test, y_train, y_test = x.iloc[train_index], x.iloc[test_index], y.iloc[train_index], y.iloc[test_index]\n",
        "\n",
        "from imblearn.under_sampling import RandomUnderSampler\n",
        "import numpy as np\n",
        "from collections import Counter\n",
        "\n",
        "#Seeing the value count before oversampling\n",
        "print(\"Before undersampling\", Counter(y_train))\n",
        "\n",
        "rus = RandomUnderSampler(random_state=12)\n",
        "x_undsampled, y_undsampled = rus.fit_resample(x_train, y_train)\n",
        "\n",
        "# Seeing the value count after oversampling\n",
        "print(\"After undersampling\",Counter(y_undsampled))"
      ]
    },
    {
      "cell_type": "code",
      "execution_count": null,
      "metadata": {
        "colab": {
          "base_uri": "https://localhost:8080/"
        },
        "id": "ErugYg5vxVZL",
        "outputId": "8c091fb2-38d7-4e66-cc33-2581fe0bb7c3"
      },
      "outputs": [
        {
          "name": "stdout",
          "output_type": "stream",
          "text": [
            "[0 0 0 ... 0 1 0]\n",
            "Accuracy of lr undersampled :  50.44\n",
            "f1_score of lr undersampled:  38.32\n",
            "AUC Score of lr undersampled: 50.44\n"
          ]
        }
      ],
      "source": [
        "# --------------------------Logistic Reg -----------------------------------\n",
        "\n",
        "for train_index, test_index in skf.split(x_undsampled, y_undsampled):\n",
        "    x_train, x_test, y_train, y_test = x_undsampled.iloc[train_index], x_undsampled.iloc[test_index], y_undsampled.iloc[train_index], y_undsampled.iloc[test_index]\n",
        "\n",
        "lr = LogisticRegression(class_weight=\"balanced\")\n",
        "lr.fit(x_train, y_train) #Training the model\n",
        "y_pred_lr = lr.predict(x_test)\n",
        "print(y_pred_lr)# printing predictions\n",
        "\n",
        "\n",
        "#Accuracy Score\n",
        "\n",
        "from sklearn.metrics import accuracy_score\n",
        "und_lrAccuracy = round(accuracy_score(y_test, y_pred_lr)*100,2)\n",
        "print(\"Accuracy of lr undersampled : \",und_lrAccuracy)\n",
        "\n",
        "#F1 Score\n",
        "\n",
        "from sklearn.metrics import f1_score\n",
        "und_lrF1 = round(f1_score(y_test, y_pred_lr)*100,2)\n",
        "print(\"f1_score of lr undersampled: \",und_lrF1)\n",
        "\n",
        "#AUC Score\n",
        "\n",
        "from sklearn.metrics import roc_auc_score\n",
        "try:\n",
        "  und_lrAuc = round(roc_auc_score (y_test, y_pred_lr)*100,2)\n",
        "  print('AUC Score of lr undersampled:', und_lrAuc)\n",
        "except ValueError:\n",
        "    pass"
      ]
    },
    {
      "cell_type": "code",
      "execution_count": null,
      "metadata": {
        "colab": {
          "base_uri": "https://localhost:8080/",
          "height": 457
        },
        "id": "qYrXDsAi0EU-",
        "outputId": "583b0a52-e275-4384-d17a-47c845f2ac2e"
      },
      "outputs": [
        {
          "data": {
            "image/png": "[encoded data removed]",
            "text/plain": [
              "<Figure size 500x500 with 1 Axes>"
            ]
          },
          "metadata": {
            "needs_background": "light"
          },
          "output_type": "display_data"
        }
      ],
      "source": [
        "from sklearn.metrics import roc_curve, auc, confusion_matrix\n",
        "\n",
        "logistic_fpr, logistic_tpr, threshold = roc_curve(y_test, y_pred_lr)\n",
        "auc_logistic = auc(logistic_fpr, logistic_tpr)\n",
        "\n",
        "plt.figure(figsize=(5, 5), dpi=100)\n",
        "plt.plot(logistic_fpr, logistic_tpr, marker='.', label='Logistic und (auc = %0.3f)' % auc_logistic)\n",
        "\n",
        "plt.xlabel('False Positive Rate -->')\n",
        "plt.ylabel('True Positive Rate -->')\n",
        "\n",
        "plt.legend()\n",
        "\n",
        "plt.show()"
      ]
    },
    {
      "cell_type": "code",
      "execution_count": null,
      "metadata": {},
      "outputs": [],
      "source": [
        "import seaborn as sns\n",
        "from sklearn.metrics import confusion_matrix\n",
        "from sklearn.utils.multiclass import unique_labels\n",
        "def plot(y_true, y_pred):\n",
        "    labels = unique_labels(y_test)\n",
        "    column = [f'Predicted{label}' for label in labels]\n",
        "    indices = [f'Actual{label}' for label in labels]\n",
        "    table = pd.DataFrame(confusion_matrix(y_true, y_pred), columns = column, index=indices)\n",
        "    return sns.heatmap(table, annot = True, fmt = 'd', cmap = 'mako' )\n",
        "\n",
        "plot(y_test, y_pred_lr)"
      ]
    },
    {
      "cell_type": "code",
      "execution_count": null,
      "metadata": {
        "id": "e1HVtW7x0Gpz"
      },
      "outputs": [],
      "source": [
        "# from sklearn.metrics import f1_score, accuracy_score, confusion_matrix\n",
        "\n",
        "# confusion_matrix(y_test,y_pred_logistic)"
      ]
    },
    {
      "cell_type": "code",
      "execution_count": 1,
      "metadata": {
        "colab": {
          "base_uri": "https://localhost:8080/",
          "height": 350
        },
        "id": "KH6aNX3Nzi_0",
        "outputId": "1372e150-31dc-4c0a-a5fc-ff0bc7c60e7a"
      },
      "outputs": [
        {
          "ename": "NameError",
          "evalue": "name 'lrAccuracy' is not defined",
          "output_type": "error",
          "traceback": [
            "\u001b[1;31m---------------------------------------------------------------------------\u001b[0m",
            "\u001b[1;31mNameError\u001b[0m                                 Traceback (most recent call last)",
            "Cell \u001b[1;32mIn [1], line 2\u001b[0m\n\u001b[0;32m      1\u001b[0m \u001b[39m#Plotting a bar graph to compare the accuracy scores of the different scoring metrics\u001b[39;00m\n\u001b[1;32m----> 2\u001b[0m all_accuracy_scores \u001b[39m=\u001b[39m [lrAccuracy, ovr_lrAccuracy, und_lrAccuracy]\n\u001b[0;32m      3\u001b[0m all_f1_scores \u001b[39m=\u001b[39m [lrF1, ovr_lrF1, und_lrF1]\n\u001b[0;32m      4\u001b[0m all_auc_roc_scores \u001b[39m=\u001b[39m [lrAuc, ovr_lrAuc, und_lrAuc]\n",
            "\u001b[1;31mNameError\u001b[0m: name 'lrAccuracy' is not defined"
          ]
        }
      ],
      "source": [
        "#Plotting a bar graph to compare the accuracy scores of the different scoring metrics\n",
        "all_accuracy_scores = [lrAccuracy, ovr_lrAccuracy, und_lrAccuracy]\n",
        "all_f1_scores = [lrF1, ovr_lrF1, und_lrF1]\n",
        "all_auc_roc_scores = [lrAuc, ovr_lrAuc, und_lrAuc]\n",
        "\n",
        "x_labels = ['Unbalanced', 'Oversampled', 'Undersampled']\n",
        "\n",
        "def autolabel(rectangle_group):\n",
        "    for rect in rectangle_group:\n",
        "        height = rect.get_height()\n",
        "\n",
        "        ax.annotate(str(height), xy = (rect.get_x(), height+.15))\n",
        "\n",
        "width = 0.2\n",
        "\n",
        "x_all_accuracy_score = [x-width for x in range (len(all_accuracy_scores))]\n",
        "x_all_f1_score = [x for x in range (len(all_f1_scores))]\n",
        "x_all_auc_roc_score = [x+width for x in range (len(all_auc_roc_scores))]\n",
        "\n",
        "fig,ax = plt.subplots(figsize = (8, 5))\n",
        "rect1 = ax.bar(x_all_accuracy_score ,all_accuracy_scores, width, label='Accuracy Score', color = 'red')\n",
        "rect2 = ax.bar(x_all_f1_score, all_f1_scores, width, label='F1 Score', color='navy')\n",
        "rect3 = ax.bar(x_all_auc_roc_score, all_auc_roc_scores, width, label='AUC ROC Score', color='lime')\n",
        "plt.xticks([x for x in range(len(x_labels))], x_labels)\n",
        "ax.set_title('Modbus Logistic Regression')\n",
        "ax.set_xlabel('Sampling Method')\n",
        "ax.set_ylabel('Score %')\n",
        "plt.ylim([0, 70])\n",
        "ax.legend()\n",
        "\n",
        "autolabel(rect1)\n",
        "autolabel(rect2)\n",
        "autolabel(rect3)\n",
        "plt.show()"
      ]
    }
  ],
  "metadata": {
    "colab": {
      "provenance": []
    },
    "kernelspec": {
      "display_name": "Python 3",
      "language": "python",
      "name": "python3"
    },
    "language_info": {
      "codemirror_mode": {
        "name": "ipython",
        "version": 3
      },
      "file_extension": ".py",
      "mimetype": "text/x-python",
      "name": "python",
      "nbconvert_exporter": "python",
      "pygments_lexer": "ipython3",
      "version": "3.10.7"
    },
    "orig_nbformat": 4,
    "vscode": {
      "interpreter": {
        "hash": "c6028a8a5a12648e78fa32d0f161bce4cccc9ded56ee541b56c5f14e4c0285c4"
      }
    }
  },
  "nbformat": 4,
  "nbformat_minor": 0
}
