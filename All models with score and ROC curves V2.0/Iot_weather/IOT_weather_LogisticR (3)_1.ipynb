{
  "cells": [
    {
      "cell_type": "code",
      "execution_count": 1,
      "metadata": {
        "id": "lpBqdnsNxVZC"
      },
      "outputs": [],
      "source": [
        "#Importing important librarys\n",
        "import pandas as pd\n",
        "import time\n",
        "import numpy as np\n",
        "import seaborn as sns\n",
        "import matplotlib.pyplot as plt\n",
        "%matplotlib inline \n",
        "from sklearn.preprocessing import LabelEncoder\n",
        "from sklearn.tree import DecisionTreeClassifier\n",
        "from sklearn.linear_model import LogisticRegression\n",
        "from sklearn.metrics import classification_report\n",
        "from sklearn.metrics import accuracy_score\n",
        "from sklearn.model_selection import train_test_split\n",
        "le = LabelEncoder()\n",
        "import warnings\n",
        "warnings.filterwarnings('ignore')"
      ]
    },
    {
      "cell_type": "code",
      "execution_count": 2,
      "metadata": {
        "colab": {
          "base_uri": "https://localhost:8080/"
        },
        "id": "PqyhhnfI1NRw",
        "outputId": "f3344ab8-bf08-4758-d641-21778c2b1b2b"
      },
      "outputs": [
        {
          "name": "stdout",
          "output_type": "stream",
          "text": [
            "Mounted at /content/drive\n"
          ]
        }
      ],
      "source": [
        "# from google.colab import drive\n",
        "# drive.mount('/content/drive')"
      ]
    },
    {
      "cell_type": "code",
      "execution_count": 3,
      "metadata": {
        "colab": {
          "base_uri": "https://localhost:8080/",
          "height": 206
        },
        "id": "eqU4wY3O1Ppc",
        "outputId": "c03d6424-011a-44b1-bf09-84c7ac96eeea"
      },
      "outputs": [
        {
          "data": {
            "text/html": [
              "<div>\n",
              "<style scoped>\n",
              "    .dataframe tbody tr th:only-of-type {\n",
              "        vertical-align: middle;\n",
              "    }\n",
              "\n",
              "    .dataframe tbody tr th {\n",
              "        vertical-align: top;\n",
              "    }\n",
              "\n",
              "    .dataframe thead th {\n",
              "        text-align: right;\n",
              "    }\n",
              "</style>\n",
              "<table border=\"1\" class=\"dataframe\">\n",
              "  <thead>\n",
              "    <tr style=\"text-align: right;\">\n",
              "      <th></th>\n",
              "      <th>date</th>\n",
              "      <th>time</th>\n",
              "      <th>temperature</th>\n",
              "      <th>pressure</th>\n",
              "      <th>humidity</th>\n",
              "      <th>label</th>\n",
              "      <th>type</th>\n",
              "    </tr>\n",
              "  </thead>\n",
              "  <tbody>\n",
              "    <tr>\n",
              "      <th>0</th>\n",
              "      <td>31-Mar-19</td>\n",
              "      <td>12:36:52</td>\n",
              "      <td>31.788508</td>\n",
              "      <td>1.035</td>\n",
              "      <td>32.036579</td>\n",
              "      <td>0</td>\n",
              "      <td>normal</td>\n",
              "    </tr>\n",
              "    <tr>\n",
              "      <th>1</th>\n",
              "      <td>31-Mar-19</td>\n",
              "      <td>12:36:53</td>\n",
              "      <td>41.630997</td>\n",
              "      <td>1.035</td>\n",
              "      <td>30.886165</td>\n",
              "      <td>0</td>\n",
              "      <td>normal</td>\n",
              "    </tr>\n",
              "    <tr>\n",
              "      <th>2</th>\n",
              "      <td>31-Mar-19</td>\n",
              "      <td>12:36:54</td>\n",
              "      <td>42.256959</td>\n",
              "      <td>1.035</td>\n",
              "      <td>19.755908</td>\n",
              "      <td>0</td>\n",
              "      <td>normal</td>\n",
              "    </tr>\n",
              "    <tr>\n",
              "      <th>3</th>\n",
              "      <td>31-Mar-19</td>\n",
              "      <td>12:36:55</td>\n",
              "      <td>49.116581</td>\n",
              "      <td>1.035</td>\n",
              "      <td>78.949621</td>\n",
              "      <td>0</td>\n",
              "      <td>normal</td>\n",
              "    </tr>\n",
              "    <tr>\n",
              "      <th>4</th>\n",
              "      <td>31-Mar-19</td>\n",
              "      <td>12:36:56</td>\n",
              "      <td>24.017085</td>\n",
              "      <td>1.035</td>\n",
              "      <td>40.001059</td>\n",
              "      <td>0</td>\n",
              "      <td>normal</td>\n",
              "    </tr>\n",
              "  </tbody>\n",
              "</table>\n",
              "</div>"
            ],
            "text/plain": [
              "        date      time  temperature  pressure   humidity  label    type\n",
              "0  31-Mar-19  12:36:52    31.788508     1.035  32.036579      0  normal\n",
              "1  31-Mar-19  12:36:53    41.630997     1.035  30.886165      0  normal\n",
              "2  31-Mar-19  12:36:54    42.256959     1.035  19.755908      0  normal\n",
              "3  31-Mar-19  12:36:55    49.116581     1.035  78.949621      0  normal\n",
              "4  31-Mar-19  12:36:56    24.017085     1.035  40.001059      0  normal"
            ]
          },
          "execution_count": 3,
          "metadata": {},
          "output_type": "execute_result"
        }
      ],
      "source": [
        "mBusData = pd.read_csv('D:/TON IOT/Processed_datasets/Processed_datasets/Processed_IoT_dataset/IoT_Weather.csv')\n",
        "mBusData.head()"
      ]
    },
    {
      "cell_type": "code",
      "execution_count": 4,
      "metadata": {
        "colab": {
          "base_uri": "https://localhost:8080/",
          "height": 206
        },
        "id": "UspQdqAQxVZF",
        "outputId": "5a54205a-7d2a-4ed2-fcbd-bd1cc7d7a9b6"
      },
      "outputs": [
        {
          "data": {
            "text/html": [
              "<div>\n",
              "<style scoped>\n",
              "    .dataframe tbody tr th:only-of-type {\n",
              "        vertical-align: middle;\n",
              "    }\n",
              "\n",
              "    .dataframe tbody tr th {\n",
              "        vertical-align: top;\n",
              "    }\n",
              "\n",
              "    .dataframe thead th {\n",
              "        text-align: right;\n",
              "    }\n",
              "</style>\n",
              "<table border=\"1\" class=\"dataframe\">\n",
              "  <thead>\n",
              "    <tr style=\"text-align: right;\">\n",
              "      <th></th>\n",
              "      <th>temperature</th>\n",
              "      <th>pressure</th>\n",
              "      <th>humidity</th>\n",
              "      <th>label</th>\n",
              "    </tr>\n",
              "  </thead>\n",
              "  <tbody>\n",
              "    <tr>\n",
              "      <th>0</th>\n",
              "      <td>31.788508</td>\n",
              "      <td>1.035</td>\n",
              "      <td>32.036579</td>\n",
              "      <td>0</td>\n",
              "    </tr>\n",
              "    <tr>\n",
              "      <th>1</th>\n",
              "      <td>41.630997</td>\n",
              "      <td>1.035</td>\n",
              "      <td>30.886165</td>\n",
              "      <td>0</td>\n",
              "    </tr>\n",
              "    <tr>\n",
              "      <th>2</th>\n",
              "      <td>42.256959</td>\n",
              "      <td>1.035</td>\n",
              "      <td>19.755908</td>\n",
              "      <td>0</td>\n",
              "    </tr>\n",
              "    <tr>\n",
              "      <th>3</th>\n",
              "      <td>49.116581</td>\n",
              "      <td>1.035</td>\n",
              "      <td>78.949621</td>\n",
              "      <td>0</td>\n",
              "    </tr>\n",
              "    <tr>\n",
              "      <th>4</th>\n",
              "      <td>24.017085</td>\n",
              "      <td>1.035</td>\n",
              "      <td>40.001059</td>\n",
              "      <td>0</td>\n",
              "    </tr>\n",
              "  </tbody>\n",
              "</table>\n",
              "</div>"
            ],
            "text/plain": [
              "   temperature  pressure   humidity  label\n",
              "0    31.788508     1.035  32.036579      0\n",
              "1    41.630997     1.035  30.886165      0\n",
              "2    42.256959     1.035  19.755908      0\n",
              "3    49.116581     1.035  78.949621      0\n",
              "4    24.017085     1.035  40.001059      0"
            ]
          },
          "execution_count": 4,
          "metadata": {},
          "output_type": "execute_result"
        }
      ],
      "source": [
        "mBusData.drop('type', axis = 1, inplace=True)\n",
        "mBusData.drop(mBusData.iloc[:, 0:2], axis = 1, inplace=True)\n",
        "mBusData.head()"
      ]
    },
    {
      "cell_type": "code",
      "execution_count": 5,
      "metadata": {
        "id": "3CPam65NxVZF"
      },
      "outputs": [],
      "source": [
        "# import matplotlib.pyplot as plt\n",
        "# columns = mBusData.columns\n",
        "# for col in columns:\n",
        "#     print(\"col: \", col)\n",
        "#     mBusData[col].hist(bins = 100)\n",
        "#     plt.show()"
      ]
    },
    {
      "cell_type": "markdown",
      "metadata": {
        "id": "iLT8v_PZWODX"
      },
      "source": [
        "# **Train Test with Skfold**"
      ]
    },
    {
      "cell_type": "code",
      "execution_count": 5,
      "metadata": {
        "id": "xeuC186S_zPX"
      },
      "outputs": [],
      "source": [
        "from sklearn.model_selection import StratifiedKFold\n",
        "skf = StratifiedKFold(n_splits=8, shuffle = True, random_state=3)\n",
        "\n",
        "x=mBusData[['temperature',\t'pressure',\t'humidity']]\n",
        "y=mBusData[['label' ]]"
      ]
    },
    {
      "cell_type": "markdown",
      "metadata": {
        "id": "tA2PGCF5MUOU"
      },
      "source": [
        "# **Logistic Regression**"
      ]
    },
    {
      "cell_type": "code",
      "execution_count": 6,
      "metadata": {
        "id": "xo8CrUvfIs52"
      },
      "outputs": [],
      "source": [
        "from sklearn.model_selection import StratifiedKFold\n",
        "skf = StratifiedKFold(n_splits=8, shuffle = True, random_state=3)"
      ]
    },
    {
      "cell_type": "code",
      "execution_count": 7,
      "metadata": {
        "colab": {
          "base_uri": "https://localhost:8080/"
        },
        "id": "Z4fGCEDuxPOk",
        "outputId": "0c2efa4b-616d-4502-8992-92fe2ee3dfcb"
      },
      "outputs": [
        {
          "name": "stdout",
          "output_type": "stream",
          "text": [
            "[1 1 1 ... 1 0 1]\n",
            "Accuracy of LR:  51.32\n",
            "f1_score of LR:  23.57\n",
            "AUC Score of LR: 52.41\n"
          ]
        }
      ],
      "source": [
        "for train_index, test_index in skf.split(x, y):\n",
        "    x_train, x_test, y_train, y_test = x.iloc[train_index], x.iloc[test_index], y.iloc[train_index], y.iloc[test_index]\n",
        "    \n",
        "lr = LogisticRegression(class_weight=\"balanced\")\n",
        "lr.fit(x_train, y_train) #Training the model\n",
        "y_pred_lr = lr.predict(x_test)\n",
        "print(y_pred_lr)# printing predictions\n",
        "\n",
        "\n",
        "#Accuracy Score\n",
        "\n",
        "from sklearn.metrics import accuracy_score\n",
        "lrAccuracy = round(accuracy_score(y_test, y_pred_lr)*100,2)\n",
        "print(\"Accuracy of LR: \",lrAccuracy)\n",
        "\n",
        "#F1 Score\n",
        "\n",
        "from sklearn.metrics import f1_score\n",
        "lrF1 = round(f1_score(y_test, y_pred_lr)*100,2)\n",
        "print(\"f1_score of LR: \",lrF1)\n",
        "\n",
        "#AUC Score\n",
        "\n",
        "from sklearn.metrics import roc_auc_score\n",
        "lrAuc = round(roc_auc_score (y_test, y_pred_lr)*100,2)\n",
        "print('AUC Score of LR:',lrAuc)"
      ]
    },
    {
      "cell_type": "code",
      "execution_count": 8,
      "metadata": {
        "colab": {
          "base_uri": "https://localhost:8080/",
          "height": 457
        },
        "id": "bb_RAfDRxdj_",
        "outputId": "a300cce2-e6f7-430d-bf44-3f4640422a64"
      },
      "outputs": [
        {
          "data": {
            "image/png": "[encoded data removed]",
            "text/plain": [
              "<Figure size 500x500 with 1 Axes>"
            ]
          },
          "metadata": {},
          "output_type": "display_data"
        }
      ],
      "source": [
        "#ROC CURVE:\n",
        "from sklearn.metrics import roc_curve, auc\n",
        "\n",
        "logistic_fpr, logistic_tpr, threshold = roc_curve(y_test, y_pred_lr)\n",
        "auc_logistic = auc(logistic_fpr, logistic_tpr)\n",
        "\n",
        "plt.figure(figsize=(5, 5), dpi=100)\n",
        "plt.plot(logistic_fpr, logistic_tpr, marker='.', label='Logistic (auc = %0.3f)' % auc_logistic)\n",
        "\n",
        "plt.xlabel('False Positive Rate -->')\n",
        "plt.ylabel('True Positive Rate -->')\n",
        "\n",
        "plt.legend()\n",
        "\n",
        "plt.show()"
      ]
    },
    {
      "cell_type": "code",
      "execution_count": 9,
      "metadata": {
        "colab": {
          "base_uri": "https://localhost:8080/"
        },
        "id": "7KNGZ0nGxh30",
        "outputId": "c0332fb9-aa1e-4c01-9079-d7dc6f3bf8ae"
      },
      "outputs": [
        {
          "data": {
            "text/plain": [
              "<AxesSubplot: >"
            ]
          },
          "execution_count": 9,
          "metadata": {},
          "output_type": "execute_result"
        },
        {
          "data": {
            "image/png": "[encoded data removed]",
            "text/plain": [
              "<Figure size 640x480 with 2 Axes>"
            ]
          },
          "metadata": {},
          "output_type": "display_data"
        }
      ],
      "source": [
        "import seaborn as sns\n",
        "from sklearn.metrics import confusion_matrix\n",
        "from sklearn.utils.multiclass import unique_labels\n",
        "def plot(y_true, y_pred):\n",
        "    labels = unique_labels(y_test)\n",
        "    column = [f'Predicted{label}' for label in labels]\n",
        "    indices = [f'Actual{label}' for label in labels]\n",
        "    table = pd.DataFrame(confusion_matrix(y_true, y_pred), columns = column, index=indices)\n",
        "    return sns.heatmap(table, annot = True, fmt = 'd', cmap = 'mako' )\n",
        "\n",
        "plot(y_test, y_pred_lr)"
      ]
    },
    {
      "cell_type": "markdown",
      "metadata": {
        "id": "LuNb9VdZWKIr"
      },
      "source": [
        "# **Oversampling**"
      ]
    },
    {
      "cell_type": "code",
      "execution_count": 10,
      "metadata": {
        "colab": {
          "base_uri": "https://localhost:8080/"
        },
        "id": "756SLNTF_rO8",
        "outputId": "42ddd27d-e7a9-49d8-bf77-83b0d7c78dce"
      },
      "outputs": [
        {
          "name": "stdout",
          "output_type": "stream",
          "text": [
            "Before oversampling {0: 489754, 1: 79208}\n"
          ]
        },
        {
          "ename": "AttributeError",
          "evalue": "'DataFrame' object has no attribute 'name'",
          "output_type": "error",
          "traceback": [
            "\u001b[1;31m---------------------------------------------------------------------------\u001b[0m",
            "\u001b[1;31mAttributeError\u001b[0m                            Traceback (most recent call last)",
            "Cell \u001b[1;32mIn [10], line 9\u001b[0m\n\u001b[0;32m      6\u001b[0m \u001b[39mprint\u001b[39m(\u001b[39m\"\u001b[39m\u001b[39mBefore oversampling\u001b[39m\u001b[39m\"\u001b[39m,y_train_dict_value_count)\n\u001b[0;32m      8\u001b[0m sm \u001b[39m=\u001b[39m SMOTE(random_state\u001b[39m=\u001b[39m\u001b[39m12\u001b[39m)\n\u001b[1;32m----> 9\u001b[0m x_train_sm, y_train_sm \u001b[39m=\u001b[39m sm\u001b[39m.\u001b[39mfit_resample(x_train, y_train)\n\u001b[0;32m     11\u001b[0m \u001b[39m# Seeing the value count after oversampling\u001b[39;00m\n\u001b[0;32m     12\u001b[0m unique, count \u001b[39m=\u001b[39m np\u001b[39m.\u001b[39munique(y_train_sm, return_counts \u001b[39m=\u001b[39m \u001b[39mTrue\u001b[39;00m)\n",
            "File \u001b[1;32mc:\\Users\\mashr\\AppData\\Local\\Programs\\Python\\Python310\\lib\\site-packages\\imblearn\\base.py:75\u001b[0m, in \u001b[0;36mSamplerMixin.fit_resample\u001b[1;34m(self, X, y)\u001b[0m\n\u001b[0;32m     54\u001b[0m \u001b[39m\"\"\"Resample the dataset.\u001b[39;00m\n\u001b[0;32m     55\u001b[0m \n\u001b[0;32m     56\u001b[0m \u001b[39mParameters\u001b[39;00m\n\u001b[1;32m   (...)\u001b[0m\n\u001b[0;32m     72\u001b[0m \u001b[39m    The corresponding label of `X_resampled`.\u001b[39;00m\n\u001b[0;32m     73\u001b[0m \u001b[39m\"\"\"\u001b[39;00m\n\u001b[0;32m     74\u001b[0m check_classification_targets(y)\n\u001b[1;32m---> 75\u001b[0m X, y, binarize_y \u001b[39m=\u001b[39m \u001b[39mself\u001b[39;49m\u001b[39m.\u001b[39;49m_check_X_y(X, y)\n\u001b[0;32m     77\u001b[0m \u001b[39mself\u001b[39m\u001b[39m.\u001b[39msampling_strategy_ \u001b[39m=\u001b[39m check_sampling_strategy(\n\u001b[0;32m     78\u001b[0m     \u001b[39mself\u001b[39m\u001b[39m.\u001b[39msampling_strategy, y, \u001b[39mself\u001b[39m\u001b[39m.\u001b[39m_sampling_type\n\u001b[0;32m     79\u001b[0m )\n\u001b[0;32m     81\u001b[0m output \u001b[39m=\u001b[39m \u001b[39mself\u001b[39m\u001b[39m.\u001b[39m_fit_resample(X, y)\n",
            "File \u001b[1;32mc:\\Users\\mashr\\AppData\\Local\\Programs\\Python\\Python310\\lib\\site-packages\\imblearn\\base.py:150\u001b[0m, in \u001b[0;36mBaseSampler._check_X_y\u001b[1;34m(self, X, y, accept_sparse)\u001b[0m\n\u001b[0;32m    146\u001b[0m     \u001b[39mself\u001b[39m\u001b[39m.\u001b[39m_X_dtypes \u001b[39m=\u001b[39m \u001b[39mNone\u001b[39;00m\n\u001b[0;32m    148\u001b[0m \u001b[39mif\u001b[39;00m \u001b[39mhasattr\u001b[39m(y, \u001b[39m\"\u001b[39m\u001b[39mloc\u001b[39m\u001b[39m\"\u001b[39m):\n\u001b[0;32m    149\u001b[0m     \u001b[39m# store information to build a series\u001b[39;00m\n\u001b[1;32m--> 150\u001b[0m     \u001b[39mself\u001b[39m\u001b[39m.\u001b[39m_y_name \u001b[39m=\u001b[39m y\u001b[39m.\u001b[39;49mname\n\u001b[0;32m    151\u001b[0m     \u001b[39mself\u001b[39m\u001b[39m.\u001b[39m_y_dtype \u001b[39m=\u001b[39m y\u001b[39m.\u001b[39mdtype\n\u001b[0;32m    152\u001b[0m \u001b[39melse\u001b[39;00m:\n",
            "File \u001b[1;32mc:\\Users\\mashr\\AppData\\Local\\Programs\\Python\\Python310\\lib\\site-packages\\pandas\\core\\generic.py:5907\u001b[0m, in \u001b[0;36mNDFrame.__getattr__\u001b[1;34m(self, name)\u001b[0m\n\u001b[0;32m   5900\u001b[0m \u001b[39mif\u001b[39;00m (\n\u001b[0;32m   5901\u001b[0m     name \u001b[39mnot\u001b[39;00m \u001b[39min\u001b[39;00m \u001b[39mself\u001b[39m\u001b[39m.\u001b[39m_internal_names_set\n\u001b[0;32m   5902\u001b[0m     \u001b[39mand\u001b[39;00m name \u001b[39mnot\u001b[39;00m \u001b[39min\u001b[39;00m \u001b[39mself\u001b[39m\u001b[39m.\u001b[39m_metadata\n\u001b[0;32m   5903\u001b[0m     \u001b[39mand\u001b[39;00m name \u001b[39mnot\u001b[39;00m \u001b[39min\u001b[39;00m \u001b[39mself\u001b[39m\u001b[39m.\u001b[39m_accessors\n\u001b[0;32m   5904\u001b[0m     \u001b[39mand\u001b[39;00m \u001b[39mself\u001b[39m\u001b[39m.\u001b[39m_info_axis\u001b[39m.\u001b[39m_can_hold_identifiers_and_holds_name(name)\n\u001b[0;32m   5905\u001b[0m ):\n\u001b[0;32m   5906\u001b[0m     \u001b[39mreturn\u001b[39;00m \u001b[39mself\u001b[39m[name]\n\u001b[1;32m-> 5907\u001b[0m \u001b[39mreturn\u001b[39;00m \u001b[39mobject\u001b[39;49m\u001b[39m.\u001b[39;49m\u001b[39m__getattribute__\u001b[39;49m(\u001b[39mself\u001b[39;49m, name)\n",
            "\u001b[1;31mAttributeError\u001b[0m: 'DataFrame' object has no attribute 'name'"
          ]
        }
      ],
      "source": [
        "from imblearn.over_sampling import SMOTE\n",
        "import numpy as np\n",
        "#Seeing the value count before oversampling\n",
        "unique, count = np.unique(y_train, return_counts = True)\n",
        "y_train_dict_value_count = {k:v for (k,v) in zip(unique, count)}\n",
        "print(\"Before oversampling\",y_train_dict_value_count)\n",
        "\n",
        "sm = SMOTE(random_state=12)\n",
        "x_train_sm, y_train_sm = sm.fit_resample(x_train, y_train)\n",
        "\n",
        "# Seeing the value count after oversampling\n",
        "unique, count = np.unique(y_train_sm, return_counts = True)\n",
        "y_train_smote_value_count = {k:v for (k,v) in zip(unique, count)}\n",
        "print(\"After oversampling\",y_train_smote_value_count)"
      ]
    },
    {
      "cell_type": "code",
      "execution_count": 12,
      "metadata": {
        "colab": {
          "base_uri": "https://localhost:8080/"
        },
        "id": "mU-NkHuP6cLi",
        "outputId": "7a3f27cf-a3a2-44b5-8a61-24c3de1640fd"
      },
      "outputs": [
        {
          "name": "stdout",
          "output_type": "stream",
          "text": [
            "[1 0 1 ... 1 0 1]\n",
            "Accuracy of Logistic Regression :  52.66910599650435 %\n",
            "f1_score of Logistic Regression :  53.33569536263859 %\n",
            "AUC: 0.53\n"
          ]
        }
      ],
      "source": [
        "for train_index, test_index in skf.split(x_train_sm, y_train_sm):\n",
        "    x_train, x_test, y_train, y_test = x_train_sm.iloc[train_index], x_train_sm.iloc[test_index], y_train_sm.iloc[train_index], y_train_sm.iloc[test_index]\n",
        "\n",
        "lr = LogisticRegression(class_weight=\"balanced\")\n",
        "lr.fit(x_train, y_train) #Training the model\n",
        "y_pred_lr = lr.predict(x_test)\n",
        "print(y_pred_lr)# printing predictions\n",
        "\n",
        "\n",
        "#Accuracy Score\n",
        "\n",
        "from sklearn.metrics import accuracy_score\n",
        "ovr_lrAccuracy = round(accuracy_score(y_test, y_pred_lr)*100,2)\n",
        "print(\"Accuracy of lr after oversampling:\",ovr_lrAccuracy)\n",
        "\n",
        "#F1 Score\n",
        "\n",
        "from sklearn.metrics import f1_score\n",
        "ovr_lrF1 = round(f1_score(y_test, y_pred_lr)*100,2)\n",
        "print(\"f1_score of lr after oversampling:\",ovr_lrF1)\n",
        "\n",
        "#AUC Score\n",
        "\n",
        "from sklearn.metrics import roc_auc_score\n",
        "ovr_lrAuc = round(roc_auc_score (y_test, y_pred_lr)*100,2)\n",
        "print('AUC Score of lr after oversampling:', ovr_lrAuc)"
      ]
    },
    {
      "cell_type": "code",
      "execution_count": 13,
      "metadata": {
        "colab": {
          "base_uri": "https://localhost:8080/",
          "height": 457
        },
        "id": "5dcL_vYZx5gM",
        "outputId": "cf361b80-07cf-49d8-cabb-7dd5aa1fedc5"
      },
      "outputs": [
        {
          "data": {
            "image/png": "[encoded data removed]",
            "text/plain": [
              "<Figure size 500x500 with 1 Axes>"
            ]
          },
          "metadata": {
            "needs_background": "light"
          },
          "output_type": "display_data"
        }
      ],
      "source": [
        "#ROC CURVE:\n",
        "from sklearn.metrics import roc_curve, auc, confusion_matrix\n",
        "\n",
        "logistic_fpr, logistic_tpr, threshold = roc_curve(y_test, y_pred_lr)\n",
        "auc_logistic = auc(logistic_fpr, logistic_tpr)\n",
        "\n",
        "plt.figure(figsize=(5, 5), dpi=100)\n",
        "plt.plot(logistic_fpr, logistic_tpr, marker='.', label='Logistic ovr (auc = %0.3f)' % auc_logistic)\n",
        "\n",
        "plt.xlabel('False Positive Rate -->')\n",
        "plt.ylabel('True Positive Rate -->')\n",
        "\n",
        "plt.legend()\n",
        "\n",
        "plt.show()\n"
      ]
    },
    {
      "cell_type": "code",
      "execution_count": 14,
      "metadata": {
        "colab": {
          "base_uri": "https://localhost:8080/"
        },
        "id": "WWr97bU47vwZ",
        "outputId": "b280bb3a-10a4-4f51-b378-945bc4887fb5"
      },
      "outputs": [
        {
          "data": {
            "text/plain": [
              "array([[31369, 29850],\n",
              "       [28101, 33118]])"
            ]
          },
          "execution_count": 14,
          "metadata": {},
          "output_type": "execute_result"
        }
      ],
      "source": [
        "import seaborn as sns\n",
        "from sklearn.metrics import confusion_matrix\n",
        "from sklearn.utils.multiclass import unique_labels\n",
        "def plot(y_true, y_pred):\n",
        "    labels = unique_labels(y_test)\n",
        "    column = [f'Predicted{label}' for label in labels]\n",
        "    indices = [f'Actual{label}' for label in labels]\n",
        "    table = pd.DataFrame(confusion_matrix(y_true, y_pred), columns = column, index=indices)\n",
        "    return sns.heatmap(table, annot = True, fmt = 'd', cmap = 'mako' )\n",
        "\n",
        "plot(y_test, y_pred_lr)"
      ]
    },
    {
      "cell_type": "markdown",
      "metadata": {
        "id": "c_h1HjlyxVZK"
      },
      "source": [
        "# Result when we use undersampling on the data"
      ]
    },
    {
      "cell_type": "code",
      "execution_count": 11,
      "metadata": {
        "id": "ttT3XOz6xVZK"
      },
      "outputs": [],
      "source": [
        "x=mBusData[['temperature',\t'pressure',\t'humidity']]\n",
        "y=mBusData[['label' ]]"
      ]
    },
    {
      "cell_type": "code",
      "execution_count": 12,
      "metadata": {
        "colab": {
          "base_uri": "https://localhost:8080/"
        },
        "id": "5BymBGHSydIs",
        "outputId": "cf880e65-c85c-43b1-ea02-26548f7aa3cf"
      },
      "outputs": [
        {
          "name": "stdout",
          "output_type": "stream",
          "text": [
            "Before undersampling Counter({'label': 1})\n"
          ]
        },
        {
          "ename": "AttributeError",
          "evalue": "'DataFrame' object has no attribute 'name'",
          "output_type": "error",
          "traceback": [
            "\u001b[1;31m---------------------------------------------------------------------------\u001b[0m",
            "\u001b[1;31mAttributeError\u001b[0m                            Traceback (most recent call last)",
            "Cell \u001b[1;32mIn [12], line 12\u001b[0m\n\u001b[0;32m      9\u001b[0m \u001b[39mprint\u001b[39m(\u001b[39m\"\u001b[39m\u001b[39mBefore undersampling\u001b[39m\u001b[39m\"\u001b[39m, Counter(y_train))\n\u001b[0;32m     11\u001b[0m rus \u001b[39m=\u001b[39m RandomUnderSampler(random_state\u001b[39m=\u001b[39m\u001b[39m12\u001b[39m)\n\u001b[1;32m---> 12\u001b[0m x_unsampled, y_unsampled \u001b[39m=\u001b[39m rus\u001b[39m.\u001b[39mfit_resample(x_train, y_train)\n\u001b[0;32m     14\u001b[0m \u001b[39m# Seeing the value count after oversampling\u001b[39;00m\n\u001b[0;32m     15\u001b[0m \u001b[39mprint\u001b[39m(\u001b[39m\"\u001b[39m\u001b[39mAfter undersampling\u001b[39m\u001b[39m\"\u001b[39m,Counter(y_unsampled))\n",
            "File \u001b[1;32mc:\\Users\\mashr\\AppData\\Local\\Programs\\Python\\Python310\\lib\\site-packages\\imblearn\\base.py:75\u001b[0m, in \u001b[0;36mSamplerMixin.fit_resample\u001b[1;34m(self, X, y)\u001b[0m\n\u001b[0;32m     54\u001b[0m \u001b[39m\"\"\"Resample the dataset.\u001b[39;00m\n\u001b[0;32m     55\u001b[0m \n\u001b[0;32m     56\u001b[0m \u001b[39mParameters\u001b[39;00m\n\u001b[1;32m   (...)\u001b[0m\n\u001b[0;32m     72\u001b[0m \u001b[39m    The corresponding label of `X_resampled`.\u001b[39;00m\n\u001b[0;32m     73\u001b[0m \u001b[39m\"\"\"\u001b[39;00m\n\u001b[0;32m     74\u001b[0m check_classification_targets(y)\n\u001b[1;32m---> 75\u001b[0m X, y, binarize_y \u001b[39m=\u001b[39m \u001b[39mself\u001b[39;49m\u001b[39m.\u001b[39;49m_check_X_y(X, y)\n\u001b[0;32m     77\u001b[0m \u001b[39mself\u001b[39m\u001b[39m.\u001b[39msampling_strategy_ \u001b[39m=\u001b[39m check_sampling_strategy(\n\u001b[0;32m     78\u001b[0m     \u001b[39mself\u001b[39m\u001b[39m.\u001b[39msampling_strategy, y, \u001b[39mself\u001b[39m\u001b[39m.\u001b[39m_sampling_type\n\u001b[0;32m     79\u001b[0m )\n\u001b[0;32m     81\u001b[0m output \u001b[39m=\u001b[39m \u001b[39mself\u001b[39m\u001b[39m.\u001b[39m_fit_resample(X, y)\n",
            "File \u001b[1;32mc:\\Users\\mashr\\AppData\\Local\\Programs\\Python\\Python310\\lib\\site-packages\\imblearn\\under_sampling\\_prototype_selection\\_random_under_sampler.py:94\u001b[0m, in \u001b[0;36mRandomUnderSampler._check_X_y\u001b[1;34m(self, X, y)\u001b[0m\n\u001b[0;32m     90\u001b[0m     \u001b[39mself\u001b[39m\u001b[39m.\u001b[39m_X_dtypes \u001b[39m=\u001b[39m \u001b[39mNone\u001b[39;00m\n\u001b[0;32m     92\u001b[0m \u001b[39mif\u001b[39;00m \u001b[39mhasattr\u001b[39m(y, \u001b[39m\"\u001b[39m\u001b[39mloc\u001b[39m\u001b[39m\"\u001b[39m):\n\u001b[0;32m     93\u001b[0m     \u001b[39m# store information to build a series\u001b[39;00m\n\u001b[1;32m---> 94\u001b[0m     \u001b[39mself\u001b[39m\u001b[39m.\u001b[39m_y_name \u001b[39m=\u001b[39m y\u001b[39m.\u001b[39;49mname\n\u001b[0;32m     95\u001b[0m     \u001b[39mself\u001b[39m\u001b[39m.\u001b[39m_y_dtype \u001b[39m=\u001b[39m y\u001b[39m.\u001b[39mdtype\n\u001b[0;32m     96\u001b[0m \u001b[39melse\u001b[39;00m:\n",
            "File \u001b[1;32mc:\\Users\\mashr\\AppData\\Local\\Programs\\Python\\Python310\\lib\\site-packages\\pandas\\core\\generic.py:5907\u001b[0m, in \u001b[0;36mNDFrame.__getattr__\u001b[1;34m(self, name)\u001b[0m\n\u001b[0;32m   5900\u001b[0m \u001b[39mif\u001b[39;00m (\n\u001b[0;32m   5901\u001b[0m     name \u001b[39mnot\u001b[39;00m \u001b[39min\u001b[39;00m \u001b[39mself\u001b[39m\u001b[39m.\u001b[39m_internal_names_set\n\u001b[0;32m   5902\u001b[0m     \u001b[39mand\u001b[39;00m name \u001b[39mnot\u001b[39;00m \u001b[39min\u001b[39;00m \u001b[39mself\u001b[39m\u001b[39m.\u001b[39m_metadata\n\u001b[0;32m   5903\u001b[0m     \u001b[39mand\u001b[39;00m name \u001b[39mnot\u001b[39;00m \u001b[39min\u001b[39;00m \u001b[39mself\u001b[39m\u001b[39m.\u001b[39m_accessors\n\u001b[0;32m   5904\u001b[0m     \u001b[39mand\u001b[39;00m \u001b[39mself\u001b[39m\u001b[39m.\u001b[39m_info_axis\u001b[39m.\u001b[39m_can_hold_identifiers_and_holds_name(name)\n\u001b[0;32m   5905\u001b[0m ):\n\u001b[0;32m   5906\u001b[0m     \u001b[39mreturn\u001b[39;00m \u001b[39mself\u001b[39m[name]\n\u001b[1;32m-> 5907\u001b[0m \u001b[39mreturn\u001b[39;00m \u001b[39mobject\u001b[39;49m\u001b[39m.\u001b[39;49m\u001b[39m__getattribute__\u001b[39;49m(\u001b[39mself\u001b[39;49m, name)\n",
            "\u001b[1;31mAttributeError\u001b[0m: 'DataFrame' object has no attribute 'name'"
          ]
        }
      ],
      "source": [
        "for train_index, test_index in skf.split(x, y):\n",
        "    x_train, x_test, y_train, y_test = x.iloc[train_index], x.iloc[test_index], y.iloc[train_index], y.iloc[test_index]\n",
        "\n",
        "from imblearn.under_sampling import RandomUnderSampler\n",
        "import numpy as np\n",
        "from collections import Counter\n",
        "\n",
        "#Seeing the value count before oversampling\n",
        "print(\"Before undersampling\", Counter(y_train))\n",
        "\n",
        "rus = RandomUnderSampler(random_state=12)\n",
        "x_unsampled, y_unsampled = rus.fit_resample(x_train, y_train)\n",
        "\n",
        "# Seeing the value count after oversampling\n",
        "print(\"After undersampling\",Counter(y_unsampled))"
      ]
    },
    {
      "cell_type": "code",
      "execution_count": 18,
      "metadata": {
        "colab": {
          "base_uri": "https://localhost:8080/"
        },
        "id": "ErugYg5vxVZL",
        "outputId": "040b3ed7-7497-4515-eef9-085ec97caab8"
      },
      "outputs": [
        {
          "name": "stdout",
          "output_type": "stream",
          "text": [
            "[0 1 0 ... 1 1 1]\n",
            "Accuracy of Logistic Regression :  53.186546813453184 %\n",
            "f1_score of Logistic Regression :  53.77019748653501 %\n",
            "AUC: 0.53\n"
          ]
        }
      ],
      "source": [
        "# --------------------------Logistic Reg -----------------------------------\n",
        "\n",
        "for train_index, test_index in skf.split(x_unsampled, y_unsampled):\n",
        "    x_train, x_test, y_train, y_test = x_unsampled.iloc[train_index], x_unsampled.iloc[test_index], y_unsampled.iloc[train_index], y_unsampled.iloc[test_index]\n",
        "\n",
        "lr = LogisticRegression(class_weight=\"balanced\")\n",
        "lr.fit(x_train, y_train) #Training the model\n",
        "y_pred_lr = lr.predict(x_test)\n",
        "print(y_pred_lr)# printing predictions\n",
        "\n",
        "\n",
        "#Accuracy Score\n",
        "\n",
        "from sklearn.metrics import accuracy_score\n",
        "und_lrAccuracy = round(accuracy_score(y_test, y_pred_lr)*100,2)\n",
        "print(\"Accuracy of lr undersampled : \",und_lrAccuracy)\n",
        "\n",
        "#F1 Score\n",
        "\n",
        "from sklearn.metrics import f1_score\n",
        "und_lrF1 = round(f1_score(y_test, y_pred_lr)*100,2)\n",
        "print(\"f1_score of lr undersampled: \",und_lrF1)\n",
        "\n",
        "#AUC Score\n",
        "\n",
        "from sklearn.metrics import roc_auc_score\n",
        "try:\n",
        "  und_lrAuc = round(roc_auc_score (y_test, y_pred_lr)*100,2)\n",
        "  print('AUC Score of lr undersampled:', und_lrAuc)\n",
        "except ValueError:\n",
        "    pass"
      ]
    },
    {
      "cell_type": "code",
      "execution_count": 19,
      "metadata": {
        "colab": {
          "base_uri": "https://localhost:8080/",
          "height": 457
        },
        "id": "qYrXDsAi0EU-",
        "outputId": "3c756e24-cb15-419b-8b8d-50d7d480d9d7"
      },
      "outputs": [
        {
          "data": {
            "image/png": "[encoded data removed]",
            "text/plain": [
              "<Figure size 500x500 with 1 Axes>"
            ]
          },
          "metadata": {
            "needs_background": "light"
          },
          "output_type": "display_data"
        }
      ],
      "source": [
        "from sklearn.metrics import roc_curve, auc, confusion_matrix\n",
        "\n",
        "logistic_fpr, logistic_tpr, threshold = roc_curve(y_test, y_pred_lr)\n",
        "auc_logistic = auc(logistic_fpr, logistic_tpr)\n",
        "\n",
        "plt.figure(figsize=(5, 5), dpi=100)\n",
        "plt.plot(logistic_fpr, logistic_tpr, marker='.', label='Logistic und(auc = %0.3f)' % auc_logistic)\n",
        "\n",
        "plt.xlabel('False Positive Rate -->')\n",
        "plt.ylabel('True Positive Rate -->')\n",
        "\n",
        "plt.legend()\n",
        "\n",
        "plt.show()"
      ]
    },
    {
      "cell_type": "code",
      "execution_count": 20,
      "metadata": {
        "colab": {
          "base_uri": "https://localhost:8080/"
        },
        "id": "e1HVtW7x0Gpz",
        "outputId": "5754c020-3bd0-4869-e3df-84f0a2dfdcab"
      },
      "outputs": [
        {
          "data": {
            "text/plain": [
              "array([[5141, 4760],\n",
              "       [4510, 5391]])"
            ]
          },
          "execution_count": 20,
          "metadata": {},
          "output_type": "execute_result"
        }
      ],
      "source": [
        "import seaborn as sns\n",
        "from sklearn.metrics import confusion_matrix\n",
        "from sklearn.utils.multiclass import unique_labels\n",
        "def plot(y_true, y_pred):\n",
        "    labels = unique_labels(y_test)\n",
        "    column = [f'Predicted{label}' for label in labels]\n",
        "    indices = [f'Actual{label}' for label in labels]\n",
        "    table = pd.DataFrame(confusion_matrix(y_true, y_pred), columns = column, index=indices)\n",
        "    return sns.heatmap(table, annot = True, fmt = 'd', cmap = 'mako' )\n",
        "\n",
        "plot(y_test, y_pred_lr)"
      ]
    },
    {
      "cell_type": "code",
      "execution_count": null,
      "metadata": {},
      "outputs": [],
      "source": [
        "#Plotting a bar graph to compare the accuracy scores of the different scoring metrics\n",
        "all_accuracy_scores = [lrAccuracy, ovr_lrAccuracy, und_lrAccuracy]\n",
        "all_f1_scores = [lrF1, ovr_lrF1, und_lrF1]\n",
        "all_auc_roc_scores = [lrAuc, ovr_lrAuc, und_lrAuc]\n",
        "\n",
        "x_labels = ['Unbalanced', 'Oversampled', 'Undersampled']\n",
        "\n",
        "def autolabel(rectangle_group):\n",
        "    for rect in rectangle_group:\n",
        "        height = rect.get_height()\n",
        "\n",
        "        ax.annotate(str(height), xy = (rect.get_x(), height+.15))\n",
        "\n",
        "width = 0.2\n",
        "\n",
        "x_all_accuracy_score = [x-width for x in range (len(all_accuracy_scores))]\n",
        "x_all_f1_score = [x for x in range (len(all_f1_scores))]\n",
        "x_all_auc_roc_score = [x+width for x in range (len(all_auc_roc_scores))]\n",
        "\n",
        "fig,ax = plt.subplots(figsize = (8, 5))\n",
        "rect1 = ax.bar(x_all_accuracy_score ,all_accuracy_scores, width, label='Accuracy Score', color = 'red')\n",
        "rect2 = ax.bar(x_all_f1_score, all_f1_scores, width, label='F1 Score', color='navy')\n",
        "rect3 = ax.bar(x_all_auc_roc_score, all_auc_roc_scores, width, label='AUC ROC Score', color='lime')\n",
        "plt.xticks([x for x in range(len(x_labels))], x_labels)\n",
        "ax.set_title('Weather Logistic Regression')\n",
        "ax.set_xlabel('Sampling Method')\n",
        "ax.set_ylabel('Score %')\n",
        "plt.ylim([0, 70])\n",
        "ax.legend()\n",
        "\n",
        "autolabel(rect1)\n",
        "autolabel(rect2)\n",
        "autolabel(rect3)\n",
        "plt.show()"
      ]
    }
  ],
  "metadata": {
    "colab": {
      "provenance": []
    },
    "kernelspec": {
      "display_name": "Python 3",
      "language": "python",
      "name": "python3"
    },
    "language_info": {
      "codemirror_mode": {
        "name": "ipython",
        "version": 3
      },
      "file_extension": ".py",
      "mimetype": "text/x-python",
      "name": "python",
      "nbconvert_exporter": "python",
      "pygments_lexer": "ipython3",
      "version": "3.10.7 (tags/v3.10.7:6cc6b13, Sep  5 2022, 14:08:36) [MSC v.1933 64 bit (AMD64)]"
    },
    "orig_nbformat": 4,
    "vscode": {
      "interpreter": {
        "hash": "c6028a8a5a12648e78fa32d0f161bce4cccc9ded56ee541b56c5f14e4c0285c4"
      }
    }
  },
  "nbformat": 4,
  "nbformat_minor": 0
}
