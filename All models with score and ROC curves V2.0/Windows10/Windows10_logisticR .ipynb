{
  "cells": [
    {
      "cell_type": "code",
      "execution_count": 3,
      "metadata": {
        "id": "AnYlr_XlPr2P"
      },
      "outputs": [],
      "source": [
        "import numpy as np\n",
        "import pandas as pd\n",
        "import matplotlib.pyplot as plt\n",
        "import seaborn as sns\n",
        "import sklearn as sk\n",
        "from sklearn.tree import DecisionTreeClassifier\n",
        "from sklearn.linear_model import LogisticRegression\n",
        "from sklearn.metrics import classification_report\n",
        "from sklearn.metrics import accuracy_score\n",
        "from sklearn.model_selection import train_test_split"
      ]
    },
    {
      "cell_type": "code",
      "execution_count": 4,
      "metadata": {
        "colab": {
          "base_uri": "https://localhost:8080/"
        },
        "id": "GrwyxIdMli2h",
        "outputId": "84e87a2f-1ae2-4c32-83b4-80cf89412115"
      },
      "outputs": [],
      "source": [
        "# !pip install scikit-plot"
      ]
    },
    {
      "cell_type": "code",
      "execution_count": 5,
      "metadata": {
        "colab": {
          "base_uri": "https://localhost:8080/"
        },
        "id": "lke54zBmPx2Q",
        "outputId": "f56fdf80-daef-4873-f4d2-2f4993be3c1e"
      },
      "outputs": [],
      "source": [
        "\n",
        "# from google.colab import drive\n",
        "# drive.mount('/content/drive')"
      ]
    },
    {
      "cell_type": "code",
      "execution_count": 6,
      "metadata": {
        "colab": {
          "base_uri": "https://localhost:8080/",
          "height": 352
        },
        "id": "iWJQwYZbPz0H",
        "outputId": "59626898-9664-4395-a9c0-dc5039d581dc"
      },
      "outputs": [
        {
          "name": "stdout",
          "output_type": "stream",
          "text": [
            "(35975, 127)\n"
          ]
        },
        {
          "data": {
            "text/html": [
              "<div>\n",
              "<style scoped>\n",
              "    .dataframe tbody tr th:only-of-type {\n",
              "        vertical-align: middle;\n",
              "    }\n",
              "\n",
              "    .dataframe tbody tr th {\n",
              "        vertical-align: top;\n",
              "    }\n",
              "\n",
              "    .dataframe thead th {\n",
              "        text-align: right;\n",
              "    }\n",
              "</style>\n",
              "<table border=\"1\" class=\"dataframe\">\n",
              "  <thead>\n",
              "    <tr style=\"text-align: right;\">\n",
              "      <th></th>\n",
              "      <th>ts</th>\n",
              "      <th>Processor_DPC_Rate</th>\n",
              "      <th>Processor_pct_ Idle_Time</th>\n",
              "      <th>Processor_pct_ C3_Time</th>\n",
              "      <th>Processor_pct_ Interrupt_Time</th>\n",
              "      <th>Processor_pct_ C2_Time</th>\n",
              "      <th>Processor_pct_ User_Time</th>\n",
              "      <th>Processor_pct_ C1_Time</th>\n",
              "      <th>Processor_pct_ Processor_Time</th>\n",
              "      <th>Processor_C1_ransitions_sec</th>\n",
              "      <th>...</th>\n",
              "      <th>LogicalDisk(_Total) Avg  Disk Write Queue Length</th>\n",
              "      <th>LogicalDisk(_Total) Avg  Disk Queue Length</th>\n",
              "      <th>LogicalDisk(_Total) pct_ Disk Read Time</th>\n",
              "      <th>LogicalDisk(_Total) Disk Write Bytes sec</th>\n",
              "      <th>LogicalDisk(_Total) Disk Transfers sec</th>\n",
              "      <th>LogicalDisk(_Total) Avg  Disk Bytes Transfer</th>\n",
              "      <th>LogicalDisk(_Total) pct_ Disk Write Time</th>\n",
              "      <th>LogicalDisk(_Total) Avg  Disk sec Transfer</th>\n",
              "      <th>label</th>\n",
              "      <th>type</th>\n",
              "    </tr>\n",
              "  </thead>\n",
              "  <tbody>\n",
              "    <tr>\n",
              "      <th>0</th>\n",
              "      <td>1554206309</td>\n",
              "      <td>4</td>\n",
              "      <td>29.90817156</td>\n",
              "      <td>0</td>\n",
              "      <td>0.078240397</td>\n",
              "      <td>0</td>\n",
              "      <td>61.02750947</td>\n",
              "      <td>29.90817156</td>\n",
              "      <td>66.2001486</td>\n",
              "      <td>480.0949912</td>\n",
              "      <td>...</td>\n",
              "      <td>0.134876119</td>\n",
              "      <td>0.163098103</td>\n",
              "      <td>2.822198461</td>\n",
              "      <td>1924988.236</td>\n",
              "      <td>402.5827836</td>\n",
              "      <td>9100.481592</td>\n",
              "      <td>13.48761188</td>\n",
              "      <td>0.000405118</td>\n",
              "      <td>0</td>\n",
              "      <td>normal</td>\n",
              "    </tr>\n",
              "    <tr>\n",
              "      <th>1</th>\n",
              "      <td>1554206319</td>\n",
              "      <td>9</td>\n",
              "      <td>31.75168186</td>\n",
              "      <td>0</td>\n",
              "      <td>0.312520973</td>\n",
              "      <td>0</td>\n",
              "      <td>59.14459419</td>\n",
              "      <td>31.75168186</td>\n",
              "      <td>66.24773489</td>\n",
              "      <td>427.0412837</td>\n",
              "      <td>...</td>\n",
              "      <td>0.157564294</td>\n",
              "      <td>0.189279353</td>\n",
              "      <td>3.17150584</td>\n",
              "      <td>1497232.743</td>\n",
              "      <td>355.1343322</td>\n",
              "      <td>11153.55449</td>\n",
              "      <td>15.75642941</td>\n",
              "      <td>0.000532995</td>\n",
              "      <td>0</td>\n",
              "      <td>normal</td>\n",
              "    </tr>\n",
              "    <tr>\n",
              "      <th>2</th>\n",
              "      <td>1554206329</td>\n",
              "      <td>5</td>\n",
              "      <td>29.49516707</td>\n",
              "      <td>0</td>\n",
              "      <td>1.16822183</td>\n",
              "      <td>0</td>\n",
              "      <td>46.02794011</td>\n",
              "      <td>29.49516707</td>\n",
              "      <td>66.90038148</td>\n",
              "      <td>1159.426821</td>\n",
              "      <td>...</td>\n",
              "      <td>0.401773775</td>\n",
              "      <td>0.782471877</td>\n",
              "      <td>38.06981014</td>\n",
              "      <td>1854228.536</td>\n",
              "      <td>760.4317685</td>\n",
              "      <td>26994.26595</td>\n",
              "      <td>40.17737752</td>\n",
              "      <td>0.001028323</td>\n",
              "      <td>0</td>\n",
              "      <td>normal</td>\n",
              "    </tr>\n",
              "    <tr>\n",
              "      <th>3</th>\n",
              "      <td>1554206339</td>\n",
              "      <td>12</td>\n",
              "      <td>18.22437505</td>\n",
              "      <td>0</td>\n",
              "      <td>1.097191902</td>\n",
              "      <td>0</td>\n",
              "      <td>47.80621859</td>\n",
              "      <td>18.22437505</td>\n",
              "      <td>79.54520811</td>\n",
              "      <td>736.622011</td>\n",
              "      <td>...</td>\n",
              "      <td>0.259062331</td>\n",
              "      <td>0.768934004</td>\n",
              "      <td>50.98716725</td>\n",
              "      <td>15912390.29</td>\n",
              "      <td>699.4999538</td>\n",
              "      <td>53141.6638</td>\n",
              "      <td>25.90623311</td>\n",
              "      <td>0.001099429</td>\n",
              "      <td>0</td>\n",
              "      <td>normal</td>\n",
              "    </tr>\n",
              "    <tr>\n",
              "      <th>4</th>\n",
              "      <td>1554206349</td>\n",
              "      <td>12</td>\n",
              "      <td>14.86118688</td>\n",
              "      <td>0</td>\n",
              "      <td>1.562431019</td>\n",
              "      <td>0</td>\n",
              "      <td>41.8731513</td>\n",
              "      <td>14.86118688</td>\n",
              "      <td>82.73513724</td>\n",
              "      <td>896.1085985</td>\n",
              "      <td>...</td>\n",
              "      <td>0.103836186</td>\n",
              "      <td>1.081729712</td>\n",
              "      <td>97.7893526</td>\n",
              "      <td>23609299.7</td>\n",
              "      <td>1184.550425</td>\n",
              "      <td>40988.68444</td>\n",
              "      <td>10.38361856</td>\n",
              "      <td>0.000912738</td>\n",
              "      <td>0</td>\n",
              "      <td>normal</td>\n",
              "    </tr>\n",
              "  </tbody>\n",
              "</table>\n",
              "<p>5 rows × 127 columns</p>\n",
              "</div>"
            ],
            "text/plain": [
              "           ts  Processor_DPC_Rate Processor_pct_ Idle_Time  \\\n",
              "0  1554206309                   4              29.90817156   \n",
              "1  1554206319                   9              31.75168186   \n",
              "2  1554206329                   5              29.49516707   \n",
              "3  1554206339                  12              18.22437505   \n",
              "4  1554206349                  12              14.86118688   \n",
              "\n",
              "  Processor_pct_ C3_Time Processor_pct_ Interrupt_Time Processor_pct_ C2_Time  \\\n",
              "0                      0                   0.078240397                      0   \n",
              "1                      0                   0.312520973                      0   \n",
              "2                      0                    1.16822183                      0   \n",
              "3                      0                   1.097191902                      0   \n",
              "4                      0                   1.562431019                      0   \n",
              "\n",
              "  Processor_pct_ User_Time Processor_pct_ C1_Time  \\\n",
              "0              61.02750947            29.90817156   \n",
              "1              59.14459419            31.75168186   \n",
              "2              46.02794011            29.49516707   \n",
              "3              47.80621859            18.22437505   \n",
              "4               41.8731513            14.86118688   \n",
              "\n",
              "  Processor_pct_ Processor_Time Processor_C1_ransitions_sec  ...  \\\n",
              "0                    66.2001486                 480.0949912  ...   \n",
              "1                   66.24773489                 427.0412837  ...   \n",
              "2                   66.90038148                 1159.426821  ...   \n",
              "3                   79.54520811                  736.622011  ...   \n",
              "4                   82.73513724                 896.1085985  ...   \n",
              "\n",
              "  LogicalDisk(_Total) Avg  Disk Write Queue Length  \\\n",
              "0                                      0.134876119   \n",
              "1                                      0.157564294   \n",
              "2                                      0.401773775   \n",
              "3                                      0.259062331   \n",
              "4                                      0.103836186   \n",
              "\n",
              "  LogicalDisk(_Total) Avg  Disk Queue Length  \\\n",
              "0                                0.163098103   \n",
              "1                                0.189279353   \n",
              "2                                0.782471877   \n",
              "3                                0.768934004   \n",
              "4                                1.081729712   \n",
              "\n",
              "  LogicalDisk(_Total) pct_ Disk Read Time  \\\n",
              "0                             2.822198461   \n",
              "1                              3.17150584   \n",
              "2                             38.06981014   \n",
              "3                             50.98716725   \n",
              "4                              97.7893526   \n",
              "\n",
              "  LogicalDisk(_Total) Disk Write Bytes sec  \\\n",
              "0                              1924988.236   \n",
              "1                              1497232.743   \n",
              "2                              1854228.536   \n",
              "3                              15912390.29   \n",
              "4                               23609299.7   \n",
              "\n",
              "  LogicalDisk(_Total) Disk Transfers sec  \\\n",
              "0                            402.5827836   \n",
              "1                            355.1343322   \n",
              "2                            760.4317685   \n",
              "3                            699.4999538   \n",
              "4                            1184.550425   \n",
              "\n",
              "  LogicalDisk(_Total) Avg  Disk Bytes Transfer  \\\n",
              "0                                  9100.481592   \n",
              "1                                  11153.55449   \n",
              "2                                  26994.26595   \n",
              "3                                   53141.6638   \n",
              "4                                  40988.68444   \n",
              "\n",
              "   LogicalDisk(_Total) pct_ Disk Write Time  \\\n",
              "0                               13.48761188   \n",
              "1                               15.75642941   \n",
              "2                               40.17737752   \n",
              "3                               25.90623311   \n",
              "4                               10.38361856   \n",
              "\n",
              "  LogicalDisk(_Total) Avg  Disk sec Transfer  label    type  \n",
              "0                                0.000405118      0  normal  \n",
              "1                                0.000532995      0  normal  \n",
              "2                                0.001028323      0  normal  \n",
              "3                                0.001099429      0  normal  \n",
              "4                                0.000912738      0  normal  \n",
              "\n",
              "[5 rows x 127 columns]"
            ]
          },
          "execution_count": 6,
          "metadata": {},
          "output_type": "execute_result"
        }
      ],
      "source": [
        "# We will read our CSV file from our Google Drive and store it in a variable called windowsData\n",
        "import pandas as pd\n",
        "windowsData = pd.read_csv('D:/TON IOT/Processed_datasets/Processed_datasets/Processed_Windows_dataset/windows10_dataset.csv')\n",
        "print(windowsData.shape)\n",
        "windowsData.head()"
      ]
    },
    {
      "cell_type": "code",
      "execution_count": 7,
      "metadata": {
        "colab": {
          "base_uri": "https://localhost:8080/"
        },
        "id": "_0bAlF8vQQ9d",
        "outputId": "5b54946e-e115-406e-cac3-6940163ac1d3"
      },
      "outputs": [
        {
          "data": {
            "text/plain": [
              "0"
            ]
          },
          "execution_count": 7,
          "metadata": {},
          "output_type": "execute_result"
        }
      ],
      "source": [
        "# Counting the empty columns\n",
        "windowsData.isna().sum().sum()"
      ]
    },
    {
      "cell_type": "code",
      "execution_count": 8,
      "metadata": {
        "id": "m8-iAvv6Rlrr"
      },
      "outputs": [
        {
          "name": "stderr",
          "output_type": "stream",
          "text": [
            "C:\\Users\\mashr\\AppData\\Local\\Temp\\ipykernel_24268\\1588763478.py:14: FutureWarning: In a future version, `df.iloc[:, i] = newvals` will attempt to set the values inplace instead of always setting a new array. To retain the old behavior, use either `df[df.columns[i]] = newvals` or, if columns are non-unique, `df.isetitem(i, newvals)`\n",
            "  windowsData.iloc[:,1:126] = (windowsData.iloc[:,1:126]).astype(float)\n"
          ]
        }
      ],
      "source": [
        "from sklearn.impute import SimpleImputer\n",
        "impute = SimpleImputer(missing_values=np.nan, strategy='constant', fill_value=-1)\n",
        "from sklearn.impute import SimpleImputer\n",
        "impute = SimpleImputer(missing_values= ' ', strategy='constant', fill_value = -1)\n",
        "\n",
        "# Imputing Columns 1 to 24\n",
        "impute.fit(windowsData.iloc[:,1:126])\n",
        "windowsData.iloc[:,1:126] = impute.transform(windowsData.iloc[:,1:126])\n",
        "\n",
        "# Imputing Columns 1 to 24\n",
        "impute.fit(windowsData.iloc[:,1:126])\n",
        "windowsData.iloc[:,1:126] = impute.transform(windowsData.iloc[:,1:126])\n",
        "\n",
        "windowsData.iloc[:,1:126] = (windowsData.iloc[:,1:126]).astype(float)\n",
        "\n",
        "pd.set_option('display.max_rows', 129)"
      ]
    },
    {
      "cell_type": "code",
      "execution_count": 9,
      "metadata": {
        "id": "DUVsPK9LVh6V"
      },
      "outputs": [],
      "source": [
        "# #---corelation heatmap----\n",
        "# fig, ax = plt.subplots(figsize=(100,100))\n",
        "# sns.heatmap(windowsData.iloc[:,0:126].corr(),annot=True, linewidth = 10, ax=ax, fmt='.0%')"
      ]
    },
    {
      "cell_type": "code",
      "execution_count": 10,
      "metadata": {
        "id": "zUhBrtdRy0IM"
      },
      "outputs": [],
      "source": [
        "from sklearn.model_selection import StratifiedKFold\n",
        "skf = StratifiedKFold(n_splits=8, shuffle = True, random_state=3)"
      ]
    },
    {
      "cell_type": "code",
      "execution_count": 11,
      "metadata": {
        "id": "9-YlmtO5y_ca"
      },
      "outputs": [],
      "source": [
        "from sklearn.metrics import accuracy_score\n",
        "from sklearn import metrics\n",
        "# from sklearn.metrics import f1_score"
      ]
    },
    {
      "cell_type": "markdown",
      "metadata": {
        "id": "NsuNYd7hDc1N"
      },
      "source": [
        "#**Without Oversampling**"
      ]
    },
    {
      "cell_type": "code",
      "execution_count": 12,
      "metadata": {
        "id": "r_jIOj1WzCb7"
      },
      "outputs": [],
      "source": [
        "x = windowsData.drop(['ts','type','label'],axis=1)\n",
        "y = windowsData['label']"
      ]
    },
    {
      "cell_type": "markdown",
      "metadata": {
        "id": "Vp0bzLaBcHZs"
      },
      "source": [
        "# **Logistic Regression**"
      ]
    },
    {
      "cell_type": "code",
      "execution_count": 13,
      "metadata": {
        "colab": {
          "base_uri": "https://localhost:8080/"
        },
        "id": "cn9JnP_0ZNjC",
        "outputId": "8f8663cd-f885-4a90-a2dd-d32166091f7c"
      },
      "outputs": [
        {
          "name": "stdout",
          "output_type": "stream",
          "text": [
            "[0. 0. 0. ... 1. 1. 1.]\n",
            "Accuracy of LR:  79.31\n",
            "f1_score of LR:  72.58\n",
            "AUC Score of LR: 81.91\n"
          ]
        }
      ],
      "source": [
        "for train_index, test_index in skf.split(x, y):\n",
        "    x_train, x_test, y_train, y_test = x.iloc[train_index], x.iloc[test_index], y.iloc[train_index], y.iloc[test_index]\n",
        "    \n",
        "lr = LogisticRegression(class_weight=\"balanced\")\n",
        "lr.fit(x_train, y_train) #Training the model\n",
        "y_pred_lr = lr.predict(x_test)\n",
        "print(y_pred_lr)# printing predictions\n",
        "\n",
        "\n",
        "#Accuracy Score\n",
        "\n",
        "from sklearn.metrics import accuracy_score\n",
        "lrAccuracy = round(accuracy_score(y_test, y_pred_lr)*100,2)\n",
        "print(\"Accuracy of LR: \",lrAccuracy)\n",
        "\n",
        "#F1 Score\n",
        "\n",
        "from sklearn.metrics import f1_score\n",
        "lrF1 = round(f1_score(y_test, y_pred_lr)*100,2)\n",
        "print(\"f1_score of LR: \",lrF1)\n",
        "\n",
        "#AUC Score\n",
        "\n",
        "from sklearn.metrics import roc_auc_score\n",
        "lrAuc = round(roc_auc_score (y_test, y_pred_lr)*100,2)\n",
        "print('AUC Score of LR:',lrAuc)"
      ]
    },
    {
      "cell_type": "code",
      "execution_count": 14,
      "metadata": {
        "colab": {
          "base_uri": "https://localhost:8080/",
          "height": 457
        },
        "id": "1wuLkJ3eZ5RH",
        "outputId": "56bd26bc-7714-4421-ef7b-6db8b8b4664a"
      },
      "outputs": [
        {
          "data": {
            "image/png": "[encoded data removed]",
            "text/plain": [
              "<Figure size 500x500 with 1 Axes>"
            ]
          },
          "metadata": {},
          "output_type": "display_data"
        }
      ],
      "source": [
        "#ROC CURVE:\n",
        "from sklearn.metrics import roc_curve, auc\n",
        "\n",
        "logistic_fpr, logistic_tpr, threshold = roc_curve(y_test, y_pred_lr)\n",
        "auc_logistic = auc(logistic_fpr, logistic_tpr)\n",
        "\n",
        "plt.figure(figsize=(5, 5), dpi=100)\n",
        "plt.plot(logistic_fpr, logistic_tpr, marker='.', label='Logistic (auc = %0.3f)' % auc_logistic)\n",
        "\n",
        "plt.xlabel('False Positive Rate -->')\n",
        "plt.ylabel('True Positive Rate -->')\n",
        "\n",
        "plt.legend()\n",
        "\n",
        "plt.show()"
      ]
    },
    {
      "cell_type": "code",
      "execution_count": 15,
      "metadata": {
        "colab": {
          "base_uri": "https://localhost:8080/"
        },
        "id": "aYJNyiR_dMIF",
        "outputId": "409a4a10-6bff-40e3-de81-63d831e0dd25"
      },
      "outputs": [
        {
          "data": {
            "text/plain": [
              "<AxesSubplot: >"
            ]
          },
          "execution_count": 15,
          "metadata": {},
          "output_type": "execute_result"
        },
        {
          "data": {
            "image/png": "[encoded data removed]",
            "text/plain": [
              "<Figure size 640x480 with 2 Axes>"
            ]
          },
          "metadata": {},
          "output_type": "display_data"
        }
      ],
      "source": [
        "import seaborn as sns\n",
        "from sklearn.metrics import confusion_matrix\n",
        "from sklearn.utils.multiclass import unique_labels\n",
        "def plot(y_true, y_pred):\n",
        "    labels = unique_labels(y_test)\n",
        "    column = [f'Predicted{label}' for label in labels]\n",
        "    indices = [f'Actual{label}' for label in labels]\n",
        "    table = pd.DataFrame(confusion_matrix(y_true, y_pred), columns = column, index=indices)\n",
        "    return sns.heatmap(table, annot = True, fmt = 'd', cmap = 'mako' )\n",
        "\n",
        "plot(y_test, y_pred_lr)"
      ]
    },
    {
      "cell_type": "markdown",
      "metadata": {
        "id": "YlcBVhVHDW94"
      },
      "source": [
        "# **With OverSampling**"
      ]
    },
    {
      "cell_type": "code",
      "execution_count": 16,
      "metadata": {
        "colab": {
          "base_uri": "https://localhost:8080/"
        },
        "id": "Wiqp40OyzowG",
        "outputId": "f2c15931-aab7-45ca-dfa2-bf7274c69877"
      },
      "outputs": [
        {
          "name": "stdout",
          "output_type": "stream",
          "text": [
            "Before oversampling {0.0: 21763, 1.0: 9716}\n",
            "After oversampling {0.0: 21763, 1.0: 21763}\n"
          ]
        }
      ],
      "source": [
        "#OVersampling code\n",
        "from imblearn.over_sampling import SMOTE\n",
        "import numpy as np\n",
        "#Seeing the value count before oversampling\n",
        "unique, count = np.unique(y_train, return_counts = True)\n",
        "y_train_dict_value_count = {k:v for (k,v) in zip(unique, count)}\n",
        "print(\"Before oversampling\",y_train_dict_value_count)\n",
        "\n",
        "sm = SMOTE(random_state=12)\n",
        "x_train_sm, y_train_sm = sm.fit_resample(x_train, y_train)\n",
        "\n",
        "# Seeing the value count after oversampling\n",
        "unique, count = np.unique(y_train_sm, return_counts = True)\n",
        "y_train_smote_value_count = {k:v for (k,v) in zip(unique, count)}\n",
        "print(\"After oversampling\",y_train_smote_value_count)"
      ]
    },
    {
      "cell_type": "markdown",
      "metadata": {
        "id": "b2dFz801cdR_"
      },
      "source": [
        "# **Logistic Regression**"
      ]
    },
    {
      "cell_type": "code",
      "execution_count": 17,
      "metadata": {
        "colab": {
          "base_uri": "https://localhost:8080/"
        },
        "id": "rYYEDTHScdR_",
        "outputId": "f86e8126-fa36-4aca-d2df-f2b32fee06b3"
      },
      "outputs": [
        {
          "name": "stdout",
          "output_type": "stream",
          "text": [
            "[1. 1. 1. ... 1. 1. 1.]\n",
            "Accuracy of lr after oversampling: 59.03\n",
            "f1_score of lr after oversampling: 67.74\n",
            "AUC Score of lr after oversampling: 59.03\n"
          ]
        }
      ],
      "source": [
        "for train_index, test_index in skf.split(x_train_sm, y_train_sm):\n",
        "    x_train, x_test, y_train, y_test = x_train_sm.iloc[train_index], x_train_sm.iloc[test_index], y_train_sm.iloc[train_index], y_train_sm.iloc[test_index]\n",
        "\n",
        "lr = LogisticRegression(class_weight=\"balanced\")\n",
        "lr.fit(x_train, y_train) #Training the model\n",
        "y_pred_lr = lr.predict(x_test)\n",
        "print(y_pred_lr)# printing predictions\n",
        "\n",
        "\n",
        "#Accuracy Score\n",
        "\n",
        "from sklearn.metrics import accuracy_score\n",
        "ovr_lrAccuracy = round(accuracy_score(y_test, y_pred_lr)*100,2)\n",
        "print(\"Accuracy of lr after oversampling:\",ovr_lrAccuracy)\n",
        "\n",
        "#F1 Score\n",
        "\n",
        "from sklearn.metrics import f1_score\n",
        "ovr_lrF1 = round(f1_score(y_test, y_pred_lr)*100,2)\n",
        "print(\"f1_score of lr after oversampling:\",ovr_lrF1)\n",
        "\n",
        "#AUC Score\n",
        "\n",
        "from sklearn.metrics import roc_auc_score\n",
        "ovr_lrAuc = round(roc_auc_score (y_test, y_pred_lr)*100,2)\n",
        "print('AUC Score of lr after oversampling:', ovr_lrAuc)"
      ]
    },
    {
      "cell_type": "code",
      "execution_count": 18,
      "metadata": {
        "colab": {
          "base_uri": "https://localhost:8080/",
          "height": 457
        },
        "id": "NBpaA1iLcdSA",
        "outputId": "a37da0eb-a155-49dd-8851-cd6fdea0ee65"
      },
      "outputs": [
        {
          "data": {
            "image/png": "[encoded data removed]",
            "text/plain": [
              "<Figure size 500x500 with 1 Axes>"
            ]
          },
          "metadata": {},
          "output_type": "display_data"
        }
      ],
      "source": [
        "#ROC CURVE:\n",
        "from sklearn.metrics import roc_curve, auc, confusion_matrix\n",
        "\n",
        "logistic_fpr, logistic_tpr, threshold = roc_curve(y_test, y_pred_lr)\n",
        "auc_logistic = auc(logistic_fpr, logistic_tpr)\n",
        "\n",
        "plt.figure(figsize=(5, 5), dpi=100)\n",
        "plt.plot(logistic_fpr, logistic_tpr, marker='.', label='Logistic (auc = %0.3f)' % auc_logistic)\n",
        "\n",
        "plt.xlabel('False Positive Rate -->')\n",
        "plt.ylabel('True Positive Rate -->')\n",
        "\n",
        "plt.legend()\n",
        "\n",
        "plt.show()\n",
        "\n",
        "\n"
      ]
    },
    {
      "cell_type": "code",
      "execution_count": 19,
      "metadata": {
        "colab": {
          "base_uri": "https://localhost:8080/"
        },
        "id": "PEExDbCkd0ys",
        "outputId": "5832ddb0-7ef1-4c63-9d48-d558b9d98989"
      },
      "outputs": [
        {
          "data": {
            "text/plain": [
              "<AxesSubplot: >"
            ]
          },
          "execution_count": 19,
          "metadata": {},
          "output_type": "execute_result"
        },
        {
          "data": {
            "image/png": "[encoded data removed]",
            "text/plain": [
              "<Figure size 640x480 with 2 Axes>"
            ]
          },
          "metadata": {},
          "output_type": "display_data"
        }
      ],
      "source": [
        "import seaborn as sns\n",
        "from sklearn.metrics import confusion_matrix\n",
        "from sklearn.utils.multiclass import unique_labels\n",
        "def plot(y_true, y_pred):\n",
        "    labels = unique_labels(y_test)\n",
        "    column = [f'Predicted{label}' for label in labels]\n",
        "    indices = [f'Actual{label}' for label in labels]\n",
        "    table = pd.DataFrame(confusion_matrix(y_true, y_pred), columns = column, index=indices)\n",
        "    return sns.heatmap(table, annot = True, fmt = 'd', cmap = 'mako' )\n",
        "\n",
        "plot(y_test, y_pred_lr)"
      ]
    },
    {
      "cell_type": "markdown",
      "metadata": {
        "id": "DB9yLuSHYXus"
      },
      "source": [
        "# **undersampling on the data**"
      ]
    },
    {
      "cell_type": "code",
      "execution_count": 20,
      "metadata": {
        "id": "Rvi5Jh57fPy9"
      },
      "outputs": [],
      "source": [
        "x = windowsData.drop(['ts','type','label'],axis=1)\n",
        "y = windowsData['label']"
      ]
    },
    {
      "cell_type": "code",
      "execution_count": 21,
      "metadata": {
        "colab": {
          "base_uri": "https://localhost:8080/"
        },
        "id": "61asg-klhDaD",
        "outputId": "377e263f-c747-455e-d8d5-492ede8b950c"
      },
      "outputs": [
        {
          "name": "stdout",
          "output_type": "stream",
          "text": [
            "Before undersampling Counter({0.0: 21763, 1.0: 9716})\n",
            "After undersampling Counter({0.0: 9716, 1.0: 9716})\n"
          ]
        }
      ],
      "source": [
        "for train_index, test_index in skf.split(x, y):\n",
        "    x_train, x_test, y_train, y_test = x.iloc[train_index], x.iloc[test_index], y.iloc[train_index], y.iloc[test_index]\n",
        "\n",
        "from imblearn.under_sampling import RandomUnderSampler\n",
        "import numpy as np\n",
        "from collections import Counter\n",
        "\n",
        "#Seeing the value count before oversampling\n",
        "print(\"Before undersampling\", Counter(y_train))\n",
        "\n",
        "rus = RandomUnderSampler(random_state=12)\n",
        "x_unsampled, y_unsampled = rus.fit_resample(x_train, y_train)\n",
        "\n",
        "# Seeing the value count after oversampling\n",
        "print(\"After undersampling\",Counter(y_unsampled))"
      ]
    },
    {
      "cell_type": "markdown",
      "metadata": {
        "id": "R6itRUMOlRCT"
      },
      "source": [
        "**Logistic Regression**"
      ]
    },
    {
      "cell_type": "code",
      "execution_count": 22,
      "metadata": {
        "colab": {
          "base_uri": "https://localhost:8080/"
        },
        "id": "Ee06s7Q5eMQQ",
        "outputId": "0b7685ae-7548-43d0-e8fc-d75e9fd1e743"
      },
      "outputs": [
        {
          "name": "stdout",
          "output_type": "stream",
          "text": [
            "[1. 1. 1. ... 1. 1. 1.]\n",
            "Accuracy of lr undersampled :  57.88\n",
            "f1_score of lr undersampled:  66.77\n",
            "AUC Score of lr undersampled: 57.87\n"
          ]
        }
      ],
      "source": [
        "# --------------------------Logistic Reg -----------------------------------\n",
        "\n",
        "for train_index, test_index in skf.split(x_unsampled, y_unsampled):\n",
        "    x_train, x_test, y_train, y_test = x_unsampled.iloc[train_index], x_unsampled.iloc[test_index], y_unsampled.iloc[train_index], y_unsampled.iloc[test_index]\n",
        "\n",
        "lr = LogisticRegression(class_weight=\"balanced\")\n",
        "lr.fit(x_train, y_train) #Training the model\n",
        "y_pred_lr = lr.predict(x_test)\n",
        "print(y_pred_lr)# printing predictions\n",
        "\n",
        "\n",
        "#Accuracy Score\n",
        "\n",
        "from sklearn.metrics import accuracy_score\n",
        "und_lrAccuracy = round(accuracy_score(y_test, y_pred_lr)*100,2)\n",
        "print(\"Accuracy of lr undersampled : \",und_lrAccuracy)\n",
        "\n",
        "#F1 Score\n",
        "\n",
        "from sklearn.metrics import f1_score\n",
        "und_lrF1 = round(f1_score(y_test, y_pred_lr)*100,2)\n",
        "print(\"f1_score of lr undersampled: \",und_lrF1)\n",
        "\n",
        "#AUC Score\n",
        "\n",
        "from sklearn.metrics import roc_auc_score\n",
        "try:\n",
        "  und_lrAuc = round(roc_auc_score (y_test, y_pred_lr)*100,2)\n",
        "  print('AUC Score of lr undersampled:', und_lrAuc)\n",
        "except ValueError:\n",
        "    pass"
      ]
    },
    {
      "cell_type": "code",
      "execution_count": 23,
      "metadata": {},
      "outputs": [
        {
          "data": {
            "image/png": "[encoded data removed]",
            "text/plain": [
              "<Figure size 500x500 with 1 Axes>"
            ]
          },
          "metadata": {},
          "output_type": "display_data"
        }
      ],
      "source": [
        "from sklearn.metrics import roc_curve, auc, confusion_matrix\n",
        "\n",
        "logistic_fpr, logistic_tpr, threshold = roc_curve(y_test, y_pred_lr)\n",
        "auc_logistic = auc(logistic_fpr, logistic_tpr)\n",
        "\n",
        "plt.figure(figsize=(5, 5), dpi=100)\n",
        "plt.plot(logistic_fpr, logistic_tpr, marker='.', label='Logistic und(auc = %0.3f)' % auc_logistic)\n",
        "\n",
        "plt.xlabel('False Positive Rate -->')\n",
        "plt.ylabel('True Positive Rate -->')\n",
        "\n",
        "plt.legend()\n",
        "\n",
        "plt.show()"
      ]
    },
    {
      "cell_type": "code",
      "execution_count": 24,
      "metadata": {},
      "outputs": [
        {
          "data": {
            "text/plain": [
              "<AxesSubplot: >"
            ]
          },
          "execution_count": 24,
          "metadata": {},
          "output_type": "execute_result"
        },
        {
          "data": {
            "image/png": "[encoded data removed]",
            "text/plain": [
              "<Figure size 640x480 with 2 Axes>"
            ]
          },
          "metadata": {},
          "output_type": "display_data"
        }
      ],
      "source": [
        "import seaborn as sns\n",
        "from sklearn.metrics import confusion_matrix\n",
        "from sklearn.utils.multiclass import unique_labels\n",
        "def plot(y_true, y_pred):\n",
        "    labels = unique_labels(y_test)\n",
        "    column = [f'Predicted{label}' for label in labels]\n",
        "    indices = [f'Actual{label}' for label in labels]\n",
        "    table = pd.DataFrame(confusion_matrix(y_true, y_pred), columns = column, index=indices)\n",
        "    return sns.heatmap(table, annot = True, fmt = 'd', cmap = 'mako' )\n",
        "\n",
        "plot(y_test, y_pred_lr)"
      ]
    },
    {
      "cell_type": "code",
      "execution_count": 26,
      "metadata": {},
      "outputs": [
        {
          "data": {
            "image/png": "[encoded data removed]",
            "text/plain": [
              "<Figure size 800x500 with 1 Axes>"
            ]
          },
          "metadata": {},
          "output_type": "display_data"
        }
      ],
      "source": [
        "#Plotting a bar graph to compare the accuracy scores of the different scoring metrics\n",
        "all_accuracy_scores = [lrAccuracy, ovr_lrAccuracy, und_lrAccuracy]\n",
        "all_f1_scores = [lrF1, ovr_lrF1, und_lrF1]\n",
        "all_auc_roc_scores = [lrAuc, ovr_lrAuc, und_lrAuc]\n",
        "\n",
        "x_labels = ['Unbalanced', 'Oversampled', 'Undersampled']\n",
        "\n",
        "def autolabel(rectangle_group):\n",
        "    for rect in rectangle_group:\n",
        "        height = rect.get_height()\n",
        "\n",
        "        ax.annotate(str(height), xy = (rect.get_x(), height+.15))\n",
        "\n",
        "width = 0.2\n",
        "\n",
        "x_all_accuracy_score = [x-width for x in range (len(all_accuracy_scores))]\n",
        "x_all_f1_score = [x for x in range (len(all_f1_scores))]\n",
        "x_all_auc_roc_score = [x+width for x in range (len(all_auc_roc_scores))]\n",
        "\n",
        "fig,ax = plt.subplots(figsize = (8, 5))\n",
        "rect1 = ax.bar(x_all_accuracy_score ,all_accuracy_scores, width, label='Accuracy Score', color = 'red')\n",
        "rect2 = ax.bar(x_all_f1_score, all_f1_scores, width, label='F1 Score', color='navy')\n",
        "rect3 = ax.bar(x_all_auc_roc_score, all_auc_roc_scores, width, label='AUC ROC Score', color='lime')\n",
        "plt.xticks([x for x in range(len(x_labels))], x_labels)\n",
        "ax.set_title('Windows10 Logistic Regression')\n",
        "ax.set_xlabel('Sampling Method')\n",
        "ax.set_ylabel('Score %')\n",
        "plt.ylim([0, 90])\n",
        "ax.legend()\n",
        "\n",
        "autolabel(rect1)\n",
        "autolabel(rect2)\n",
        "autolabel(rect3)\n",
        "plt.show()"
      ]
    },
    {
      "cell_type": "markdown",
      "metadata": {
        "id": "ayd6hdQ2sMYd"
      },
      "source": [
        "#**Unnecessary**"
      ]
    },
    {
      "cell_type": "code",
      "execution_count": null,
      "metadata": {
        "id": "YprxwGL3lPXn"
      },
      "outputs": [],
      "source": [
        "# #ROC CURVE:\n",
        "# from sklearn.metrics import roc_curve, auc\n",
        "\n",
        "# logistic_fpr, logistic_tpr, threshold = roc_curve(y_test, y_pred_logistic)\n",
        "# auc_logistic = auc(logistic_fpr, logistic_tpr)\n",
        "\n",
        "# plt.figure(figsize=(5, 5), dpi=100)\n",
        "# plt.plot(logistic_fpr, logistic_tpr, marker='.', label='Logistic (auc = %0.3f)' % auc_logistic)\n",
        "\n",
        "# plt.xlabel('False Positive Rate -->')\n",
        "# plt.ylabel('True Positive Rate -->')\n",
        "\n",
        "# plt.legend()\n",
        "\n",
        "# plt.show()"
      ]
    },
    {
      "cell_type": "code",
      "execution_count": null,
      "metadata": {
        "id": "cZvC99ESPcO9"
      },
      "outputs": [],
      "source": [
        "# # --------------------------DecisionTree -----------------------------------\n",
        "# from sklearn.tree import DecisionTreeClassifier\n",
        "# from statistics import mean\n",
        "# DT_accuracy_scores = []\n",
        "# DT_f1_scores = []\n",
        "\n",
        "# for train_index, test_index in skf.split(x, y):\n",
        "#     x_train, x_test, y_train, y_test = x.iloc[train_index], x.iloc[test_index], y.iloc[train_index], y.iloc[test_index]\n",
        "\n",
        "#     DT_accuracy_scores.append(get_accuracy_score(DecisionTreeClassifier(), x_train, x_test, y_train, y_test))\n",
        "#     DT_f1_scores.append(get_f1_score(DecisionTreeClassifier(), x_train, x_test, y_train, y_test))\n",
        "\n",
        "# print('K-Fold Accuracy Score: ',mean(DT_accuracy_scores))\n",
        "# print('K-Fold F1 Score:', mean(DT_f1_scores))"
      ]
    },
    {
      "cell_type": "code",
      "execution_count": null,
      "metadata": {
        "id": "ErugYg5vxVZL"
      },
      "outputs": [],
      "source": [
        "# # --------------------------Logistic Reg -----------------------------------\n",
        "\n",
        "# und_x = under_sample.loc[:, windowsData.columns !=target]\n",
        "# und_y = under_sample.loc[:, windowsData.columns == target]\n",
        "\n",
        "# from sklearn.linear_model import LogisticRegression\n",
        "# from statistics import mean\n",
        "# lru_accuracy_scores = []\n",
        "# lru_f1_scores = []\n",
        "\n",
        "# for train_index, test_index in skf.split(und_x, und_y):\n",
        "#     x_train, x_test, y_train, y_test = und_x.iloc[train_index], und_x.iloc[test_index], und_y.iloc[train_index], und_y.iloc[test_index]\n",
        "#     lru_accuracy_scores.append(get_accuracy_score(LogisticRegression(solver='newton-cg'), x_train, x_test, y_train, y_test))\n",
        "#     lru_f1_scores.append(get_f1_score(LogisticRegression(solver='newton-cg'), x_train, x_test, y_train, y_test))\n",
        "\n",
        "# print('Accuracy Score:',mean(lru_accuracy_scores))\n",
        "# print('F1 Score:', mean(lru_f1_scores))"
      ]
    },
    {
      "cell_type": "code",
      "execution_count": null,
      "metadata": {
        "id": "k6dBzrkbW8Au"
      },
      "outputs": [],
      "source": [
        "# # --------------------------DecisionTree -----------------------------------\n",
        "# und_x = under_sample.loc[:, windowsData.columns !=target]\n",
        "# und_y = under_sample.loc[:, windowsData.columns == target]\n",
        "\n",
        "# from sklearn.tree import DecisionTreeClassifier\n",
        "# from statistics import mean\n",
        "# DT_accuracy_scores = []\n",
        "# DT_f1_scores = []\n",
        "\n",
        "# for train_index, test_index in skf.split(und_x, und_y):\n",
        "#     x_train, x_test, y_train, y_test = und_x.iloc[train_index], und_x.iloc[test_index], und_y.iloc[train_index], und_y.iloc[test_index]\n",
        "\n",
        "#     DT_accuracy_scores.append(get_accuracy_score(DecisionTreeClassifier(), x_train, x_test, y_train, y_test))\n",
        "#     DT_f1_scores.append(get_f1_score(DecisionTreeClassifier(), x_train, x_test, y_train, y_test))\n",
        "\n",
        "# print('K-Fold Accuracy Score: ',mean(DT_accuracy_scores))\n",
        "# print('K-Fold F1 Score:', mean(DT_f1_scores))"
      ]
    },
    {
      "cell_type": "code",
      "execution_count": null,
      "metadata": {
        "id": "1mxLcjuXPxly"
      },
      "outputs": [],
      "source": [
        "# # --------------------------DecisionTree -----------------------------------\n",
        "# from sklearn.tree import DecisionTreeClassifier\n",
        "# from statistics import mean\n",
        "# DT_accuracy_scores = []\n",
        "# DT_f1_scores = []\n",
        "\n",
        "# for train_index, test_index in skf.split(x_train_sm, y_train_sm):\n",
        "#     x_train, x_test, y_train, y_test = x_train_sm.iloc[train_index], x_train_sm.iloc[test_index], y_train_sm.iloc[train_index], y_train_sm.iloc[test_index]\n",
        "\n",
        "#     DT_accuracy_scores.append(get_accuracy_score(DecisionTreeClassifier(), x_train, x_test, y_train, y_test))\n",
        "#     DT_f1_scores.append(get_f1_score(DecisionTreeClassifier(), x_train, x_test, y_train, y_test))\n",
        "\n",
        "# print('K-Fold Accuracy Score: ',mean(DT_accuracy_scores))\n",
        "# print('K-Fold F1 Score:', mean(DT_f1_scores))"
      ]
    },
    {
      "cell_type": "code",
      "execution_count": null,
      "metadata": {
        "id": "6imQqtkFPtD7"
      },
      "outputs": [],
      "source": [
        "# # --------------------------Random Forest -----------------------------------\n",
        "# RF_accuracy_scores = []\n",
        "# RF_f1_scores = []\n",
        "\n",
        "# for train_index, test_index in skf.split(x_train_sm, y_train_sm):\n",
        "#     x_train, x_test, y_train, y_test = x_train_sm.iloc[train_index], x_train_sm.iloc[test_index], y_train_sm.iloc[train_index], y_train_sm.iloc[test_index]\n",
        "\n",
        "#     RF_accuracy_scores.append(get_accuracy_score(RandomForestClassifier(n_estimators=10, random_state=1), x_train, x_test, y_train, y_test))\n",
        "#     RF_f1_scores.append(get_f1_score(RandomForestClassifier(), x_train, x_test, y_train, y_test))\n",
        "\n",
        "# print('Accuracy Score after oversampling: ',mean(RF_accuracy_scores))\n",
        "# print('F1 Score after oversampling:', mean(RF_f1_scores))"
      ]
    },
    {
      "cell_type": "code",
      "execution_count": null,
      "metadata": {
        "id": "qfh9GrWNXI9p"
      },
      "outputs": [],
      "source": [
        "# # --------------------------Random Forest -----------------------------------\n",
        "# und_x = under_sample.loc[:, windowsData.columns !=target]\n",
        "# und_y = under_sample.loc[:, windowsData.columns == target]\n",
        "\n",
        "# from sklearn.ensemble import RandomForestClassifier\n",
        "# from statistics import mean\n",
        "# RF_accuracy_scores = []\n",
        "# RF_f1_scores = []\n",
        "\n",
        "# for train_index, test_index in skf.split(und_x, und_y):\n",
        "#     x_train, x_test, y_train, y_test = und_x.iloc[train_index], und_x.iloc[test_index], und_y.iloc[train_index], und_y.iloc[test_index]\n",
        "\n",
        "#     DT_accuracy_scores.append(get_accuracy_score(DecisionTreeClassifier(), x_train, x_test, y_train, y_test))\n",
        "#     DT_f1_scores.append(get_f1_score(DecisionTreeClassifier(), x_train, x_test, y_train, y_test))\n",
        "\n",
        "# print('K-Fold Accuracy Score: ',mean(RF_accuracy_scores))\n",
        "# print('K-Fold F1 Score:', mean(RF_f1_scores))"
      ]
    },
    {
      "cell_type": "code",
      "execution_count": null,
      "metadata": {
        "id": "4j-JTKKKFUr7"
      },
      "outputs": [],
      "source": [
        "# # --------------------------Logistic Reg -----------------------------------\n",
        "# from sklearn.linear_model import LogisticRegression\n",
        "# from statistics import mean\n",
        "# lr_accuracy_scores = []\n",
        "# lr_f1_scores = []\n",
        "\n",
        "# for train_index, test_index in skf.split(x_train_sm, y_train_sm):\n",
        "#     x_train, x_test, y_train, y_test = x_train_sm.iloc[train_index], x_train_sm.iloc[test_index], y_train_sm.iloc[train_index], y_train_sm.iloc[test_index]\n",
        "\n",
        "#     lr_accuracy_scores.append(get_accuracy_score(LogisticRegression(class_weight= 'balanced'), x_train, x_test, y_train, y_test))\n",
        "#     lr_f1_scores.append(get_f1_score(LogisticRegression(class_weight= 'balanced'), x_train, x_test, y_train, y_test))\n",
        "\n",
        "# print('K-Fold Accuracy Score: ',mean(lr_accuracy_scores))\n",
        "# print('K-Fold F1 Score:', mean(lr_f1_scores))"
      ]
    }
  ],
  "metadata": {
    "colab": {
      "collapsed_sections": [
        "ayd6hdQ2sMYd"
      ],
      "provenance": []
    },
    "kernelspec": {
      "display_name": "Python 3",
      "language": "python",
      "name": "python3"
    },
    "language_info": {
      "codemirror_mode": {
        "name": "ipython",
        "version": 3
      },
      "file_extension": ".py",
      "mimetype": "text/x-python",
      "name": "python",
      "nbconvert_exporter": "python",
      "pygments_lexer": "ipython3",
      "version": "3.10.7"
    },
    "vscode": {
      "interpreter": {
        "hash": "c6028a8a5a12648e78fa32d0f161bce4cccc9ded56ee541b56c5f14e4c0285c4"
      }
    }
  },
  "nbformat": 4,
  "nbformat_minor": 0
}
